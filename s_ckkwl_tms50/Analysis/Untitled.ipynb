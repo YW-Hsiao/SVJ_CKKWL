{
 "cells": [
  {
   "cell_type": "markdown",
   "metadata": {},
   "source": [
    "# Plot-1: main89 and DP8 Kinematics X-section\n",
    "Compare the kinematic properties of main89 with DP8 when y-axis with cross-section unit"
   ]
  },
  {
   "cell_type": "markdown",
   "metadata": {},
   "source": [
    "## 1. Import Packages"
   ]
  },
  {
   "cell_type": "code",
   "execution_count": 1,
   "metadata": {},
   "outputs": [],
   "source": [
    "# The Python Standard Library\n",
    "import os\n",
    "import sys\n",
    "import time\n",
    "import datetime\n",
    "import glob\n",
    "import multiprocessing as mp\n",
    "\n",
    "# The Third-Party Library\n",
    "import math\n",
    "import numpy as np\n",
    "import pandas as pd\n",
    "import matplotlib.pyplot as plt\n",
    "import tqdm\n",
    "import prettytable\n",
    "import uproot\n",
    "import pyjet\n",
    "import importlib\n",
    "\n",
    "# My Packages\n",
    "import myhep.particle_information_v2 as mypiv2\n",
    "import myhep.analytical_function_v2 as myafv2\n",
    "import myhep.particleinfo_v1 as mypiv1\n",
    "import myhep.particlefun_v1 as myafv1\n",
    "\n",
    "# increase figure showing resolution\n",
    "%config InlineBackend.figure_format = 'retina'"
   ]
  },
  {
   "cell_type": "markdown",
   "metadata": {},
   "source": [
    "## 2. Load the Data"
   ]
  },
  {
   "cell_type": "markdown",
   "metadata": {},
   "source": [
    "### 2-1. main89"
   ]
  },
  {
   "cell_type": "code",
   "execution_count": 2,
   "metadata": {},
   "outputs": [],
   "source": [
    "df_xdxdx_23_2 = pd.read_csv('analysis-1_ckkwl2/ana1_rinv3_Lambdad5_1_S23.csv')\n",
    "analyzed_data_2 = np.load('analysis-1_ckkwl2/ana1_rinv3_Lambdad5_1.npz')\n",
    "analyzed_data_Weight_2 = np.load('analysis-1_ckkwl2/ana1_rinv3_Lambdad5_1_Weight.npz', allow_pickle=True)\n",
    "\n",
    "df_xdxdx_23_3 = pd.read_csv('analysis-1_ckkwl3/ana1_rinv3_Lambdad5_1_S23.csv')\n",
    "analyzed_data_3 = np.load('analysis-1_ckkwl3/ana1_rinv3_Lambdad5_1.npz')\n",
    "analyzed_data_Weight_3 = np.load('analysis-1_ckkwl3/ana1_rinv3_Lambdad5_1_Weight.npz', allow_pickle=True)\n",
    "\n",
    "df_xdxdx_23_4 = pd.read_csv('analysis-1_ckkwl4/ana1_rinv3_Lambdad5_1_S23.csv')\n",
    "analyzed_data_4 = np.load('analysis-1_ckkwl4/ana1_rinv3_Lambdad5_1.npz')\n",
    "analyzed_data_Weight_4 = np.load('analysis-1_ckkwl4/ana1_rinv3_Lambdad5_1_Weight.npz', allow_pickle=True)\n",
    "\n",
    "df_xdxdx_23_8 = pd.read_csv('analysis-1_ckkwl8/ana1_rinv3_Lambdad5_1_S23.csv')\n",
    "analyzed_data_8 = np.load('analysis-1_ckkwl8/ana1_rinv3_Lambdad5_1.npz')\n",
    "analyzed_data_Weight_8 = np.load('analysis-1_ckkwl8/ana1_rinv3_Lambdad5_1_Weight.npz', allow_pickle=True)"
   ]
  },
  {
   "cell_type": "code",
   "execution_count": 3,
   "metadata": {},
   "outputs": [
    {
     "name": "stdout",
     "output_type": "stream",
     "text": [
      "['truth_jet', 'truth_jet_filterDM', 'truth_MET', 'detector_jet']\n",
      "['weight']\n"
     ]
    }
   ],
   "source": [
    "print(analyzed_data_4.files)\n",
    "print(analyzed_data_Weight_4.files)"
   ]
  },
  {
   "cell_type": "code",
   "execution_count": 4,
   "metadata": {},
   "outputs": [],
   "source": [
    "M_xdxdx_23_2 = df_xdxdx_23_2['M_xdxdx'].to_numpy()\n",
    "M_xdxdx_23_3 = df_xdxdx_23_3['M_xdxdx'].to_numpy()\n",
    "M_xdxdx_23_4 = df_xdxdx_23_4['M_xdxdx'].to_numpy()\n",
    "M_xdxdx_23_8 = df_xdxdx_23_8['M_xdxdx'].to_numpy()"
   ]
  },
  {
   "cell_type": "code",
   "execution_count": 5,
   "metadata": {},
   "outputs": [],
   "source": [
    "truth_jet_filterDM_2 = analyzed_data_2['truth_jet_filterDM']\n",
    "truth_MET_2 = analyzed_data_2['truth_MET']\n",
    "weight_2 = analyzed_data_Weight_2['weight']*10000*(10**9)\n",
    "# s=selected events, t=truth, j=jet,\n",
    "# f=filter, DM=dark matter, d=detector\n",
    "s_t_j_fDM_2 = truth_jet_filterDM_2[3].astype(np.int64)\n",
    "s_t_MET_2 = truth_MET_2[4].astype(np.int64)\n",
    "\n",
    "truth_jet_filterDM_3 = analyzed_data_3['truth_jet_filterDM']\n",
    "truth_MET_3 = analyzed_data_3['truth_MET']\n",
    "weight_3 = analyzed_data_Weight_3['weight']*10000*(10**9)\n",
    "# \n",
    "s_t_j_fDM_3 = truth_jet_filterDM_3[3].astype(np.int64)\n",
    "s_t_MET_3 = truth_MET_3[4].astype(np.int64)\n",
    "\n",
    "truth_jet_filterDM_4 = analyzed_data_4['truth_jet_filterDM']\n",
    "truth_MET_4 = analyzed_data_4['truth_MET']\n",
    "weight_4 = analyzed_data_Weight_4['weight']*10000*(10**9)\n",
    "# \n",
    "s_t_j_fDM_4 = truth_jet_filterDM_4[3].astype(np.int64)\n",
    "s_t_MET_4 = truth_MET_4[4].astype(np.int64)\n",
    "\n",
    "truth_jet_filterDM_8 = analyzed_data_8['truth_jet_filterDM']\n",
    "truth_MET_8 = analyzed_data_8['truth_MET']\n",
    "weight_8 = analyzed_data_Weight_8['weight']*10000*(10**9)\n",
    "# \n",
    "s_t_j_fDM_8 = truth_jet_filterDM_8[3].astype(np.int64)\n",
    "s_t_MET_8 = truth_MET_8[4].astype(np.int64)"
   ]
  },
  {
   "cell_type": "markdown",
   "metadata": {},
   "source": [
    "### 2-2. DP8\n",
    "8X = DP8_X, where X = 2, 3, 4, and 8"
   ]
  },
  {
   "cell_type": "code",
   "execution_count": 7,
   "metadata": {},
   "outputs": [],
   "source": [
    "df_xdxdx_23_82 = pd.read_csv('analysis-1_ckkwl82/_ck8_rinv3_Lambdad5_1_S23.csv')\n",
    "analyzed_data_82 = np.load('analysis-1_ckkwl82/_ck8_rinv3_Lambdad5_1.npz')\n",
    "analyzed_data_Weight_82 = np.load('analysis-1_ckkwl82/_ck8_rinv3_Lambdad5_1_Weight.npz', allow_pickle=True)\n",
    "\n",
    "# df_xdxdx_23_83 = pd.read_csv('analysis-1_ckkwl83/_ck8_rinv3_Lambdad5_1_S23.csv')\n",
    "# analyzed_data_83 = np.load('analysis-1_ckkwl83/_ck8_rinv3_Lambdad5_1.npz')\n",
    "# analyzed_data_Weight_83 = np.load('analysis-1_ckkwl83/_ck8_rinv3_Lambdad5_1_Weight.npz', allow_pickle=True)\n",
    "\n",
    "df_xdxdx_23_84 = pd.read_csv('analysis-1_ckkwl84/_ck8_rinv3_Lambdad5_1_S23.csv')\n",
    "analyzed_data_84 = np.load('analysis-1_ckkwl84/_ck8_rinv3_Lambdad5_1.npz')\n",
    "analyzed_data_Weight_84 = np.load('analysis-1_ckkwl84/_ck8_rinv3_Lambdad5_1_Weight.npz', allow_pickle=True)\n",
    "\n",
    "df_xdxdx_23_88 = pd.read_csv('analysis-1_ckkwl88/_ck8_rinv3_Lambdad5_1_S23.csv')\n",
    "analyzed_data_88 = np.load('analysis-1_ckkwl88/_ck8_rinv3_Lambdad5_1.npz')\n",
    "analyzed_data_Weight_88 = np.load('analysis-1_ckkwl88/_ck8_rinv3_Lambdad5_1_Weight.npz', allow_pickle=True)"
   ]
  },
  {
   "cell_type": "code",
   "execution_count": 8,
   "metadata": {},
   "outputs": [
    {
     "name": "stdout",
     "output_type": "stream",
     "text": [
      "['truth_jet', 'truth_jet_filterDM', 'truth_MET', 'detector_jet']\n",
      "['weight']\n"
     ]
    }
   ],
   "source": [
    "print(analyzed_data_84.files)\n",
    "print(analyzed_data_Weight_84.files)"
   ]
  },
  {
   "cell_type": "code",
   "execution_count": 9,
   "metadata": {},
   "outputs": [
    {
     "ename": "NameError",
     "evalue": "name 'df_xdxdx_23_83' is not defined",
     "output_type": "error",
     "traceback": [
      "\u001b[0;31m---------------------------------------------------------------------------\u001b[0m",
      "\u001b[0;31mNameError\u001b[0m                                 Traceback (most recent call last)",
      "\u001b[0;32m<ipython-input-9-2d45c9dab15a>\u001b[0m in \u001b[0;36m<module>\u001b[0;34m\u001b[0m\n\u001b[1;32m      1\u001b[0m \u001b[0mM_xdxdx_23_82\u001b[0m \u001b[0;34m=\u001b[0m \u001b[0mdf_xdxdx_23_82\u001b[0m\u001b[0;34m[\u001b[0m\u001b[0;34m'M_xdxdx'\u001b[0m\u001b[0;34m]\u001b[0m\u001b[0;34m.\u001b[0m\u001b[0mto_numpy\u001b[0m\u001b[0;34m(\u001b[0m\u001b[0;34m)\u001b[0m\u001b[0;34m\u001b[0m\u001b[0;34m\u001b[0m\u001b[0m\n\u001b[0;32m----> 2\u001b[0;31m \u001b[0mM_xdxdx_23_83\u001b[0m \u001b[0;34m=\u001b[0m \u001b[0mdf_xdxdx_23_83\u001b[0m\u001b[0;34m[\u001b[0m\u001b[0;34m'M_xdxdx'\u001b[0m\u001b[0;34m]\u001b[0m\u001b[0;34m.\u001b[0m\u001b[0mto_numpy\u001b[0m\u001b[0;34m(\u001b[0m\u001b[0;34m)\u001b[0m\u001b[0;34m\u001b[0m\u001b[0;34m\u001b[0m\u001b[0m\n\u001b[0m\u001b[1;32m      3\u001b[0m \u001b[0mM_xdxdx_23_84\u001b[0m \u001b[0;34m=\u001b[0m \u001b[0mdf_xdxdx_23_84\u001b[0m\u001b[0;34m[\u001b[0m\u001b[0;34m'M_xdxdx'\u001b[0m\u001b[0;34m]\u001b[0m\u001b[0;34m.\u001b[0m\u001b[0mto_numpy\u001b[0m\u001b[0;34m(\u001b[0m\u001b[0;34m)\u001b[0m\u001b[0;34m\u001b[0m\u001b[0;34m\u001b[0m\u001b[0m\n\u001b[1;32m      4\u001b[0m \u001b[0mM_xdxdx_23_88\u001b[0m \u001b[0;34m=\u001b[0m \u001b[0mdf_xdxdx_23_88\u001b[0m\u001b[0;34m[\u001b[0m\u001b[0;34m'M_xdxdx'\u001b[0m\u001b[0;34m]\u001b[0m\u001b[0;34m.\u001b[0m\u001b[0mto_numpy\u001b[0m\u001b[0;34m(\u001b[0m\u001b[0;34m)\u001b[0m\u001b[0;34m\u001b[0m\u001b[0;34m\u001b[0m\u001b[0m\n",
      "\u001b[0;31mNameError\u001b[0m: name 'df_xdxdx_23_83' is not defined"
     ]
    }
   ],
   "source": [
    "M_xdxdx_23_82 = df_xdxdx_23_82['M_xdxdx'].to_numpy()\n",
    "M_xdxdx_23_83 = df_xdxdx_23_83['M_xdxdx'].to_numpy()\n",
    "M_xdxdx_23_84 = df_xdxdx_23_84['M_xdxdx'].to_numpy()\n",
    "M_xdxdx_23_88 = df_xdxdx_23_88['M_xdxdx'].to_numpy()"
   ]
  },
  {
   "cell_type": "code",
   "execution_count": null,
   "metadata": {},
   "outputs": [],
   "source": []
  },
  {
   "cell_type": "code",
   "execution_count": null,
   "metadata": {},
   "outputs": [],
   "source": []
  },
  {
   "cell_type": "code",
   "execution_count": null,
   "metadata": {},
   "outputs": [],
   "source": []
  },
  {
   "cell_type": "code",
   "execution_count": null,
   "metadata": {},
   "outputs": [],
   "source": []
  },
  {
   "cell_type": "code",
   "execution_count": null,
   "metadata": {},
   "outputs": [],
   "source": []
  },
  {
   "cell_type": "code",
   "execution_count": null,
   "metadata": {},
   "outputs": [],
   "source": []
  }
 ],
 "metadata": {
  "kernelspec": {
   "display_name": "Python 3",
   "language": "python",
   "name": "python3"
  },
  "language_info": {
   "codemirror_mode": {
    "name": "ipython",
    "version": 3
   },
   "file_extension": ".py",
   "mimetype": "text/x-python",
   "name": "python",
   "nbconvert_exporter": "python",
   "pygments_lexer": "ipython3",
   "version": "3.8.5"
  }
 },
 "nbformat": 4,
 "nbformat_minor": 4
}
