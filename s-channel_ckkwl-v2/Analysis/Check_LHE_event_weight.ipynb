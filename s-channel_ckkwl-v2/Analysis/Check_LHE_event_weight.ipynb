{
 "cells": [
  {
   "cell_type": "markdown",
   "metadata": {},
   "source": [
    "# Check LHE File Event Weight"
   ]
  },
  {
   "cell_type": "markdown",
   "metadata": {},
   "source": [
    "## 1. Import Packages"
   ]
  },
  {
   "cell_type": "code",
   "execution_count": 1,
   "metadata": {},
   "outputs": [],
   "source": [
    "# The Python Standard Library\n",
    "import os\n",
    "import sys\n",
    "import time\n",
    "import datetime\n",
    "import glob\n",
    "import multiprocessing as mp\n",
    "\n",
    "# The Third-Party Library\n",
    "import math\n",
    "import numpy as np\n",
    "import pandas as pd\n",
    "import matplotlib.pyplot as plt\n",
    "import tqdm\n",
    "import prettytable\n",
    "import uproot\n",
    "import pyjet\n",
    "import pylhe\n",
    "import importlib\n",
    "\n",
    "# My Packages\n",
    "import myhep.particle_information_v2 as mypiv2\n",
    "import myhep.analytical_function_v2 as myafv2\n",
    "import myhep.particleinfo_v1 as mypiv1\n",
    "import myhep.particlefun_v1 as myafv1\n",
    "\n",
    "# increase figure showing resolution\n",
    "%config InlineBackend.figure_format = 'retina'"
   ]
  },
  {
   "cell_type": "markdown",
   "metadata": {},
   "source": [
    "## 2. Load the .lhe Data"
   ]
  },
  {
   "cell_type": "code",
   "execution_count": 2,
   "metadata": {},
   "outputs": [],
   "source": [
    "INPUT_FILE_LHE = '/youwei_home/SVJ_CKKWL/s-channel_ckkwl-v2/s/Events/run_01/unweighted_events.lhe'\n",
    "\n",
    "DATA_lhe = pylhe.readLHE(INPUT_FILE_LHE)\n",
    "\n",
    "event_lhe = []\n",
    "for event in DATA_lhe:\n",
    "    event_lhe.append(event)"
   ]
  },
  {
   "cell_type": "code",
   "execution_count": 3,
   "metadata": {},
   "outputs": [
    {
     "name": "stdout",
     "output_type": "stream",
     "text": [
      "There are 10000 events in the LHE file.\n"
     ]
    }
   ],
   "source": [
    "print(\"There are {} events in the LHE file.\".format(len(event_lhe)))"
   ]
  },
  {
   "cell_type": "markdown",
   "metadata": {},
   "source": [
    "### 2-1. Look over the event weight in .lhe .weights branch"
   ]
  },
  {
   "cell_type": "code",
   "execution_count": 4,
   "metadata": {},
   "outputs": [
    {
     "name": "stdout",
     "output_type": "stream",
     "text": [
      "<pylhe.LHEEvent object at 0x7f961c44b280>\n",
      "<pylhe.LHEEvent object at 0x7f94c2e23700>\n"
     ]
    }
   ],
   "source": [
    "print(event_lhe[0])\n",
    "print(event_lhe[1])"
   ]
  },
  {
   "cell_type": "code",
   "execution_count": 5,
   "metadata": {},
   "outputs": [
    {
     "name": "stdout",
     "output_type": "stream",
     "text": [
      "['__add__', '__class__', '__contains__', '__delattr__', '__delitem__', '__dir__', '__doc__', '__eq__', '__format__', '__ge__', '__getattribute__', '__getitem__', '__gt__', '__hash__', '__iadd__', '__imul__', '__init__', '__init_subclass__', '__iter__', '__le__', '__len__', '__lt__', '__mul__', '__ne__', '__new__', '__reduce__', '__reduce_ex__', '__repr__', '__reversed__', '__rmul__', '__setattr__', '__setitem__', '__sizeof__', '__str__', '__subclasshook__', 'append', 'clear', 'copy', 'count', 'extend', 'index', 'insert', 'pop', 'remove', 'reverse', 'sort']\n",
      "====================================================================================================\n",
      "['__class__', '__delattr__', '__dict__', '__dir__', '__doc__', '__eq__', '__format__', '__ge__', '__getattribute__', '__gt__', '__hash__', '__init__', '__init_subclass__', '__le__', '__lt__', '__module__', '__ne__', '__new__', '__reduce__', '__reduce_ex__', '__repr__', '__setattr__', '__sizeof__', '__str__', '__subclasshook__', '__weakref__', 'attributes', 'eventinfo', 'optional', 'particles', 'visualize', 'weights']\n"
     ]
    }
   ],
   "source": [
    "print(dir(event_lhe))\n",
    "print('='*100)\n",
    "print(dir(event_lhe[0]))"
   ]
  },
  {
   "cell_type": "code",
   "execution_count": 6,
   "metadata": {},
   "outputs": [
    {
     "name": "stdout",
     "output_type": "stream",
     "text": [
      "None\n",
      "====================================================================================================\n",
      "====================================================================================================\n",
      "['__bool__', '__class__', '__delattr__', '__dir__', '__doc__', '__eq__', '__format__', '__ge__', '__getattribute__', '__gt__', '__hash__', '__init__', '__init_subclass__', '__le__', '__lt__', '__ne__', '__new__', '__reduce__', '__reduce_ex__', '__repr__', '__setattr__', '__sizeof__', '__str__', '__subclasshook__']\n"
     ]
    }
   ],
   "source": [
    "print(event_lhe[0].weights)\n",
    "print('='*100)\n",
    "# print(event_lhe[0].weights[0])\n",
    "print('='*100)\n",
    "print(dir(event_lhe[0].weights))"
   ]
  },
  {
   "cell_type": "code",
   "execution_count": 7,
   "metadata": {},
   "outputs": [
    {
     "ename": "TypeError",
     "evalue": "'NoneType' object is not iterable",
     "output_type": "error",
     "traceback": [
      "\u001b[0;31m---------------------------------------------------------------------------\u001b[0m",
      "\u001b[0;31mTypeError\u001b[0m                                 Traceback (most recent call last)",
      "\u001b[0;32m<ipython-input-7-a342f0bd025e>\u001b[0m in \u001b[0;36m<module>\u001b[0;34m\u001b[0m\n\u001b[0;32m----> 1\u001b[0;31m \u001b[0;32mfor\u001b[0m \u001b[0mi\u001b[0m \u001b[0;32min\u001b[0m \u001b[0mevent_lhe\u001b[0m\u001b[0;34m[\u001b[0m\u001b[0;36m0\u001b[0m\u001b[0;34m]\u001b[0m\u001b[0;34m.\u001b[0m\u001b[0mweights\u001b[0m\u001b[0;34m:\u001b[0m\u001b[0;34m\u001b[0m\u001b[0;34m\u001b[0m\u001b[0m\n\u001b[0m\u001b[1;32m      2\u001b[0m     \u001b[0mprint\u001b[0m\u001b[0;34m(\u001b[0m\u001b[0mi\u001b[0m\u001b[0;34m)\u001b[0m\u001b[0;34m\u001b[0m\u001b[0;34m\u001b[0m\u001b[0m\n",
      "\u001b[0;31mTypeError\u001b[0m: 'NoneType' object is not iterable"
     ]
    }
   ],
   "source": [
    "for i in event_lhe[0].weights:\n",
    "    print(i)"
   ]
  },
  {
   "cell_type": "code",
   "execution_count": 8,
   "metadata": {},
   "outputs": [
    {
     "name": "stdout",
     "output_type": "stream",
     "text": [
      "None\n"
     ]
    }
   ],
   "source": [
    "print(event_lhe[1].weights)"
   ]
  },
  {
   "cell_type": "code",
   "execution_count": 9,
   "metadata": {},
   "outputs": [
    {
     "name": "stdout",
     "output_type": "stream",
     "text": [
      "None\n",
      "None\n",
      "None\n",
      "None\n",
      "None\n",
      "None\n",
      "None\n",
      "None\n",
      "None\n",
      "None\n",
      "None\n",
      "None\n",
      "None\n",
      "None\n",
      "None\n",
      "None\n",
      "None\n",
      "None\n",
      "None\n",
      "None\n"
     ]
    }
   ],
   "source": [
    "for i in range(20):\n",
    "    print(event_lhe[i].weights)"
   ]
  },
  {
   "cell_type": "markdown",
   "metadata": {},
   "source": [
    "#### Conclusion: This way is failling."
   ]
  },
  {
   "cell_type": "markdown",
   "metadata": {},
   "source": [
    "### 2-2. Look over the event weight in the .lhe .eventinfo.weight branch "
   ]
  },
  {
   "cell_type": "code",
   "execution_count": 10,
   "metadata": {},
   "outputs": [
    {
     "name": "stdout",
     "output_type": "stream",
     "text": [
      "<pylhe.LHEEventInfo object at 0x7f94c2e23790>\n",
      "['__class__', '__delattr__', '__dict__', '__dir__', '__doc__', '__eq__', '__format__', '__ge__', '__getattribute__', '__gt__', '__hash__', '__init__', '__init_subclass__', '__le__', '__lt__', '__module__', '__ne__', '__new__', '__reduce__', '__reduce_ex__', '__repr__', '__setattr__', '__sizeof__', '__str__', '__subclasshook__', '__weakref__', 'aqcd', 'aqed', 'fieldnames', 'fromstring', 'nparticles', 'pid', 'scale', 'weight']\n"
     ]
    }
   ],
   "source": [
    "print(event_lhe[0].eventinfo)\n",
    "print(dir(event_lhe[0].eventinfo))"
   ]
  },
  {
   "cell_type": "code",
   "execution_count": 11,
   "metadata": {},
   "outputs": [
    {
     "name": "stdout",
     "output_type": "stream",
     "text": [
      "1.1548845\n",
      "0.0\n"
     ]
    }
   ],
   "source": [
    "print(event_lhe[0].eventinfo.weight)\n",
    "print(event_lhe[0].eventinfo.pid)"
   ]
  },
  {
   "cell_type": "markdown",
   "metadata": {},
   "source": [
    "#### Alan's example"
   ]
  },
  {
   "cell_type": "code",
   "execution_count": 12,
   "metadata": {},
   "outputs": [
    {
     "name": "stderr",
     "output_type": "stream",
     "text": [
      "10000it [00:05, 1907.60it/s]\n"
     ]
    }
   ],
   "source": [
    "INPUT_FILE_LHE = '/youwei_home/SVJ_CKKWL/s-channel_ckkwl-v2/s/Events/run_01/unweighted_events.lhe'\n",
    "\n",
    "svj = pylhe.readLHE(INPUT_FILE_LHE)\n",
    "\n",
    "aaa = []\n",
    "for i, event in enumerate(tqdm.tqdm(svj)):\n",
    "    aaa.append(event.eventinfo.weight)\n",
    "    \n",
    "aaa = np.array(aaa)"
   ]
  },
  {
   "cell_type": "code",
   "execution_count": 13,
   "metadata": {},
   "outputs": [
    {
     "data": {
      "text/plain": [
       "array([1.1548845, 1.1548845, 1.1548845, ..., 1.1548845, 1.1548845,\n",
       "       1.1548845])"
      ]
     },
     "execution_count": 13,
     "metadata": {},
     "output_type": "execute_result"
    }
   ],
   "source": [
    "aaa"
   ]
  },
  {
   "cell_type": "code",
   "execution_count": 14,
   "metadata": {},
   "outputs": [
    {
     "data": {
      "text/plain": [
       "(array([ 345,  702,  875,  985, 1245, 1606, 2095, 2173, 2352, 2379, 2625,\n",
       "        3014, 3031, 3278, 3305, 3796, 4390, 5452, 5538, 5695, 6303, 6355,\n",
       "        6720, 6752, 6915, 6980, 7129, 7190, 7298, 7467, 7891, 8295, 8641,\n",
       "        8846]),)"
      ]
     },
     "execution_count": 14,
     "metadata": {},
     "output_type": "execute_result"
    }
   ],
   "source": [
    "np.where(aaa <= 0)"
   ]
  },
  {
   "cell_type": "code",
   "execution_count": 15,
   "metadata": {},
   "outputs": [
    {
     "data": {
      "text/plain": [
       "-1.1548845"
      ]
     },
     "execution_count": 15,
     "metadata": {},
     "output_type": "execute_result"
    }
   ],
   "source": [
    "aaa[345]"
   ]
  },
  {
   "cell_type": "markdown",
   "metadata": {},
   "source": [
    "#### By myself"
   ]
  },
  {
   "cell_type": "code",
   "execution_count": 44,
   "metadata": {},
   "outputs": [
    {
     "name": "stderr",
     "output_type": "stream",
     "text": [
      "0it [00:00, ?it/s]\n"
     ]
    }
   ],
   "source": [
    "bbb = []\n",
    "\n",
    "for i, event in enumerate(tqdm.tqdm(DATA_lhe)):\n",
    "    bbb.append(event.eventinfo.weight)"
   ]
  },
  {
   "cell_type": "code",
   "execution_count": 40,
   "metadata": {},
   "outputs": [
    {
     "name": "stderr",
     "output_type": "stream",
     "text": [
      "10000it [00:05, 1896.69it/s]\n"
     ]
    }
   ],
   "source": [
    "DATA_lhe = pylhe.readLHE(INPUT_FILE_LHE)\n",
    "\n",
    "bbb = []\n",
    "\n",
    "for i, event in enumerate(tqdm.tqdm(DATA_lhe)):\n",
    "    bbb.append(event.eventinfo.weight)"
   ]
  },
  {
   "cell_type": "code",
   "execution_count": 42,
   "metadata": {},
   "outputs": [],
   "source": [
    "INPUT_FILE_LHE = '/youwei_home/SVJ_CKKWL/s-channel_ckkwl-v2/s/Events/run_01/unweighted_events.lhe'\n",
    "\n",
    "svj = pylhe.readLHE(INPUT_FILE_LHE)"
   ]
  },
  {
   "cell_type": "code",
   "execution_count": 45,
   "metadata": {},
   "outputs": [
    {
     "name": "stderr",
     "output_type": "stream",
     "text": [
      "0it [00:00, ?it/s]\n"
     ]
    }
   ],
   "source": [
    "aaa = []\n",
    "for i, event in enumerate(tqdm.tqdm(svj)):\n",
    "    aaa.append(event.eventinfo.weight)\n",
    "    \n",
    "aaa = np.array(aaa)"
   ]
  },
  {
   "cell_type": "code",
   "execution_count": null,
   "metadata": {},
   "outputs": [],
   "source": []
  },
  {
   "cell_type": "code",
   "execution_count": null,
   "metadata": {},
   "outputs": [],
   "source": []
  },
  {
   "cell_type": "code",
   "execution_count": 17,
   "metadata": {},
   "outputs": [
    {
     "data": {
      "text/plain": [
       "<generator object readLHE at 0x7f94c2b51660>"
      ]
     },
     "execution_count": 17,
     "metadata": {},
     "output_type": "execute_result"
    }
   ],
   "source": [
    "DATA_lhe"
   ]
  },
  {
   "cell_type": "code",
   "execution_count": 18,
   "metadata": {},
   "outputs": [
    {
     "data": {
      "text/plain": [
       "<generator object readLHE at 0x7f94a5c57270>"
      ]
     },
     "execution_count": 18,
     "metadata": {},
     "output_type": "execute_result"
    }
   ],
   "source": [
    "svj"
   ]
  },
  {
   "cell_type": "code",
   "execution_count": 19,
   "metadata": {},
   "outputs": [
    {
     "name": "stderr",
     "output_type": "stream",
     "text": [
      "10000it [00:06, 1645.53it/s]\n"
     ]
    }
   ],
   "source": [
    "INPUT_FILE_LHE = '/youwei_home/SVJ_CKKWL/s-channel_ckkwl-v2/s/Events/run_01/unweighted_events.lhe'\n",
    "\n",
    "DATA_lhe = pylhe.readLHE(INPUT_FILE_LHE)\n",
    "\n",
    "bbb = []\n",
    "for i, event in enumerate(tqdm.tqdm(DATA_lhe)):\n",
    "    bbb.append(event.eventinfo.weight)\n",
    "    \n",
    "bbb = np.array(bbb)"
   ]
  },
  {
   "cell_type": "code",
   "execution_count": 20,
   "metadata": {},
   "outputs": [
    {
     "data": {
      "text/plain": [
       "0.0"
      ]
     },
     "execution_count": 20,
     "metadata": {},
     "output_type": "execute_result"
    }
   ],
   "source": [
    "np.sum(aaa - bbb)"
   ]
  },
  {
   "cell_type": "markdown",
   "metadata": {},
   "source": [
    "#### Conclusion: ???"
   ]
  },
  {
   "cell_type": "code",
   "execution_count": 21,
   "metadata": {},
   "outputs": [],
   "source": [
    "weight_ei = []\n",
    "\n",
    "for i in range(len(event_lhe)):\n",
    "    weight_ei.append(event_lhe[i].eventinfo.weight)\n",
    "    \n",
    "weight_ei = np.array(weight_ei)"
   ]
  },
  {
   "cell_type": "code",
   "execution_count": 22,
   "metadata": {},
   "outputs": [
    {
     "name": "stdout",
     "output_type": "stream",
     "text": [
      "345 -1.1548845\n",
      "702 -1.1548845\n",
      "875 -1.1548845\n",
      "985 -1.1548845\n",
      "1245 -1.1548845\n",
      "1606 -1.1548845\n",
      "2095 -1.1548845\n",
      "2173 -1.1548845\n",
      "2352 -1.1548845\n",
      "2379 -1.1548845\n",
      "2625 -1.1548845\n",
      "3014 -1.1548845\n",
      "3031 -1.1548845\n",
      "3278 -1.1548845\n",
      "3305 -1.1548845\n",
      "3796 -1.1548845\n",
      "4390 -1.1548845\n",
      "5452 -1.1548845\n",
      "5538 -1.1548845\n",
      "5695 -1.1548845\n",
      "6303 -1.1548845\n",
      "6355 -1.1548845\n",
      "6720 -1.1548845\n",
      "6752 -1.1548845\n",
      "6915 -1.1548845\n",
      "6980 -1.1548845\n",
      "7129 -1.1548845\n",
      "7190 -1.1548845\n",
      "7298 -1.1548845\n",
      "7467 -1.1548845\n",
      "7891 -1.1548845\n",
      "8295 -1.1548845\n",
      "8641 -1.1548845\n",
      "8846 -1.1548845\n"
     ]
    }
   ],
   "source": [
    "for i in range(len(weight_ei)):\n",
    "    if weight_ei[i] <= 0:\n",
    "        print(i, weight_ei[i])"
   ]
  },
  {
   "cell_type": "code",
   "execution_count": 23,
   "metadata": {},
   "outputs": [
    {
     "data": {
      "text/plain": [
       "(array([ 345,  702,  875,  985, 1245, 1606, 2095, 2173, 2352, 2379, 2625,\n",
       "        3014, 3031, 3278, 3305, 3796, 4390, 5452, 5538, 5695, 6303, 6355,\n",
       "        6720, 6752, 6915, 6980, 7129, 7190, 7298, 7467, 7891, 8295, 8641,\n",
       "        8846]),)"
      ]
     },
     "execution_count": 23,
     "metadata": {},
     "output_type": "execute_result"
    }
   ],
   "source": [
    "np.where(weight_ei <= 0)"
   ]
  },
  {
   "cell_type": "markdown",
   "metadata": {},
   "source": [
    "### 2-3. Check these events are reasonable"
   ]
  },
  {
   "cell_type": "code",
   "execution_count": 26,
   "metadata": {},
   "outputs": [
    {
     "name": "stdout",
     "output_type": "stream",
     "text": [
      "     #         id      mother1     mother2        e           px          py          pz        status   \n",
      "Event 0\n",
      "     1          1         0           0        580.441      0.000       0.000      580.441        -1     \n",
      "     2         -1         0           0        978.983      -0.000      -0.000     -978.983       -1     \n",
      "     3       5000001      1           2        1559.424     0.000       0.000      -398.541       2      \n",
      "     4       4900101      3           3        780.129     693.335     295.679     -200.902       1      \n",
      "     5      -4900101      3           3        779.295     -693.335    -295.679    -197.639       1      \n",
      "------------------------------------------------------------------------------------------------------\n",
      "Event 1\n",
      "     1         -1         0           0        1130.064     -0.000      0.000      1130.064       -1     \n",
      "     2          1         0           0        574.267      0.000       -0.000     -574.267       -1     \n",
      "     3       5000001      1           2        1618.982     13.784      69.357     601.421        2      \n",
      "     4       4900101      3           3        787.888     -459.435    612.168     186.646        1      \n",
      "     5      -4900101      3           3        831.095     473.218     -542.812    414.775        1      \n",
      "     6         21         1           2         53.541      -4.008     -47.141     -25.067        1      \n",
      "     7         21         1           2         31.807      -9.776     -22.216     -20.557        1      \n",
      "------------------------------------------------------------------------------------------------------\n",
      "Event 2\n",
      "     1         -2         0           0        313.407      -0.000      0.000      313.407        -1     \n",
      "     2          2         0           0        2058.465     0.000       -0.000    -2058.465       -1     \n",
      "     3       5000001      1           2        2314.686     -5.231     -36.090    -1789.109       2      \n",
      "     4       4900101      3           3        567.608     -415.620    -366.231    -123.344       1      \n",
      "     5      -4900101      3           3        1747.078    410.388     330.140    -1665.764       1      \n",
      "     6         21         1           2         57.187      5.231       36.090      44.050        1      \n",
      "------------------------------------------------------------------------------------------------------\n"
     ]
    }
   ],
   "source": [
    "print('{:^12}{:^9}{:^12}{:^12}{:^12}{:^12}{:^12}{:^12}{:^12}'.format('#','id','mother1','mother2','e','px','py','pz','status'))\n",
    "\n",
    "for n in range(3):\n",
    "    print(\"Event {}\".format(n))\n",
    "    for i, element in enumerate(event_lhe[n].particles):\n",
    "        print('{:^12}{:^9.0f}{:^12.0f}{:^12.0f}{:^12.3f}{:^12.3f}{:^12.3f}{:^12.3f}{:^12.0f}'\n",
    "          .format(i+1, element.id, element.mother1, element.mother2, element.e, element.px, element.py, element.pz, element.status))\n",
    "    print('-'*102)"
   ]
  },
  {
   "cell_type": "code",
   "execution_count": 34,
   "metadata": {},
   "outputs": [
    {
     "name": "stdout",
     "output_type": "stream",
     "text": [
      "     #         id      mother1     mother2        e           px          py          pz        status   \n",
      "Event 345\n",
      "     1         21         0           0        282.195      0.000       0.000      282.195        -1     \n",
      "     2         -3         0           0        2964.380     -0.000      -0.000    -2964.380       -1     \n",
      "     3       5000001      1           2        3086.688     -5.503      41.590    -2688.736       2      \n",
      "     4       4900101      3           3        512.918     386.240     298.092     -157.939       1      \n",
      "     5      -4900101      3           3        2573.770    -391.743    -256.502   -2530.798       1      \n",
      "     6         21         1           2         87.496      77.746     -40.080      2.184         1      \n",
      "     7         -3         1           2         72.391     -72.243      -1.510      4.368         1      \n",
      "------------------------------------------------------------------------------------------------------\n",
      "Event 702\n",
      "     1          3         0           0        2804.019     0.000       0.000      2804.019       -1     \n",
      "     2         -3         0           0        253.845      -0.000      -0.000     -253.845       -1     \n",
      "     3       5000001      1           2        2450.125    -63.237     -18.983     1946.186       2      \n",
      "     4       4900101      3           3        2166.792    -160.471    -186.468    2152.758       1      \n",
      "     5      -4900101      3           3        283.333      97.234     167.486     -206.572       1      \n",
      "     6         21         1           2        171.200      21.170      0.214      169.886        1      \n",
      "     7         21         1           2        436.539      42.068      18.769     434.102        1      \n",
      "------------------------------------------------------------------------------------------------------\n",
      "Event 875\n",
      "     1          3         0           0        2836.045     -0.000      0.000      2836.045       -1     \n",
      "     2         21         0           0        686.832      0.000       -0.000     -686.832       -1     \n",
      "     3       5000001      1           2        2928.524     -5.432     319.771     2475.420       2      \n",
      "     4       4900101      3           3        1832.469    660.319     520.360     1628.203       1      \n",
      "     5      -4900101      3           3        1096.055    -665.752    -200.589    847.216        1      \n",
      "     6         21         1           2        342.193     -13.494     -333.570    -75.137        1      \n",
      "     7          3         1           2        252.160      18.927      13.799     -251.070       1      \n",
      "------------------------------------------------------------------------------------------------------\n",
      "Event 985\n",
      "     1         -3         0           0        3359.427     -0.000      0.000      3359.427       -1     \n",
      "     2          3         0           0        293.272      0.000       -0.000     -293.272       -1     \n",
      "     3       5000001      1           2        3471.054    -23.311     171.436     3121.486       2      \n",
      "     4       4900101      3           3        738.149     446.582     391.433     438.303        1      \n",
      "     5      -4900101      3           3        2732.905    -469.892    -219.997    2683.183       1      \n",
      "     6         21         1           2        181.646      23.311     -171.436    -55.331        1      \n",
      "------------------------------------------------------------------------------------------------------\n",
      "Event 1245\n",
      "     1         -5         0           0        4620.707     -0.000      0.000      4620.707       -1     \n",
      "     2          5         0           0        125.558      0.000       -0.000     -125.558       -1     \n",
      "     3       5000001      1           2        4746.265     0.000       0.000      4495.149       2      \n",
      "     4       4900101      3           3        2745.656    -288.589    -693.430    2640.909       1      \n",
      "     5      -4900101      3           3        2000.608    288.589     693.430     1854.240       1      \n",
      "------------------------------------------------------------------------------------------------------\n",
      "Event 1606\n",
      "     1          3         0           0        264.159      0.000       0.000      264.159        -1     \n",
      "     2         -3         0           0        2988.441     -0.000      -0.000    -2988.441       -1     \n",
      "     3       5000001      1           2        3126.797     93.952      82.052    -2740.621       2      \n",
      "     4       4900101      3           3        2871.385    -87.683     -42.361    -2869.715       1      \n",
      "     5      -4900101      3           3        255.412     181.635     124.413     129.095        1      \n",
      "     6         21         1           2        125.803     -93.952     -82.052      16.339        1      \n",
      "------------------------------------------------------------------------------------------------------\n",
      "Event 2095\n",
      "     1          3         0           0        302.426      0.000       0.000      302.426        -1     \n",
      "     2         -3         0           0        2627.208     -0.000      -0.000    -2627.208       -1     \n",
      "     3       5000001      1           2        2705.675    -135.678    160.358    -2247.100       2      \n",
      "     4       4900101      3           3        2023.069    -151.986    -460.508   -1964.062       1      \n",
      "     5      -4900101      3           3        682.606      16.308     620.866     -283.037       1      \n",
      "     6         21         1           2        223.959     135.678     -160.358    -77.682        1      \n",
      "------------------------------------------------------------------------------------------------------\n",
      "Event 2173\n",
      "     1          3         0           0        233.900      0.000       0.000      233.900        -1     \n",
      "     2         -3         0           0        2329.638     -0.000      -0.000    -2329.638       -1     \n",
      "     3       5000001      1           2        2563.538     0.000       0.000     -2095.738       2      \n",
      "     4       4900101      3           3        1533.654    -550.366    458.709    -1355.979       1      \n",
      "     5      -4900101      3           3        1029.884    550.366     -458.709    -739.759       1      \n",
      "------------------------------------------------------------------------------------------------------\n",
      "Event 2352\n",
      "     1          3         0           0        360.888      0.000       0.000      360.888        -1     \n",
      "     2         -3         0           0        2428.002     -0.000      -0.000    -2428.002       -1     \n",
      "     3       5000001      1           2        2250.703    -157.037    101.669    -1562.488       2      \n",
      "     4       4900101      3           3        1343.144    -264.680    -685.643   -1124.178       1      \n",
      "     5      -4900101      3           3        907.559     107.643     787.312     -438.310       1      \n",
      "     6         21         1           2        538.187     157.037     -101.669    -504.626       1      \n",
      "------------------------------------------------------------------------------------------------------\n",
      "Event 2379\n",
      "     1          3         0           0        261.767      0.000       0.000      261.767        -1     \n",
      "     2         -3         0           0        2128.788     -0.000      -0.000    -2128.788       -1     \n",
      "     3       5000001      1           2        2390.555     0.000       0.000     -1867.022       2      \n",
      "     4       4900101      3           3        1561.705     17.793     -686.273   -1402.688       1      \n",
      "     5      -4900101      3           3        828.850     -17.793     686.273     -464.333       1      \n",
      "------------------------------------------------------------------------------------------------------\n",
      "Event 2625\n",
      "     1         -3         0           0        2795.030     -0.000      0.000      2795.030       -1     \n",
      "     2         21         0           0        661.834      0.000       -0.000     -661.834       -1     \n",
      "     3       5000001      1           2        2539.595    -446.276    -209.164    2289.597       2      \n",
      "     4       4900101      3           3        1928.579    -164.599    180.794     1912.992       1      \n",
      "     5      -4900101      3           3        611.016     -281.677    -389.958    376.606        1      \n",
      "     6         21         1           2        269.383     -76.701     136.678     219.096        1      \n",
      "     7         -3         1           2        647.886     522.976      72.485     -375.497       1      \n",
      "------------------------------------------------------------------------------------------------------\n",
      "Event 3014\n",
      "     1         21         0           0        168.960      0.000       0.000      168.960        -1     \n",
      "     2         -3         0           0        3483.805     -0.000      -0.000    -3483.805       -1     \n",
      "     3       5000001      1           2        3542.416     37.953      42.465    -3220.329       2      \n",
      "     4       4900101      3           3        2646.833    -529.516    -229.442   -2583.136       1      \n",
      "     5      -4900101      3           3        895.583     567.469     271.907     -637.193       1      \n",
      "     6         -3         1           2        110.349     -37.953     -42.465     -94.516        1      \n",
      "------------------------------------------------------------------------------------------------------\n",
      "Event 3031\n",
      "     1          3         0           0        175.016      0.000       0.000      175.016        -1     \n",
      "     2         -3         0           0        3252.736     -0.000      -0.000    -3252.736       -1     \n",
      "     3       5000001      1           2        3427.751     0.000       0.000     -3077.720       2      \n",
      "     4       4900101      3           3        1845.578    218.961     -719.073   -1685.541       1      \n",
      "     5      -4900101      3           3        1582.173    -218.961    719.073    -1392.178       1      \n",
      "------------------------------------------------------------------------------------------------------\n",
      "Event 3278\n",
      "     1          3         0           0        163.642      0.000       0.000      163.642        -1     \n",
      "     2         -3         0           0        3390.101     -0.000      -0.000    -3390.101       -1     \n",
      "     3       5000001      1           2        3553.742     0.000       0.000     -3226.459       2      \n",
      "     4       4900101      3           3        2475.400    -151.564    653.971    -2382.616       1      \n",
      "     5      -4900101      3           3        1078.342    151.564     -653.971    -843.843       1      \n",
      "------------------------------------------------------------------------------------------------------\n",
      "Event 3305\n",
      "     1         -1         0           0        3662.919     -0.000      0.000      3662.919       -1     \n",
      "     2          1         0           0        244.961      0.000       -0.000     -244.961       -1     \n",
      "     3       5000001      1           2        3265.623    -267.328    189.610     2865.618       2      \n",
      "     4       4900101      3           3        2340.990    -467.437    758.503     2164.788       1      \n",
      "     5      -4900101      3           3        924.633     200.110     -568.893    700.830        1      \n",
      "     6         21         1           2        642.258     267.328     -189.610    552.340        1      \n",
      "------------------------------------------------------------------------------------------------------\n",
      "Event 3796\n",
      "     1         21         0           0        132.562      0.000       0.000      132.562        -1     \n",
      "     2         -3         0           0        4551.131     -0.000      -0.000    -4551.131       -1     \n",
      "     3       5000001      1           2        4647.454     -1.969      30.579    -4399.220       2      \n",
      "     4       4900101      3           3        3861.893    -336.414    444.485    -3821.437       1      \n",
      "     5      -4900101      3           3        785.561     334.445     -413.906    -577.783       1      \n",
      "     6         -3         1           2         36.240      1.969      -30.579     -19.349        1      \n",
      "------------------------------------------------------------------------------------------------------\n",
      "Event 4390\n",
      "     1          3         0           0        292.072      0.000       0.000      292.072        -1     \n",
      "     2         -3         0           0        2187.702     -0.000      -0.000    -2187.702       -1     \n",
      "     3       5000001      1           2        2398.110     59.669      3.439     -1853.138       2      \n",
      "     4       4900101      3           3        1471.141    734.615     219.160    -1255.574       1      \n",
      "     5      -4900101      3           3        926.969     -674.946    -215.721    -597.564       1      \n",
      "     6         21         1           2         60.445     -43.832     -16.847     -38.059        1      \n",
      "     7         21         1           2         21.219     -15.837      13.409      -4.433        1      \n",
      "------------------------------------------------------------------------------------------------------\n",
      "Event 5452\n",
      "     1          3         0           0        3263.005     0.000       0.000      3263.005       -1     \n",
      "     2         -3         0           0        168.021      -0.000      -0.000     -168.021       -1     \n",
      "     3       5000001      1           2        3431.026     0.000       0.000      3094.984       2      \n",
      "     4       4900101      3           3        176.144      50.603      55.499     -159.016       1      \n",
      "     5      -4900101      3           3        3254.882    -50.603     -55.499     3254.000       1      \n",
      "------------------------------------------------------------------------------------------------------\n",
      "Event 5538\n",
      "     1          3         0           0        197.070      0.000       0.000      197.070        -1     \n",
      "     2         -3         0           0        3208.505     -0.000      -0.000    -3208.505       -1     \n",
      "     3       5000001      1           2        3363.521     39.300     -14.954    -3012.043       2      \n",
      "     4       4900101      3           3        2559.083    -513.201    -280.673   -2491.315       1      \n",
      "     5      -4900101      3           3        804.439     552.501     265.719     -520.728       1      \n",
      "     6         21         1           2         42.053     -39.300      14.954      0.608         1      \n",
      "------------------------------------------------------------------------------------------------------\n",
      "Event 5695\n",
      "     1         21         0           0        173.202      0.000       0.000      173.202        -1     \n",
      "     2         -3         0           0        3913.025     -0.000      -0.000    -3913.025       -1     \n",
      "     3       5000001      1           2        4049.990     19.514      23.007    -3719.749       2      \n",
      "     4       4900101      3           3        3441.565     7.837      -497.675   -3405.367       1      \n",
      "     5      -4900101      3           3        608.426      11.677     520.682     -314.381       1      \n",
      "     6         -3         1           2         36.237     -19.514     -23.007     -20.074        1      \n",
      "------------------------------------------------------------------------------------------------------\n",
      "Event 6303\n",
      "     1          3         0           0        226.184      0.000       0.000      226.184        -1     \n",
      "     2         -3         0           0        2475.806     -0.000      -0.000    -2475.806       -1     \n",
      "     3       5000001      1           2        2701.991     0.000       0.000     -2249.622       2      \n",
      "     4       4900101      3           3        1758.523    -693.654     72.283    -1614.287       1      \n",
      "     5      -4900101      3           3        943.468     693.654     -72.283     -635.335       1      \n",
      "------------------------------------------------------------------------------------------------------\n",
      "Event 6355\n",
      "     1          3         0           0        273.652      0.000       0.000      273.652        -1     \n",
      "     2         -3         0           0        4035.886     -0.000      -0.000    -4035.886       -1     \n",
      "     3       5000001      1           2        2406.008    -26.673     -31.980    -1859.159       2      \n",
      "     4       4900101      3           3        2005.728    -209.130    306.091    -1971.147       1      \n",
      "     5      -4900101      3           3        400.279     182.457     -338.071    111.988        1      \n",
      "     6         21         1           2        1903.531     26.673      31.980    -1903.075       1      \n",
      "------------------------------------------------------------------------------------------------------\n",
      "Event 6720\n",
      "     1         -3         0           0        3096.261     -0.000      0.000      3096.261       -1     \n",
      "     2          3         0           0        191.188      0.000       -0.000     -191.188       -1     \n",
      "     3       5000001      1           2        3287.449     0.000       0.000      2905.073       2      \n",
      "     4       4900101      3           3        3075.537    -85.687     -96.589     3072.809       1      \n",
      "     5      -4900101      3           3        211.913      85.687      96.589     -167.736       1      \n",
      "------------------------------------------------------------------------------------------------------\n",
      "Event 6752\n",
      "     1         21         0           0        184.627      0.000       0.000      184.627        -1     \n",
      "     2         -3         0           0        3829.391     -0.000      -0.000    -3829.391       -1     \n",
      "     3       5000001      1           2        3748.275     42.668      37.282    -3432.647       2      \n",
      "     4       4900101      3           3        2695.099    -42.678     -627.817   -2620.588       1      \n",
      "     5      -4900101      3           3        1053.177     85.347     665.099     -812.059       1      \n",
      "     6         21         1           2        185.420      26.523      -8.385     -183.322       1      \n",
      "     7         -3         1           2         80.322     -69.192     -28.897     -28.795        1      \n",
      "------------------------------------------------------------------------------------------------------\n",
      "Event 6915\n",
      "     1         -3         0           0        3963.894     -0.000      0.000      3963.894       -1     \n",
      "     2          3         0           0        754.084      0.000       -0.000     -754.084       -1     \n",
      "     3       5000001      1           2        2858.609    128.202    -1441.033    2046.569       2      \n",
      "     4       4900101      3           3        521.674     -451.608    -57.788     254.469        1      \n",
      "     5      -4900101      3           3        2336.935    579.810    -1383.244    1792.100       1      \n",
      "     6          5         1           2        359.256      11.201     265.793     241.441        1      \n",
      "     7         -5         1           2        1500.112    -139.403    1175.240    921.800        1      \n",
      "------------------------------------------------------------------------------------------------------\n",
      "Event 6980\n",
      "     1         -1         0           0        3561.453     -0.000      0.000      3561.453       -1     \n",
      "     2          1         0           0        231.730      0.000       -0.000     -231.730       -1     \n",
      "     3       5000001      1           2        2907.376    -27.586      13.604     2444.450       2      \n",
      "     4       4900101      3           3        911.539     259.512     -649.795    584.143        1      \n",
      "     5      -4900101      3           3        1995.838    -287.099    663.399     1860.307       1      \n",
      "     6         21         1           2        885.807      27.586     -13.604     885.273        1      \n",
      "------------------------------------------------------------------------------------------------------\n",
      "Event 7129\n",
      "     1          3         0           0        158.869      0.000       0.000      158.869        -1     \n",
      "     2         -3         0           0        3969.712     -0.000      -0.000    -3969.712       -1     \n",
      "     3       5000001      1           2        4080.389     47.922      -4.862    -3812.372       2      \n",
      "     4       4900101      3           3        2488.427    -37.271     700.118    -2387.596       1      \n",
      "     5      -4900101      3           3        1591.962     85.193     -704.981   -1424.776       1      \n",
      "     6         21         1           2         48.192     -47.922      4.862       1.530         1      \n",
      "------------------------------------------------------------------------------------------------------\n",
      "Event 7190\n",
      "     1         -3         0           0        2886.130     -0.000      0.000      2886.130       -1     \n",
      "     2          3         0           0        216.542      0.000       -0.000     -216.542       -1     \n",
      "     3       5000001      1           2        3102.672     0.000       0.000      2669.587       2      \n",
      "     4       4900101      3           3        2407.355    557.753     238.208     2329.684       1      \n",
      "     5      -4900101      3           3        695.317     -557.753    -238.208    339.903        1      \n",
      "------------------------------------------------------------------------------------------------------\n",
      "Event 7298\n",
      "     1         21         0           0        265.965      0.000       0.000      265.965        -1     \n",
      "     2         -1         0           0        3804.704     -0.000      -0.000    -3804.704       -1     \n",
      "     3       5000001      1           2        3889.965    130.519     -97.191    -3460.172       2      \n",
      "     4       4900101      3           3        3587.941    393.800     -205.695   -3560.313       1      \n",
      "     5      -4900101      3           3        302.024     -263.281    108.505     100.141        1      \n",
      "     6         -1         1           2        180.704     -130.519     97.191     -78.567        1      \n",
      "------------------------------------------------------------------------------------------------------\n",
      "Event 7467\n",
      "     1          3         0           0        228.829      0.000       0.000      228.829        -1     \n",
      "     2         -3         0           0        2966.543     -0.000      -0.000    -2966.543       -1     \n",
      "     3       5000001      1           2        3153.331     -9.966     -26.326    -2768.938       2      \n",
      "     4       4900101      3           3        2873.840    -273.197     -9.368    -2860.792       1      \n",
      "     5      -4900101      3           3        279.491     263.231     -16.958      91.854        1      \n",
      "     6         21         1           2         42.040      9.966       26.326      31.225        1      \n",
      "------------------------------------------------------------------------------------------------------\n",
      "Event 7891\n",
      "     1          3         0           0        3078.400     0.000       0.000      3078.400       -1     \n",
      "     2         -3         0           0        237.825      -0.000      -0.000     -237.825       -1     \n",
      "     3       5000001      1           2        2683.477     27.672      11.229     2208.532       2      \n",
      "     4       4900101      3           3        634.518     -520.809    261.905     250.353        1      \n",
      "     5      -4900101      3           3        2048.959    548.481     -250.676    1958.179       1      \n",
      "     6         21         1           2        632.748     -27.672     -11.229     632.042        1      \n",
      "------------------------------------------------------------------------------------------------------\n",
      "Event 8295\n",
      "     1         -3         0           0        3941.567     -0.000      0.000      3941.567       -1     \n",
      "     2          3         0           0        150.121      0.000       -0.000     -150.121       -1     \n",
      "     3       5000001      1           2        3997.987     15.905     -27.865     3703.409       2      \n",
      "     4       4900101      3           3        705.504      26.004     -541.577    451.280        1      \n",
      "     5      -4900101      3           3        3292.483    -10.099     513.712     3252.129       1      \n",
      "     6         21         1           2         93.702     -15.905      27.865      88.037        1      \n",
      "------------------------------------------------------------------------------------------------------\n",
      "Event 8641\n",
      "     1         -3         0           0        4556.017     -0.000      0.000      4556.017       -1     \n",
      "     2          3         0           0         92.769      0.000       -0.000     -92.769        -1     \n",
      "     3       5000001      1           2        4648.786     0.000       0.000      4463.248       2      \n",
      "     4       4900101      3           3        3759.472    -490.310     85.853     3726.359       1      \n",
      "     5      -4900101      3           3        889.314     490.310     -85.853     736.888        1      \n",
      "------------------------------------------------------------------------------------------------------\n",
      "Event 8846\n",
      "     1         -3         0           0        2816.748     -0.000      0.000      2816.748       -1     \n",
      "     2          3         0           0        199.031      0.000       -0.000     -199.031       -1     \n",
      "     3       5000001      1           2        3015.780     0.000       0.000      2617.717       2      \n",
      "     4       4900101      3           3        582.815     -528.247     37.749     243.113        1      \n",
      "     5      -4900101      3           3        2432.964    528.247     -37.749     2374.604       1      \n",
      "------------------------------------------------------------------------------------------------------\n"
     ]
    }
   ],
   "source": [
    "print('{:^12}{:^9}{:^12}{:^12}{:^12}{:^12}{:^12}{:^12}{:^12}'.format('#','id','mother1','mother2','e','px','py','pz','status'))\n",
    "\n",
    "for n in np.where(weight_ei <= 0)[0]:\n",
    "    print(\"Event {}\".format(n))\n",
    "    for i, element in enumerate(event_lhe[n].particles):\n",
    "        print('{:^12}{:^9.0f}{:^12.0f}{:^12.0f}{:^12.3f}{:^12.3f}{:^12.3f}{:^12.3f}{:^12.0f}'\n",
    "          .format(i+1, element.id, element.mother1, element.mother2, element.e, element.px, element.py, element.pz, element.status))\n",
    "    print('-'*102)"
   ]
  },
  {
   "cell_type": "code",
   "execution_count": null,
   "metadata": {},
   "outputs": [],
   "source": []
  },
  {
   "cell_type": "code",
   "execution_count": null,
   "metadata": {},
   "outputs": [],
   "source": []
  },
  {
   "cell_type": "code",
   "execution_count": 38,
   "metadata": {},
   "outputs": [
    {
     "name": "stdout",
     "output_type": "stream",
     "text": [
      "1\n",
      "34\n"
     ]
    }
   ],
   "source": [
    "print(len(np.where(weight_ei <= 0)))\n",
    "print(len(np.where(weight_ei <= 0)[0]))"
   ]
  },
  {
   "cell_type": "markdown",
   "metadata": {},
   "source": [
    "#### How to know these events are reasonable?"
   ]
  },
  {
   "cell_type": "code",
   "execution_count": null,
   "metadata": {},
   "outputs": [],
   "source": []
  },
  {
   "cell_type": "code",
   "execution_count": null,
   "metadata": {},
   "outputs": [],
   "source": []
  },
  {
   "cell_type": "code",
   "execution_count": null,
   "metadata": {},
   "outputs": [],
   "source": []
  },
  {
   "cell_type": "markdown",
   "metadata": {},
   "source": [
    "## 3. Load the .root Data"
   ]
  },
  {
   "cell_type": "code",
   "execution_count": 10,
   "metadata": {},
   "outputs": [],
   "source": [
    "INPUT_FILE_4 = '/youwei_home/SVJ_CKKWL/s-channel_ckkwl-v2/root/svj_s_ckkwl-4.root'\n",
    "INPUT_FILE_84 = '/youwei_home/SVJ_CKKWL/s-channel_ckkwl-v2/DP8/svj_ckkwl-4.root'\n",
    "\n",
    "DATA_4 = uproot.open(INPUT_FILE_4)['Delphes;1']\n",
    "DATA_84 = uproot.open(INPUT_FILE_84)['Delphes;1']"
   ]
  },
  {
   "cell_type": "code",
   "execution_count": 11,
   "metadata": {
    "collapsed": true,
    "jupyter": {
     "outputs_hidden": true
    }
   },
   "outputs": [
    {
     "name": "stdout",
     "output_type": "stream",
     "text": [
      "Event                      TStreamerInfo              asdtype('>i4')\n",
      "Event.fUniqueID            TStreamerBasicType         asjagged(asdtype('>u4'))\n",
      "Event.fBits                TStreamerBasicType         asjagged(asdtype('>u4'))\n",
      "Event.Number               TStreamerBasicType         asjagged(asdtype('>i8'))\n",
      "Event.ReadTime             TStreamerBasicType         asjagged(asdtype('>f4'))\n",
      "Event.ProcTime             TStreamerBasicType         asjagged(asdtype('>f4'))\n",
      "Event.ProcessID            TStreamerBasicType         asjagged(asdtype('>i4'))\n",
      "Event.MPI                  TStreamerBasicType         asjagged(asdtype('>i4'))\n",
      "Event.Weight               TStreamerBasicType         asjagged(asdtype('>f4'))\n",
      "Event.CrossSection         TStreamerBasicType         asjagged(asdtype('>f4'))\n",
      "Event.CrossSectionError    TStreamerBasicType         asjagged(asdtype('>f4'))\n",
      "Event.Scale                TStreamerBasicType         asjagged(asdtype('>f4'))\n",
      "Event.AlphaQED             TStreamerBasicType         asjagged(asdtype('>f4'))\n",
      "Event.AlphaQCD             TStreamerBasicType         asjagged(asdtype('>f4'))\n",
      "Event.ID1                  TStreamerBasicType         asjagged(asdtype('>i4'))\n",
      "Event.ID2                  TStreamerBasicType         asjagged(asdtype('>i4'))\n",
      "Event.X1                   TStreamerBasicType         asjagged(asdtype('>f4'))\n",
      "Event.X2                   TStreamerBasicType         asjagged(asdtype('>f4'))\n",
      "Event.ScalePDF             TStreamerBasicType         asjagged(asdtype('>f4'))\n",
      "Event.PDF1                 TStreamerBasicType         asjagged(asdtype('>f4'))\n",
      "Event.PDF2                 TStreamerBasicType         asjagged(asdtype('>f4'))\n",
      "\n",
      "Event_size                 (no streamer)              asdtype('>i4')\n",
      "Weight                     TStreamerInfo              asdtype('>i4')\n",
      "Weight.fUniqueID           TStreamerBasicType         asjagged(asdtype('>u4'))\n",
      "Weight.fBits               TStreamerBasicType         asjagged(asdtype('>u4'))\n",
      "Weight.Weight              TStreamerBasicType         asjagged(asdtype('>f4'))\n",
      "\n",
      "Weight_size                (no streamer)              asdtype('>i4')\n",
      "Particle                   TStreamerInfo              asdtype('>i4')\n",
      "Particle.fUniqueID         TStreamerBasicType         asjagged(asdtype('>u4'))\n",
      "Particle.fBits             TStreamerBasicType         asjagged(asdtype('>u4'))\n",
      "Particle.PID               TStreamerBasicType         asjagged(asdtype('>i4'))\n",
      "Particle.Status            TStreamerBasicType         asjagged(asdtype('>i4'))\n",
      "Particle.IsPU              TStreamerBasicType         asjagged(asdtype('>i4'))\n",
      "Particle.M1                TStreamerBasicType         asjagged(asdtype('>i4'))\n",
      "Particle.M2                TStreamerBasicType         asjagged(asdtype('>i4'))\n",
      "Particle.D1                TStreamerBasicType         asjagged(asdtype('>i4'))\n",
      "Particle.D2                TStreamerBasicType         asjagged(asdtype('>i4'))\n",
      "Particle.Charge            TStreamerBasicType         asjagged(asdtype('>i4'))\n",
      "Particle.Mass              TStreamerBasicType         asjagged(asdtype('>f4'))\n",
      "Particle.E                 TStreamerBasicType         asjagged(asdtype('>f4'))\n",
      "Particle.Px                TStreamerBasicType         asjagged(asdtype('>f4'))\n",
      "Particle.Py                TStreamerBasicType         asjagged(asdtype('>f4'))\n",
      "Particle.Pz                TStreamerBasicType         asjagged(asdtype('>f4'))\n",
      "Particle.P                 TStreamerBasicType         asjagged(asdtype('>f4'))\n",
      "Particle.PT                TStreamerBasicType         asjagged(asdtype('>f4'))\n",
      "Particle.Eta               TStreamerBasicType         asjagged(asdtype('>f4'))\n",
      "Particle.Phi               TStreamerBasicType         asjagged(asdtype('>f4'))\n",
      "Particle.Rapidity          TStreamerBasicType         asjagged(asdtype('>f4'))\n",
      "Particle.CtgTheta          TStreamerBasicType         asjagged(asdtype('>f4'))\n",
      "Particle.D0                TStreamerBasicType         asjagged(asdtype('>f4'))\n",
      "Particle.DZ                TStreamerBasicType         asjagged(asdtype('>f4'))\n",
      "Particle.T                 TStreamerBasicType         asjagged(asdtype('>f4'))\n",
      "Particle.X                 TStreamerBasicType         asjagged(asdtype('>f4'))\n",
      "Particle.Y                 TStreamerBasicType         asjagged(asdtype('>f4'))\n",
      "Particle.Z                 TStreamerBasicType         asjagged(asdtype('>f4'))\n",
      "\n",
      "Particle_size              (no streamer)              asdtype('>i4')\n",
      "Track                      TStreamerInfo              asdtype('>i4')\n",
      "Track.fUniqueID            TStreamerBasicType         asjagged(asdtype('>u4'))\n",
      "Track.fBits                TStreamerBasicType         asjagged(asdtype('>u4'))\n",
      "Track.PID                  TStreamerBasicType         asjagged(asdtype('>i4'))\n",
      "Track.Charge               TStreamerBasicType         asjagged(asdtype('>i4'))\n",
      "Track.P                    TStreamerBasicType         asjagged(asdtype('>f4'))\n",
      "Track.PT                   TStreamerBasicType         asjagged(asdtype('>f4'))\n",
      "Track.Eta                  TStreamerBasicType         asjagged(asdtype('>f4'))\n",
      "Track.Phi                  TStreamerBasicType         asjagged(asdtype('>f4'))\n",
      "Track.CtgTheta             TStreamerBasicType         asjagged(asdtype('>f4'))\n",
      "Track.EtaOuter             TStreamerBasicType         asjagged(asdtype('>f4'))\n",
      "Track.PhiOuter             TStreamerBasicType         asjagged(asdtype('>f4'))\n",
      "Track.T                    TStreamerBasicType         asjagged(asdtype('>f4'))\n",
      "Track.X                    TStreamerBasicType         asjagged(asdtype('>f4'))\n",
      "Track.Y                    TStreamerBasicType         asjagged(asdtype('>f4'))\n",
      "Track.Z                    TStreamerBasicType         asjagged(asdtype('>f4'))\n",
      "Track.TOuter               TStreamerBasicType         asjagged(asdtype('>f4'))\n",
      "Track.XOuter               TStreamerBasicType         asjagged(asdtype('>f4'))\n",
      "Track.YOuter               TStreamerBasicType         asjagged(asdtype('>f4'))\n",
      "Track.ZOuter               TStreamerBasicType         asjagged(asdtype('>f4'))\n",
      "Track.Xd                   TStreamerBasicType         asjagged(asdtype('>f4'))\n",
      "Track.Yd                   TStreamerBasicType         asjagged(asdtype('>f4'))\n",
      "Track.Zd                   TStreamerBasicType         asjagged(asdtype('>f4'))\n",
      "Track.L                    TStreamerBasicType         asjagged(asdtype('>f4'))\n",
      "Track.D0                   TStreamerBasicType         asjagged(asdtype('>f4'))\n",
      "Track.DZ                   TStreamerBasicType         asjagged(asdtype('>f4'))\n",
      "Track.ErrorP               TStreamerBasicType         asjagged(asdtype('>f4'))\n",
      "Track.ErrorPT              TStreamerBasicType         asjagged(asdtype('>f4'))\n",
      "Track.ErrorPhi             TStreamerBasicType         asjagged(asdtype('>f4'))\n",
      "Track.ErrorCtgTheta        TStreamerBasicType         asjagged(asdtype('>f4'))\n",
      "Track.ErrorT               TStreamerBasicType         asjagged(asdtype('>f4'))\n",
      "Track.ErrorD0              TStreamerBasicType         asjagged(asdtype('>f4'))\n",
      "Track.ErrorDZ              TStreamerBasicType         asjagged(asdtype('>f4'))\n",
      "Track.Particle             TStreamerInfo              asjagged(asobj(<uproot.rootio.TRef>))\n",
      "Track.VertexIndex          TStreamerBasicType         asjagged(asdtype('>i4'))\n",
      "\n",
      "Track_size                 (no streamer)              asdtype('>i4')\n",
      "Tower                      TStreamerInfo              asdtype('>i4')\n",
      "Tower.fUniqueID            TStreamerBasicType         asjagged(asdtype('>u4'))\n",
      "Tower.fBits                TStreamerBasicType         asjagged(asdtype('>u4'))\n",
      "Tower.ET                   TStreamerBasicType         asjagged(asdtype('>f4'))\n",
      "Tower.Eta                  TStreamerBasicType         asjagged(asdtype('>f4'))\n",
      "Tower.Phi                  TStreamerBasicType         asjagged(asdtype('>f4'))\n",
      "Tower.E                    TStreamerBasicType         asjagged(asdtype('>f4'))\n",
      "Tower.T                    TStreamerBasicType         asjagged(asdtype('>f4'))\n",
      "Tower.NTimeHits            TStreamerBasicType         asjagged(asdtype('>i4'))\n",
      "Tower.Eem                  TStreamerBasicType         asjagged(asdtype('>f4'))\n",
      "Tower.Ehad                 TStreamerBasicType         asjagged(asdtype('>f4'))\n",
      "Tower.Edges[4]             TStreamerBasicType         asjagged(asdtype(\"('>f4', (4,))\"))\n",
      "Tower.Particles            TStreamerInfo              asgenobj(SimpleArray(TRefArray))\n",
      "\n",
      "Tower_size                 (no streamer)              asdtype('>i4')\n",
      "EFlowTrack                 TStreamerInfo              asdtype('>i4')\n",
      "EFlowTrack.fUniqueID       TStreamerBasicType         asjagged(asdtype('>u4'))\n",
      "EFlowTrack.fBits           TStreamerBasicType         asjagged(asdtype('>u4'))\n",
      "EFlowTrack.PID             TStreamerBasicType         asjagged(asdtype('>i4'))\n",
      "EFlowTrack.Charge          TStreamerBasicType         asjagged(asdtype('>i4'))\n",
      "EFlowTrack.P               TStreamerBasicType         asjagged(asdtype('>f4'))\n",
      "EFlowTrack.PT              TStreamerBasicType         asjagged(asdtype('>f4'))\n",
      "EFlowTrack.Eta             TStreamerBasicType         asjagged(asdtype('>f4'))\n",
      "EFlowTrack.Phi             TStreamerBasicType         asjagged(asdtype('>f4'))\n",
      "EFlowTrack.CtgTheta        TStreamerBasicType         asjagged(asdtype('>f4'))\n",
      "EFlowTrack.EtaOuter        TStreamerBasicType         asjagged(asdtype('>f4'))\n",
      "EFlowTrack.PhiOuter        TStreamerBasicType         asjagged(asdtype('>f4'))\n",
      "EFlowTrack.T               TStreamerBasicType         asjagged(asdtype('>f4'))\n",
      "EFlowTrack.X               TStreamerBasicType         asjagged(asdtype('>f4'))\n",
      "EFlowTrack.Y               TStreamerBasicType         asjagged(asdtype('>f4'))\n",
      "EFlowTrack.Z               TStreamerBasicType         asjagged(asdtype('>f4'))\n",
      "EFlowTrack.TOuter          TStreamerBasicType         asjagged(asdtype('>f4'))\n",
      "EFlowTrack.XOuter          TStreamerBasicType         asjagged(asdtype('>f4'))\n",
      "EFlowTrack.YOuter          TStreamerBasicType         asjagged(asdtype('>f4'))\n",
      "EFlowTrack.ZOuter          TStreamerBasicType         asjagged(asdtype('>f4'))\n",
      "EFlowTrack.Xd              TStreamerBasicType         asjagged(asdtype('>f4'))\n",
      "EFlowTrack.Yd              TStreamerBasicType         asjagged(asdtype('>f4'))\n",
      "EFlowTrack.Zd              TStreamerBasicType         asjagged(asdtype('>f4'))\n",
      "EFlowTrack.L               TStreamerBasicType         asjagged(asdtype('>f4'))\n",
      "EFlowTrack.D0              TStreamerBasicType         asjagged(asdtype('>f4'))\n",
      "EFlowTrack.DZ              TStreamerBasicType         asjagged(asdtype('>f4'))\n",
      "EFlowTrack.ErrorP          TStreamerBasicType         asjagged(asdtype('>f4'))\n",
      "EFlowTrack.ErrorPT         TStreamerBasicType         asjagged(asdtype('>f4'))\n",
      "EFlowTrack.ErrorPhi        TStreamerBasicType         asjagged(asdtype('>f4'))\n",
      "EFlowTrack.ErrorCtgTheta   TStreamerBasicType         asjagged(asdtype('>f4'))\n",
      "EFlowTrack.ErrorT          TStreamerBasicType         asjagged(asdtype('>f4'))\n",
      "EFlowTrack.ErrorD0         TStreamerBasicType         asjagged(asdtype('>f4'))\n",
      "EFlowTrack.ErrorDZ         TStreamerBasicType         asjagged(asdtype('>f4'))\n",
      "EFlowTrack.Particle        TStreamerInfo              asjagged(asobj(<uproot.rootio.TRef>))\n",
      "EFlowTrack.VertexIndex     TStreamerBasicType         asjagged(asdtype('>i4'))\n",
      "\n",
      "EFlowTrack_size            (no streamer)              asdtype('>i4')\n",
      "EFlowPhoton                TStreamerInfo              asdtype('>i4')\n",
      "EFlowPhoton.fUniqueID      TStreamerBasicType         asjagged(asdtype('>u4'))\n",
      "EFlowPhoton.fBits          TStreamerBasicType         asjagged(asdtype('>u4'))\n",
      "EFlowPhoton.ET             TStreamerBasicType         asjagged(asdtype('>f4'))\n",
      "EFlowPhoton.Eta            TStreamerBasicType         asjagged(asdtype('>f4'))\n",
      "EFlowPhoton.Phi            TStreamerBasicType         asjagged(asdtype('>f4'))\n",
      "EFlowPhoton.E              TStreamerBasicType         asjagged(asdtype('>f4'))\n",
      "EFlowPhoton.T              TStreamerBasicType         asjagged(asdtype('>f4'))\n",
      "EFlowPhoton.NTimeHits      TStreamerBasicType         asjagged(asdtype('>i4'))\n",
      "EFlowPhoton.Eem            TStreamerBasicType         asjagged(asdtype('>f4'))\n",
      "EFlowPhoton.Ehad           TStreamerBasicType         asjagged(asdtype('>f4'))\n",
      "EFlowPhoton.Edges[4]       TStreamerBasicType         asjagged(asdtype(\"('>f4', (4,))\"))\n",
      "EFlowPhoton.Particles      TStreamerInfo              asgenobj(SimpleArray(TRefArray))\n",
      "\n",
      "EFlowPhoton_size           (no streamer)              asdtype('>i4')\n",
      "EFlowNeutralHadron         TStreamerInfo              asdtype('>i4')\n",
      "EFlowNeutralHadron.fUniqueID\n",
      "                           TStreamerBasicType         asjagged(asdtype('>u4'))\n",
      "EFlowNeutralHadron.fBits   TStreamerBasicType         asjagged(asdtype('>u4'))\n",
      "EFlowNeutralHadron.ET      TStreamerBasicType         asjagged(asdtype('>f4'))\n",
      "EFlowNeutralHadron.Eta     TStreamerBasicType         asjagged(asdtype('>f4'))\n",
      "EFlowNeutralHadron.Phi     TStreamerBasicType         asjagged(asdtype('>f4'))\n",
      "EFlowNeutralHadron.E       TStreamerBasicType         asjagged(asdtype('>f4'))\n",
      "EFlowNeutralHadron.T       TStreamerBasicType         asjagged(asdtype('>f4'))\n",
      "EFlowNeutralHadron.NTimeHits\n",
      "                           TStreamerBasicType         asjagged(asdtype('>i4'))\n",
      "EFlowNeutralHadron.Eem     TStreamerBasicType         asjagged(asdtype('>f4'))\n",
      "EFlowNeutralHadron.Ehad    TStreamerBasicType         asjagged(asdtype('>f4'))\n",
      "EFlowNeutralHadron.Edges[4]\n",
      "                           TStreamerBasicType         asjagged(asdtype(\"('>f4', (4,))\"))\n",
      "EFlowNeutralHadron.Particles\n",
      "                           TStreamerInfo              asgenobj(SimpleArray(TRefArray))\n",
      "\n",
      "EFlowNeutralHadron_size    (no streamer)              asdtype('>i4')\n",
      "GenJet                     TStreamerInfo              asdtype('>i4')\n",
      "GenJet.fUniqueID           TStreamerBasicType         asjagged(asdtype('>u4'))\n",
      "GenJet.fBits               TStreamerBasicType         asjagged(asdtype('>u4'))\n",
      "GenJet.PT                  TStreamerBasicType         asjagged(asdtype('>f4'))\n",
      "GenJet.Eta                 TStreamerBasicType         asjagged(asdtype('>f4'))\n",
      "GenJet.Phi                 TStreamerBasicType         asjagged(asdtype('>f4'))\n",
      "GenJet.T                   TStreamerBasicType         asjagged(asdtype('>f4'))\n",
      "GenJet.Mass                TStreamerBasicType         asjagged(asdtype('>f4'))\n",
      "GenJet.DeltaEta            TStreamerBasicType         asjagged(asdtype('>f4'))\n",
      "GenJet.DeltaPhi            TStreamerBasicType         asjagged(asdtype('>f4'))\n",
      "GenJet.Flavor              TStreamerBasicType         asjagged(asdtype('>u4'))\n",
      "GenJet.FlavorAlgo          TStreamerBasicType         asjagged(asdtype('>u4'))\n",
      "GenJet.FlavorPhys          TStreamerBasicType         asjagged(asdtype('>u4'))\n",
      "GenJet.BTag                TStreamerBasicType         asjagged(asdtype('>u4'))\n",
      "GenJet.BTagAlgo            TStreamerBasicType         asjagged(asdtype('>u4'))\n",
      "GenJet.BTagPhys            TStreamerBasicType         asjagged(asdtype('>u4'))\n",
      "GenJet.TauTag              TStreamerBasicType         asjagged(asdtype('>u4'))\n",
      "GenJet.TauWeight           TStreamerBasicType         asjagged(asdtype('>f4'))\n",
      "GenJet.Charge              TStreamerBasicType         asjagged(asdtype('>i4'))\n",
      "GenJet.EhadOverEem         TStreamerBasicType         asjagged(asdtype('>f4'))\n",
      "GenJet.NCharged            TStreamerBasicType         asjagged(asdtype('>i4'))\n",
      "GenJet.NNeutrals           TStreamerBasicType         asjagged(asdtype('>i4'))\n",
      "GenJet.Beta                TStreamerBasicType         asjagged(asdtype('>f4'))\n",
      "GenJet.BetaStar            TStreamerBasicType         asjagged(asdtype('>f4'))\n",
      "GenJet.MeanSqDeltaR        TStreamerBasicType         asjagged(asdtype('>f4'))\n",
      "GenJet.PTD                 TStreamerBasicType         asjagged(asdtype('>f4'))\n",
      "GenJet.FracPt[5]           TStreamerBasicType         asjagged(asdtype(\"('>f4', (5,))\"))\n",
      "GenJet.Tau[5]              TStreamerBasicType         asjagged(asdtype(\"('>f4', (5,))\"))\n",
      "GenJet.SoftDroppedJet      TStreamerInfo              asjagged(asobj(<uproot_methods.classes.TLorentzVector.Methods>))\n",
      "GenJet.SoftDroppedSubJet1  TStreamerInfo              asjagged(asobj(<uproot_methods.classes.TLorentzVector.Methods>))\n",
      "GenJet.SoftDroppedSubJet2  TStreamerInfo              asjagged(asobj(<uproot_methods.classes.TLorentzVector.Methods>))\n",
      "GenJet.TrimmedP4[5]        TStreamerInfo              asjagged(asobj(<uproot_methods.classes.TLorentzVector.Methods>))\n",
      "GenJet.PrunedP4[5]         TStreamerInfo              asjagged(asobj(<uproot_methods.classes.TLorentzVector.Methods>))\n",
      "GenJet.SoftDroppedP4[5]    TStreamerInfo              asjagged(asobj(<uproot_methods.classes.TLorentzVector.Methods>))\n",
      "GenJet.NSubJetsTrimmed     TStreamerBasicType         asjagged(asdtype('>i4'))\n",
      "GenJet.NSubJetsPruned      TStreamerBasicType         asjagged(asdtype('>i4'))\n",
      "GenJet.NSubJetsSoftDropped TStreamerBasicType         asjagged(asdtype('>i4'))\n",
      "GenJet.ExclYmerge23        TStreamerBasicType         asjagged(asdtype('>f8'))\n",
      "GenJet.ExclYmerge34        TStreamerBasicType         asjagged(asdtype('>f8'))\n",
      "GenJet.ExclYmerge45        TStreamerBasicType         asjagged(asdtype('>f8'))\n",
      "GenJet.ExclYmerge56        TStreamerBasicType         asjagged(asdtype('>f8'))\n",
      "GenJet.Constituents        TStreamerInfo              asgenobj(SimpleArray(TRefArray))\n",
      "GenJet.Particles           TStreamerInfo              asgenobj(SimpleArray(TRefArray))\n",
      "GenJet.Area                TStreamerInfo              asjagged(asobj(<uproot_methods.classes.TLorentzVector.Methods>))\n",
      "\n",
      "GenJet_size                (no streamer)              asdtype('>i4')\n",
      "GenMissingET               TStreamerInfo              asdtype('>i4')\n",
      "GenMissingET.fUniqueID     TStreamerBasicType         asjagged(asdtype('>u4'))\n",
      "GenMissingET.fBits         TStreamerBasicType         asjagged(asdtype('>u4'))\n",
      "GenMissingET.MET           TStreamerBasicType         asjagged(asdtype('>f4'))\n",
      "GenMissingET.Eta           TStreamerBasicType         asjagged(asdtype('>f4'))\n",
      "GenMissingET.Phi           TStreamerBasicType         asjagged(asdtype('>f4'))\n",
      "\n",
      "GenMissingET_size          (no streamer)              asdtype('>i4')\n",
      "Jet                        TStreamerInfo              asdtype('>i4')\n",
      "Jet.fUniqueID              TStreamerBasicType         asjagged(asdtype('>u4'))\n",
      "Jet.fBits                  TStreamerBasicType         asjagged(asdtype('>u4'))\n",
      "Jet.PT                     TStreamerBasicType         asjagged(asdtype('>f4'))\n",
      "Jet.Eta                    TStreamerBasicType         asjagged(asdtype('>f4'))\n",
      "Jet.Phi                    TStreamerBasicType         asjagged(asdtype('>f4'))\n",
      "Jet.T                      TStreamerBasicType         asjagged(asdtype('>f4'))\n",
      "Jet.Mass                   TStreamerBasicType         asjagged(asdtype('>f4'))\n",
      "Jet.DeltaEta               TStreamerBasicType         asjagged(asdtype('>f4'))\n",
      "Jet.DeltaPhi               TStreamerBasicType         asjagged(asdtype('>f4'))\n",
      "Jet.Flavor                 TStreamerBasicType         asjagged(asdtype('>u4'))\n",
      "Jet.FlavorAlgo             TStreamerBasicType         asjagged(asdtype('>u4'))\n",
      "Jet.FlavorPhys             TStreamerBasicType         asjagged(asdtype('>u4'))\n",
      "Jet.BTag                   TStreamerBasicType         asjagged(asdtype('>u4'))\n",
      "Jet.BTagAlgo               TStreamerBasicType         asjagged(asdtype('>u4'))\n",
      "Jet.BTagPhys               TStreamerBasicType         asjagged(asdtype('>u4'))\n",
      "Jet.TauTag                 TStreamerBasicType         asjagged(asdtype('>u4'))\n",
      "Jet.TauWeight              TStreamerBasicType         asjagged(asdtype('>f4'))\n",
      "Jet.Charge                 TStreamerBasicType         asjagged(asdtype('>i4'))\n",
      "Jet.EhadOverEem            TStreamerBasicType         asjagged(asdtype('>f4'))\n",
      "Jet.NCharged               TStreamerBasicType         asjagged(asdtype('>i4'))\n",
      "Jet.NNeutrals              TStreamerBasicType         asjagged(asdtype('>i4'))\n",
      "Jet.Beta                   TStreamerBasicType         asjagged(asdtype('>f4'))\n",
      "Jet.BetaStar               TStreamerBasicType         asjagged(asdtype('>f4'))\n",
      "Jet.MeanSqDeltaR           TStreamerBasicType         asjagged(asdtype('>f4'))\n",
      "Jet.PTD                    TStreamerBasicType         asjagged(asdtype('>f4'))\n",
      "Jet.FracPt[5]              TStreamerBasicType         asjagged(asdtype(\"('>f4', (5,))\"))\n",
      "Jet.Tau[5]                 TStreamerBasicType         asjagged(asdtype(\"('>f4', (5,))\"))\n",
      "Jet.SoftDroppedJet         TStreamerInfo              asjagged(asobj(<uproot_methods.classes.TLorentzVector.Methods>))\n",
      "Jet.SoftDroppedSubJet1     TStreamerInfo              asjagged(asobj(<uproot_methods.classes.TLorentzVector.Methods>))\n",
      "Jet.SoftDroppedSubJet2     TStreamerInfo              asjagged(asobj(<uproot_methods.classes.TLorentzVector.Methods>))\n",
      "Jet.TrimmedP4[5]           TStreamerInfo              asjagged(asobj(<uproot_methods.classes.TLorentzVector.Methods>))\n",
      "Jet.PrunedP4[5]            TStreamerInfo              asjagged(asobj(<uproot_methods.classes.TLorentzVector.Methods>))\n",
      "Jet.SoftDroppedP4[5]       TStreamerInfo              asjagged(asobj(<uproot_methods.classes.TLorentzVector.Methods>))\n",
      "Jet.NSubJetsTrimmed        TStreamerBasicType         asjagged(asdtype('>i4'))\n",
      "Jet.NSubJetsPruned         TStreamerBasicType         asjagged(asdtype('>i4'))\n",
      "Jet.NSubJetsSoftDropped    TStreamerBasicType         asjagged(asdtype('>i4'))\n",
      "Jet.ExclYmerge23           TStreamerBasicType         asjagged(asdtype('>f8'))\n",
      "Jet.ExclYmerge34           TStreamerBasicType         asjagged(asdtype('>f8'))\n",
      "Jet.ExclYmerge45           TStreamerBasicType         asjagged(asdtype('>f8'))\n",
      "Jet.ExclYmerge56           TStreamerBasicType         asjagged(asdtype('>f8'))\n",
      "Jet.Constituents           TStreamerInfo              asgenobj(SimpleArray(TRefArray))\n",
      "Jet.Particles              TStreamerInfo              asgenobj(SimpleArray(TRefArray))\n",
      "Jet.Area                   TStreamerInfo              asjagged(asobj(<uproot_methods.classes.TLorentzVector.Methods>))\n",
      "\n",
      "Jet_size                   (no streamer)              asdtype('>i4')\n",
      "Electron                   TStreamerInfo              asdtype('>i4')\n",
      "Electron.fUniqueID         TStreamerBasicType         asjagged(asdtype('>u4'))\n",
      "Electron.fBits             TStreamerBasicType         asjagged(asdtype('>u4'))\n",
      "Electron.PT                TStreamerBasicType         asjagged(asdtype('>f4'))\n",
      "Electron.Eta               TStreamerBasicType         asjagged(asdtype('>f4'))\n",
      "Electron.Phi               TStreamerBasicType         asjagged(asdtype('>f4'))\n",
      "Electron.T                 TStreamerBasicType         asjagged(asdtype('>f4'))\n",
      "Electron.Charge            TStreamerBasicType         asjagged(asdtype('>i4'))\n",
      "Electron.EhadOverEem       TStreamerBasicType         asjagged(asdtype('>f4'))\n",
      "Electron.Particle          TStreamerInfo              asjagged(asobj(<uproot.rootio.TRef>))\n",
      "Electron.IsolationVar      TStreamerBasicType         asjagged(asdtype('>f4'))\n",
      "Electron.IsolationVarRhoCorr\n",
      "                           TStreamerBasicType         asjagged(asdtype('>f4'))\n",
      "Electron.SumPtCharged      TStreamerBasicType         asjagged(asdtype('>f4'))\n",
      "Electron.SumPtNeutral      TStreamerBasicType         asjagged(asdtype('>f4'))\n",
      "Electron.SumPtChargedPU    TStreamerBasicType         asjagged(asdtype('>f4'))\n",
      "Electron.SumPt             TStreamerBasicType         asjagged(asdtype('>f4'))\n",
      "Electron.D0                TStreamerBasicType         asjagged(asdtype('>f4'))\n",
      "Electron.DZ                TStreamerBasicType         asjagged(asdtype('>f4'))\n",
      "Electron.ErrorD0           TStreamerBasicType         asjagged(asdtype('>f4'))\n",
      "Electron.ErrorDZ           TStreamerBasicType         asjagged(asdtype('>f4'))\n",
      "\n",
      "Electron_size              (no streamer)              asdtype('>i4')\n",
      "Photon                     TStreamerInfo              asdtype('>i4')\n",
      "Photon.fUniqueID           TStreamerBasicType         asjagged(asdtype('>u4'))\n",
      "Photon.fBits               TStreamerBasicType         asjagged(asdtype('>u4'))\n",
      "Photon.PT                  TStreamerBasicType         asjagged(asdtype('>f4'))\n",
      "Photon.Eta                 TStreamerBasicType         asjagged(asdtype('>f4'))\n",
      "Photon.Phi                 TStreamerBasicType         asjagged(asdtype('>f4'))\n",
      "Photon.E                   TStreamerBasicType         asjagged(asdtype('>f4'))\n",
      "Photon.T                   TStreamerBasicType         asjagged(asdtype('>f4'))\n",
      "Photon.EhadOverEem         TStreamerBasicType         asjagged(asdtype('>f4'))\n",
      "Photon.Particles           TStreamerInfo              asgenobj(SimpleArray(TRefArray))\n",
      "Photon.IsolationVar        TStreamerBasicType         asjagged(asdtype('>f4'))\n",
      "Photon.IsolationVarRhoCorr TStreamerBasicType         asjagged(asdtype('>f4'))\n",
      "Photon.SumPtCharged        TStreamerBasicType         asjagged(asdtype('>f4'))\n",
      "Photon.SumPtNeutral        TStreamerBasicType         asjagged(asdtype('>f4'))\n",
      "Photon.SumPtChargedPU      TStreamerBasicType         asjagged(asdtype('>f4'))\n",
      "Photon.SumPt               TStreamerBasicType         asjagged(asdtype('>f4'))\n",
      "Photon.Status              TStreamerBasicType         asjagged(asdtype('>i4'))\n",
      "\n",
      "Photon_size                (no streamer)              asdtype('>i4')\n",
      "Muon                       TStreamerInfo              asdtype('>i4')\n",
      "Muon.fUniqueID             TStreamerBasicType         asjagged(asdtype('>u4'))\n",
      "Muon.fBits                 TStreamerBasicType         asjagged(asdtype('>u4'))\n",
      "Muon.PT                    TStreamerBasicType         asjagged(asdtype('>f4'))\n",
      "Muon.Eta                   TStreamerBasicType         asjagged(asdtype('>f4'))\n",
      "Muon.Phi                   TStreamerBasicType         asjagged(asdtype('>f4'))\n",
      "Muon.T                     TStreamerBasicType         asjagged(asdtype('>f4'))\n",
      "Muon.Charge                TStreamerBasicType         asjagged(asdtype('>i4'))\n",
      "Muon.Particle              TStreamerInfo              asjagged(asobj(<uproot.rootio.TRef>))\n",
      "Muon.IsolationVar          TStreamerBasicType         asjagged(asdtype('>f4'))\n",
      "Muon.IsolationVarRhoCorr   TStreamerBasicType         asjagged(asdtype('>f4'))\n",
      "Muon.SumPtCharged          TStreamerBasicType         asjagged(asdtype('>f4'))\n",
      "Muon.SumPtNeutral          TStreamerBasicType         asjagged(asdtype('>f4'))\n",
      "Muon.SumPtChargedPU        TStreamerBasicType         asjagged(asdtype('>f4'))\n",
      "Muon.SumPt                 TStreamerBasicType         asjagged(asdtype('>f4'))\n",
      "Muon.D0                    TStreamerBasicType         asjagged(asdtype('>f4'))\n",
      "Muon.DZ                    TStreamerBasicType         asjagged(asdtype('>f4'))\n",
      "Muon.ErrorD0               TStreamerBasicType         asjagged(asdtype('>f4'))\n",
      "Muon.ErrorDZ               TStreamerBasicType         asjagged(asdtype('>f4'))\n",
      "\n",
      "Muon_size                  (no streamer)              asdtype('>i4')\n",
      "MissingET                  TStreamerInfo              asdtype('>i4')\n",
      "MissingET.fUniqueID        TStreamerBasicType         asjagged(asdtype('>u4'))\n",
      "MissingET.fBits            TStreamerBasicType         asjagged(asdtype('>u4'))\n",
      "MissingET.MET              TStreamerBasicType         asjagged(asdtype('>f4'))\n",
      "MissingET.Eta              TStreamerBasicType         asjagged(asdtype('>f4'))\n",
      "MissingET.Phi              TStreamerBasicType         asjagged(asdtype('>f4'))\n",
      "\n",
      "MissingET_size             (no streamer)              asdtype('>i4')\n",
      "ScalarHT                   TStreamerInfo              asdtype('>i4')\n",
      "ScalarHT.fUniqueID         TStreamerBasicType         asjagged(asdtype('>u4'))\n",
      "ScalarHT.fBits             TStreamerBasicType         asjagged(asdtype('>u4'))\n",
      "ScalarHT.HT                TStreamerBasicType         asjagged(asdtype('>f4'))\n",
      "\n",
      "ScalarHT_size              (no streamer)              asdtype('>i4')\n"
     ]
    }
   ],
   "source": [
    "DATA_4.show()"
   ]
  },
  {
   "cell_type": "code",
   "execution_count": 12,
   "metadata": {
    "collapsed": true,
    "jupyter": {
     "outputs_hidden": true
    }
   },
   "outputs": [
    {
     "name": "stdout",
     "output_type": "stream",
     "text": [
      "Event                      TStreamerInfo              asdtype('>i4')\n",
      "Event.fUniqueID            TStreamerBasicType         asjagged(asdtype('>u4'))\n",
      "Event.fBits                TStreamerBasicType         asjagged(asdtype('>u4'))\n",
      "Event.Number               TStreamerBasicType         asjagged(asdtype('>i8'))\n",
      "Event.ReadTime             TStreamerBasicType         asjagged(asdtype('>f4'))\n",
      "Event.ProcTime             TStreamerBasicType         asjagged(asdtype('>f4'))\n",
      "Event.ProcessID            TStreamerBasicType         asjagged(asdtype('>i4'))\n",
      "Event.MPI                  TStreamerBasicType         asjagged(asdtype('>i4'))\n",
      "Event.Weight               TStreamerBasicType         asjagged(asdtype('>f4'))\n",
      "Event.CrossSection         TStreamerBasicType         asjagged(asdtype('>f4'))\n",
      "Event.CrossSectionError    TStreamerBasicType         asjagged(asdtype('>f4'))\n",
      "Event.Scale                TStreamerBasicType         asjagged(asdtype('>f4'))\n",
      "Event.AlphaQED             TStreamerBasicType         asjagged(asdtype('>f4'))\n",
      "Event.AlphaQCD             TStreamerBasicType         asjagged(asdtype('>f4'))\n",
      "Event.ID1                  TStreamerBasicType         asjagged(asdtype('>i4'))\n",
      "Event.ID2                  TStreamerBasicType         asjagged(asdtype('>i4'))\n",
      "Event.X1                   TStreamerBasicType         asjagged(asdtype('>f4'))\n",
      "Event.X2                   TStreamerBasicType         asjagged(asdtype('>f4'))\n",
      "Event.ScalePDF             TStreamerBasicType         asjagged(asdtype('>f4'))\n",
      "Event.PDF1                 TStreamerBasicType         asjagged(asdtype('>f4'))\n",
      "Event.PDF2                 TStreamerBasicType         asjagged(asdtype('>f4'))\n",
      "\n",
      "Event_size                 (no streamer)              asdtype('>i4')\n",
      "EventLHEF                  TStreamerInfo              asdtype('>i4')\n",
      "EventLHEF.fUniqueID        TStreamerBasicType         asjagged(asdtype('>u4'))\n",
      "EventLHEF.fBits            TStreamerBasicType         asjagged(asdtype('>u4'))\n",
      "EventLHEF.Number           TStreamerBasicType         asjagged(asdtype('>i8'))\n",
      "EventLHEF.ReadTime         TStreamerBasicType         asjagged(asdtype('>f4'))\n",
      "EventLHEF.ProcTime         TStreamerBasicType         asjagged(asdtype('>f4'))\n",
      "EventLHEF.ProcessID        TStreamerBasicType         asjagged(asdtype('>i4'))\n",
      "EventLHEF.Weight           TStreamerBasicType         asjagged(asdtype('>f4'))\n",
      "EventLHEF.CrossSection     TStreamerBasicType         asjagged(asdtype('>f4'))\n",
      "EventLHEF.ScalePDF         TStreamerBasicType         asjagged(asdtype('>f4'))\n",
      "EventLHEF.AlphaQED         TStreamerBasicType         asjagged(asdtype('>f4'))\n",
      "EventLHEF.AlphaQCD         TStreamerBasicType         asjagged(asdtype('>f4'))\n",
      "\n",
      "EventLHEF_size             (no streamer)              asdtype('>i4')\n",
      "WeightLHEF                 TStreamerInfo              asdtype('>i4')\n",
      "WeightLHEF.fUniqueID       TStreamerBasicType         asjagged(asdtype('>u4'))\n",
      "WeightLHEF.fBits           TStreamerBasicType         asjagged(asdtype('>u4'))\n",
      "WeightLHEF.ID              TStreamerBasicType         asjagged(asdtype('>i4'))\n",
      "WeightLHEF.Weight          TStreamerBasicType         asjagged(asdtype('>f4'))\n",
      "\n",
      "WeightLHEF_size            (no streamer)              asdtype('>i4')\n",
      "Particle                   TStreamerInfo              asdtype('>i4')\n",
      "Particle.fUniqueID         TStreamerBasicType         asjagged(asdtype('>u4'))\n",
      "Particle.fBits             TStreamerBasicType         asjagged(asdtype('>u4'))\n",
      "Particle.PID               TStreamerBasicType         asjagged(asdtype('>i4'))\n",
      "Particle.Status            TStreamerBasicType         asjagged(asdtype('>i4'))\n",
      "Particle.IsPU              TStreamerBasicType         asjagged(asdtype('>i4'))\n",
      "Particle.M1                TStreamerBasicType         asjagged(asdtype('>i4'))\n",
      "Particle.M2                TStreamerBasicType         asjagged(asdtype('>i4'))\n",
      "Particle.D1                TStreamerBasicType         asjagged(asdtype('>i4'))\n",
      "Particle.D2                TStreamerBasicType         asjagged(asdtype('>i4'))\n",
      "Particle.Charge            TStreamerBasicType         asjagged(asdtype('>i4'))\n",
      "Particle.Mass              TStreamerBasicType         asjagged(asdtype('>f4'))\n",
      "Particle.E                 TStreamerBasicType         asjagged(asdtype('>f4'))\n",
      "Particle.Px                TStreamerBasicType         asjagged(asdtype('>f4'))\n",
      "Particle.Py                TStreamerBasicType         asjagged(asdtype('>f4'))\n",
      "Particle.Pz                TStreamerBasicType         asjagged(asdtype('>f4'))\n",
      "Particle.P                 TStreamerBasicType         asjagged(asdtype('>f4'))\n",
      "Particle.PT                TStreamerBasicType         asjagged(asdtype('>f4'))\n",
      "Particle.Eta               TStreamerBasicType         asjagged(asdtype('>f4'))\n",
      "Particle.Phi               TStreamerBasicType         asjagged(asdtype('>f4'))\n",
      "Particle.Rapidity          TStreamerBasicType         asjagged(asdtype('>f4'))\n",
      "Particle.CtgTheta          TStreamerBasicType         asjagged(asdtype('>f4'))\n",
      "Particle.D0                TStreamerBasicType         asjagged(asdtype('>f4'))\n",
      "Particle.DZ                TStreamerBasicType         asjagged(asdtype('>f4'))\n",
      "Particle.T                 TStreamerBasicType         asjagged(asdtype('>f4'))\n",
      "Particle.X                 TStreamerBasicType         asjagged(asdtype('>f4'))\n",
      "Particle.Y                 TStreamerBasicType         asjagged(asdtype('>f4'))\n",
      "Particle.Z                 TStreamerBasicType         asjagged(asdtype('>f4'))\n",
      "\n",
      "Particle_size              (no streamer)              asdtype('>i4')\n",
      "Track                      TStreamerInfo              asdtype('>i4')\n",
      "Track.fUniqueID            TStreamerBasicType         asjagged(asdtype('>u4'))\n",
      "Track.fBits                TStreamerBasicType         asjagged(asdtype('>u4'))\n",
      "Track.PID                  TStreamerBasicType         asjagged(asdtype('>i4'))\n",
      "Track.Charge               TStreamerBasicType         asjagged(asdtype('>i4'))\n",
      "Track.P                    TStreamerBasicType         asjagged(asdtype('>f4'))\n",
      "Track.PT                   TStreamerBasicType         asjagged(asdtype('>f4'))\n",
      "Track.Eta                  TStreamerBasicType         asjagged(asdtype('>f4'))\n",
      "Track.Phi                  TStreamerBasicType         asjagged(asdtype('>f4'))\n",
      "Track.CtgTheta             TStreamerBasicType         asjagged(asdtype('>f4'))\n",
      "Track.EtaOuter             TStreamerBasicType         asjagged(asdtype('>f4'))\n",
      "Track.PhiOuter             TStreamerBasicType         asjagged(asdtype('>f4'))\n",
      "Track.T                    TStreamerBasicType         asjagged(asdtype('>f4'))\n",
      "Track.X                    TStreamerBasicType         asjagged(asdtype('>f4'))\n",
      "Track.Y                    TStreamerBasicType         asjagged(asdtype('>f4'))\n",
      "Track.Z                    TStreamerBasicType         asjagged(asdtype('>f4'))\n",
      "Track.TOuter               TStreamerBasicType         asjagged(asdtype('>f4'))\n",
      "Track.XOuter               TStreamerBasicType         asjagged(asdtype('>f4'))\n",
      "Track.YOuter               TStreamerBasicType         asjagged(asdtype('>f4'))\n",
      "Track.ZOuter               TStreamerBasicType         asjagged(asdtype('>f4'))\n",
      "Track.Xd                   TStreamerBasicType         asjagged(asdtype('>f4'))\n",
      "Track.Yd                   TStreamerBasicType         asjagged(asdtype('>f4'))\n",
      "Track.Zd                   TStreamerBasicType         asjagged(asdtype('>f4'))\n",
      "Track.L                    TStreamerBasicType         asjagged(asdtype('>f4'))\n",
      "Track.D0                   TStreamerBasicType         asjagged(asdtype('>f4'))\n",
      "Track.DZ                   TStreamerBasicType         asjagged(asdtype('>f4'))\n",
      "Track.ErrorP               TStreamerBasicType         asjagged(asdtype('>f4'))\n",
      "Track.ErrorPT              TStreamerBasicType         asjagged(asdtype('>f4'))\n",
      "Track.ErrorPhi             TStreamerBasicType         asjagged(asdtype('>f4'))\n",
      "Track.ErrorCtgTheta        TStreamerBasicType         asjagged(asdtype('>f4'))\n",
      "Track.ErrorT               TStreamerBasicType         asjagged(asdtype('>f4'))\n",
      "Track.ErrorD0              TStreamerBasicType         asjagged(asdtype('>f4'))\n",
      "Track.ErrorDZ              TStreamerBasicType         asjagged(asdtype('>f4'))\n",
      "Track.Particle             TStreamerInfo              asjagged(asobj(<uproot.rootio.TRef>))\n",
      "Track.VertexIndex          TStreamerBasicType         asjagged(asdtype('>i4'))\n",
      "\n",
      "Track_size                 (no streamer)              asdtype('>i4')\n",
      "Tower                      TStreamerInfo              asdtype('>i4')\n",
      "Tower.fUniqueID            TStreamerBasicType         asjagged(asdtype('>u4'))\n",
      "Tower.fBits                TStreamerBasicType         asjagged(asdtype('>u4'))\n",
      "Tower.ET                   TStreamerBasicType         asjagged(asdtype('>f4'))\n",
      "Tower.Eta                  TStreamerBasicType         asjagged(asdtype('>f4'))\n",
      "Tower.Phi                  TStreamerBasicType         asjagged(asdtype('>f4'))\n",
      "Tower.E                    TStreamerBasicType         asjagged(asdtype('>f4'))\n",
      "Tower.T                    TStreamerBasicType         asjagged(asdtype('>f4'))\n",
      "Tower.NTimeHits            TStreamerBasicType         asjagged(asdtype('>i4'))\n",
      "Tower.Eem                  TStreamerBasicType         asjagged(asdtype('>f4'))\n",
      "Tower.Ehad                 TStreamerBasicType         asjagged(asdtype('>f4'))\n",
      "Tower.Edges[4]             TStreamerBasicType         asjagged(asdtype(\"('>f4', (4,))\"))\n",
      "Tower.Particles            TStreamerInfo              asgenobj(SimpleArray(TRefArray))\n",
      "\n",
      "Tower_size                 (no streamer)              asdtype('>i4')\n",
      "EFlowTrack                 TStreamerInfo              asdtype('>i4')\n",
      "EFlowTrack.fUniqueID       TStreamerBasicType         asjagged(asdtype('>u4'))\n",
      "EFlowTrack.fBits           TStreamerBasicType         asjagged(asdtype('>u4'))\n",
      "EFlowTrack.PID             TStreamerBasicType         asjagged(asdtype('>i4'))\n",
      "EFlowTrack.Charge          TStreamerBasicType         asjagged(asdtype('>i4'))\n",
      "EFlowTrack.P               TStreamerBasicType         asjagged(asdtype('>f4'))\n",
      "EFlowTrack.PT              TStreamerBasicType         asjagged(asdtype('>f4'))\n",
      "EFlowTrack.Eta             TStreamerBasicType         asjagged(asdtype('>f4'))\n",
      "EFlowTrack.Phi             TStreamerBasicType         asjagged(asdtype('>f4'))\n",
      "EFlowTrack.CtgTheta        TStreamerBasicType         asjagged(asdtype('>f4'))\n",
      "EFlowTrack.EtaOuter        TStreamerBasicType         asjagged(asdtype('>f4'))\n",
      "EFlowTrack.PhiOuter        TStreamerBasicType         asjagged(asdtype('>f4'))\n",
      "EFlowTrack.T               TStreamerBasicType         asjagged(asdtype('>f4'))\n",
      "EFlowTrack.X               TStreamerBasicType         asjagged(asdtype('>f4'))\n",
      "EFlowTrack.Y               TStreamerBasicType         asjagged(asdtype('>f4'))\n",
      "EFlowTrack.Z               TStreamerBasicType         asjagged(asdtype('>f4'))\n",
      "EFlowTrack.TOuter          TStreamerBasicType         asjagged(asdtype('>f4'))\n",
      "EFlowTrack.XOuter          TStreamerBasicType         asjagged(asdtype('>f4'))\n",
      "EFlowTrack.YOuter          TStreamerBasicType         asjagged(asdtype('>f4'))\n",
      "EFlowTrack.ZOuter          TStreamerBasicType         asjagged(asdtype('>f4'))\n",
      "EFlowTrack.Xd              TStreamerBasicType         asjagged(asdtype('>f4'))\n",
      "EFlowTrack.Yd              TStreamerBasicType         asjagged(asdtype('>f4'))\n",
      "EFlowTrack.Zd              TStreamerBasicType         asjagged(asdtype('>f4'))\n",
      "EFlowTrack.L               TStreamerBasicType         asjagged(asdtype('>f4'))\n",
      "EFlowTrack.D0              TStreamerBasicType         asjagged(asdtype('>f4'))\n",
      "EFlowTrack.DZ              TStreamerBasicType         asjagged(asdtype('>f4'))\n",
      "EFlowTrack.ErrorP          TStreamerBasicType         asjagged(asdtype('>f4'))\n",
      "EFlowTrack.ErrorPT         TStreamerBasicType         asjagged(asdtype('>f4'))\n",
      "EFlowTrack.ErrorPhi        TStreamerBasicType         asjagged(asdtype('>f4'))\n",
      "EFlowTrack.ErrorCtgTheta   TStreamerBasicType         asjagged(asdtype('>f4'))\n",
      "EFlowTrack.ErrorT          TStreamerBasicType         asjagged(asdtype('>f4'))\n",
      "EFlowTrack.ErrorD0         TStreamerBasicType         asjagged(asdtype('>f4'))\n",
      "EFlowTrack.ErrorDZ         TStreamerBasicType         asjagged(asdtype('>f4'))\n",
      "EFlowTrack.Particle        TStreamerInfo              asjagged(asobj(<uproot.rootio.TRef>))\n",
      "EFlowTrack.VertexIndex     TStreamerBasicType         asjagged(asdtype('>i4'))\n",
      "\n",
      "EFlowTrack_size            (no streamer)              asdtype('>i4')\n",
      "EFlowPhoton                TStreamerInfo              asdtype('>i4')\n",
      "EFlowPhoton.fUniqueID      TStreamerBasicType         asjagged(asdtype('>u4'))\n",
      "EFlowPhoton.fBits          TStreamerBasicType         asjagged(asdtype('>u4'))\n",
      "EFlowPhoton.ET             TStreamerBasicType         asjagged(asdtype('>f4'))\n",
      "EFlowPhoton.Eta            TStreamerBasicType         asjagged(asdtype('>f4'))\n",
      "EFlowPhoton.Phi            TStreamerBasicType         asjagged(asdtype('>f4'))\n",
      "EFlowPhoton.E              TStreamerBasicType         asjagged(asdtype('>f4'))\n",
      "EFlowPhoton.T              TStreamerBasicType         asjagged(asdtype('>f4'))\n",
      "EFlowPhoton.NTimeHits      TStreamerBasicType         asjagged(asdtype('>i4'))\n",
      "EFlowPhoton.Eem            TStreamerBasicType         asjagged(asdtype('>f4'))\n",
      "EFlowPhoton.Ehad           TStreamerBasicType         asjagged(asdtype('>f4'))\n",
      "EFlowPhoton.Edges[4]       TStreamerBasicType         asjagged(asdtype(\"('>f4', (4,))\"))\n",
      "EFlowPhoton.Particles      TStreamerInfo              asgenobj(SimpleArray(TRefArray))\n",
      "\n",
      "EFlowPhoton_size           (no streamer)              asdtype('>i4')\n",
      "EFlowNeutralHadron         TStreamerInfo              asdtype('>i4')\n",
      "EFlowNeutralHadron.fUniqueID\n",
      "                           TStreamerBasicType         asjagged(asdtype('>u4'))\n",
      "EFlowNeutralHadron.fBits   TStreamerBasicType         asjagged(asdtype('>u4'))\n",
      "EFlowNeutralHadron.ET      TStreamerBasicType         asjagged(asdtype('>f4'))\n",
      "EFlowNeutralHadron.Eta     TStreamerBasicType         asjagged(asdtype('>f4'))\n",
      "EFlowNeutralHadron.Phi     TStreamerBasicType         asjagged(asdtype('>f4'))\n",
      "EFlowNeutralHadron.E       TStreamerBasicType         asjagged(asdtype('>f4'))\n",
      "EFlowNeutralHadron.T       TStreamerBasicType         asjagged(asdtype('>f4'))\n",
      "EFlowNeutralHadron.NTimeHits\n",
      "                           TStreamerBasicType         asjagged(asdtype('>i4'))\n",
      "EFlowNeutralHadron.Eem     TStreamerBasicType         asjagged(asdtype('>f4'))\n",
      "EFlowNeutralHadron.Ehad    TStreamerBasicType         asjagged(asdtype('>f4'))\n",
      "EFlowNeutralHadron.Edges[4]\n",
      "                           TStreamerBasicType         asjagged(asdtype(\"('>f4', (4,))\"))\n",
      "EFlowNeutralHadron.Particles\n",
      "                           TStreamerInfo              asgenobj(SimpleArray(TRefArray))\n",
      "\n",
      "EFlowNeutralHadron_size    (no streamer)              asdtype('>i4')\n",
      "GenJet                     TStreamerInfo              asdtype('>i4')\n",
      "GenJet.fUniqueID           TStreamerBasicType         asjagged(asdtype('>u4'))\n",
      "GenJet.fBits               TStreamerBasicType         asjagged(asdtype('>u4'))\n",
      "GenJet.PT                  TStreamerBasicType         asjagged(asdtype('>f4'))\n",
      "GenJet.Eta                 TStreamerBasicType         asjagged(asdtype('>f4'))\n",
      "GenJet.Phi                 TStreamerBasicType         asjagged(asdtype('>f4'))\n",
      "GenJet.T                   TStreamerBasicType         asjagged(asdtype('>f4'))\n",
      "GenJet.Mass                TStreamerBasicType         asjagged(asdtype('>f4'))\n",
      "GenJet.DeltaEta            TStreamerBasicType         asjagged(asdtype('>f4'))\n",
      "GenJet.DeltaPhi            TStreamerBasicType         asjagged(asdtype('>f4'))\n",
      "GenJet.Flavor              TStreamerBasicType         asjagged(asdtype('>u4'))\n",
      "GenJet.FlavorAlgo          TStreamerBasicType         asjagged(asdtype('>u4'))\n",
      "GenJet.FlavorPhys          TStreamerBasicType         asjagged(asdtype('>u4'))\n",
      "GenJet.BTag                TStreamerBasicType         asjagged(asdtype('>u4'))\n",
      "GenJet.BTagAlgo            TStreamerBasicType         asjagged(asdtype('>u4'))\n",
      "GenJet.BTagPhys            TStreamerBasicType         asjagged(asdtype('>u4'))\n",
      "GenJet.TauTag              TStreamerBasicType         asjagged(asdtype('>u4'))\n",
      "GenJet.TauWeight           TStreamerBasicType         asjagged(asdtype('>f4'))\n",
      "GenJet.Charge              TStreamerBasicType         asjagged(asdtype('>i4'))\n",
      "GenJet.EhadOverEem         TStreamerBasicType         asjagged(asdtype('>f4'))\n",
      "GenJet.NCharged            TStreamerBasicType         asjagged(asdtype('>i4'))\n",
      "GenJet.NNeutrals           TStreamerBasicType         asjagged(asdtype('>i4'))\n",
      "GenJet.Beta                TStreamerBasicType         asjagged(asdtype('>f4'))\n",
      "GenJet.BetaStar            TStreamerBasicType         asjagged(asdtype('>f4'))\n",
      "GenJet.MeanSqDeltaR        TStreamerBasicType         asjagged(asdtype('>f4'))\n",
      "GenJet.PTD                 TStreamerBasicType         asjagged(asdtype('>f4'))\n",
      "GenJet.FracPt[5]           TStreamerBasicType         asjagged(asdtype(\"('>f4', (5,))\"))\n",
      "GenJet.Tau[5]              TStreamerBasicType         asjagged(asdtype(\"('>f4', (5,))\"))\n",
      "GenJet.SoftDroppedJet      TStreamerInfo              asjagged(asobj(<uproot_methods.classes.TLorentzVector.Methods>))\n",
      "GenJet.SoftDroppedSubJet1  TStreamerInfo              asjagged(asobj(<uproot_methods.classes.TLorentzVector.Methods>))\n",
      "GenJet.SoftDroppedSubJet2  TStreamerInfo              asjagged(asobj(<uproot_methods.classes.TLorentzVector.Methods>))\n",
      "GenJet.TrimmedP4[5]        TStreamerInfo              asjagged(asobj(<uproot_methods.classes.TLorentzVector.Methods>))\n",
      "GenJet.PrunedP4[5]         TStreamerInfo              asjagged(asobj(<uproot_methods.classes.TLorentzVector.Methods>))\n",
      "GenJet.SoftDroppedP4[5]    TStreamerInfo              asjagged(asobj(<uproot_methods.classes.TLorentzVector.Methods>))\n",
      "GenJet.NSubJetsTrimmed     TStreamerBasicType         asjagged(asdtype('>i4'))\n",
      "GenJet.NSubJetsPruned      TStreamerBasicType         asjagged(asdtype('>i4'))\n",
      "GenJet.NSubJetsSoftDropped TStreamerBasicType         asjagged(asdtype('>i4'))\n",
      "GenJet.ExclYmerge23        TStreamerBasicType         asjagged(asdtype('>f8'))\n",
      "GenJet.ExclYmerge34        TStreamerBasicType         asjagged(asdtype('>f8'))\n",
      "GenJet.ExclYmerge45        TStreamerBasicType         asjagged(asdtype('>f8'))\n",
      "GenJet.ExclYmerge56        TStreamerBasicType         asjagged(asdtype('>f8'))\n",
      "GenJet.Constituents        TStreamerInfo              asgenobj(SimpleArray(TRefArray))\n",
      "GenJet.Particles           TStreamerInfo              asgenobj(SimpleArray(TRefArray))\n",
      "GenJet.Area                TStreamerInfo              asjagged(asobj(<uproot_methods.classes.TLorentzVector.Methods>))\n",
      "\n",
      "GenJet_size                (no streamer)              asdtype('>i4')\n",
      "GenMissingET               TStreamerInfo              asdtype('>i4')\n",
      "GenMissingET.fUniqueID     TStreamerBasicType         asjagged(asdtype('>u4'))\n",
      "GenMissingET.fBits         TStreamerBasicType         asjagged(asdtype('>u4'))\n",
      "GenMissingET.MET           TStreamerBasicType         asjagged(asdtype('>f4'))\n",
      "GenMissingET.Eta           TStreamerBasicType         asjagged(asdtype('>f4'))\n",
      "GenMissingET.Phi           TStreamerBasicType         asjagged(asdtype('>f4'))\n",
      "\n",
      "GenMissingET_size          (no streamer)              asdtype('>i4')\n",
      "Jet                        TStreamerInfo              asdtype('>i4')\n",
      "Jet.fUniqueID              TStreamerBasicType         asjagged(asdtype('>u4'))\n",
      "Jet.fBits                  TStreamerBasicType         asjagged(asdtype('>u4'))\n",
      "Jet.PT                     TStreamerBasicType         asjagged(asdtype('>f4'))\n",
      "Jet.Eta                    TStreamerBasicType         asjagged(asdtype('>f4'))\n",
      "Jet.Phi                    TStreamerBasicType         asjagged(asdtype('>f4'))\n",
      "Jet.T                      TStreamerBasicType         asjagged(asdtype('>f4'))\n",
      "Jet.Mass                   TStreamerBasicType         asjagged(asdtype('>f4'))\n",
      "Jet.DeltaEta               TStreamerBasicType         asjagged(asdtype('>f4'))\n",
      "Jet.DeltaPhi               TStreamerBasicType         asjagged(asdtype('>f4'))\n",
      "Jet.Flavor                 TStreamerBasicType         asjagged(asdtype('>u4'))\n",
      "Jet.FlavorAlgo             TStreamerBasicType         asjagged(asdtype('>u4'))\n",
      "Jet.FlavorPhys             TStreamerBasicType         asjagged(asdtype('>u4'))\n",
      "Jet.BTag                   TStreamerBasicType         asjagged(asdtype('>u4'))\n",
      "Jet.BTagAlgo               TStreamerBasicType         asjagged(asdtype('>u4'))\n",
      "Jet.BTagPhys               TStreamerBasicType         asjagged(asdtype('>u4'))\n",
      "Jet.TauTag                 TStreamerBasicType         asjagged(asdtype('>u4'))\n",
      "Jet.TauWeight              TStreamerBasicType         asjagged(asdtype('>f4'))\n",
      "Jet.Charge                 TStreamerBasicType         asjagged(asdtype('>i4'))\n",
      "Jet.EhadOverEem            TStreamerBasicType         asjagged(asdtype('>f4'))\n",
      "Jet.NCharged               TStreamerBasicType         asjagged(asdtype('>i4'))\n",
      "Jet.NNeutrals              TStreamerBasicType         asjagged(asdtype('>i4'))\n",
      "Jet.Beta                   TStreamerBasicType         asjagged(asdtype('>f4'))\n",
      "Jet.BetaStar               TStreamerBasicType         asjagged(asdtype('>f4'))\n",
      "Jet.MeanSqDeltaR           TStreamerBasicType         asjagged(asdtype('>f4'))\n",
      "Jet.PTD                    TStreamerBasicType         asjagged(asdtype('>f4'))\n",
      "Jet.FracPt[5]              TStreamerBasicType         asjagged(asdtype(\"('>f4', (5,))\"))\n",
      "Jet.Tau[5]                 TStreamerBasicType         asjagged(asdtype(\"('>f4', (5,))\"))\n",
      "Jet.SoftDroppedJet         TStreamerInfo              asjagged(asobj(<uproot_methods.classes.TLorentzVector.Methods>))\n",
      "Jet.SoftDroppedSubJet1     TStreamerInfo              asjagged(asobj(<uproot_methods.classes.TLorentzVector.Methods>))\n",
      "Jet.SoftDroppedSubJet2     TStreamerInfo              asjagged(asobj(<uproot_methods.classes.TLorentzVector.Methods>))\n",
      "Jet.TrimmedP4[5]           TStreamerInfo              asjagged(asobj(<uproot_methods.classes.TLorentzVector.Methods>))\n",
      "Jet.PrunedP4[5]            TStreamerInfo              asjagged(asobj(<uproot_methods.classes.TLorentzVector.Methods>))\n",
      "Jet.SoftDroppedP4[5]       TStreamerInfo              asjagged(asobj(<uproot_methods.classes.TLorentzVector.Methods>))\n",
      "Jet.NSubJetsTrimmed        TStreamerBasicType         asjagged(asdtype('>i4'))\n",
      "Jet.NSubJetsPruned         TStreamerBasicType         asjagged(asdtype('>i4'))\n",
      "Jet.NSubJetsSoftDropped    TStreamerBasicType         asjagged(asdtype('>i4'))\n",
      "Jet.ExclYmerge23           TStreamerBasicType         asjagged(asdtype('>f8'))\n",
      "Jet.ExclYmerge34           TStreamerBasicType         asjagged(asdtype('>f8'))\n",
      "Jet.ExclYmerge45           TStreamerBasicType         asjagged(asdtype('>f8'))\n",
      "Jet.ExclYmerge56           TStreamerBasicType         asjagged(asdtype('>f8'))\n",
      "Jet.Constituents           TStreamerInfo              asgenobj(SimpleArray(TRefArray))\n",
      "Jet.Particles              TStreamerInfo              asgenobj(SimpleArray(TRefArray))\n",
      "Jet.Area                   TStreamerInfo              asjagged(asobj(<uproot_methods.classes.TLorentzVector.Methods>))\n",
      "\n",
      "Jet_size                   (no streamer)              asdtype('>i4')\n",
      "Electron                   TStreamerInfo              asdtype('>i4')\n",
      "Electron.fUniqueID         TStreamerBasicType         asjagged(asdtype('>u4'))\n",
      "Electron.fBits             TStreamerBasicType         asjagged(asdtype('>u4'))\n",
      "Electron.PT                TStreamerBasicType         asjagged(asdtype('>f4'))\n",
      "Electron.Eta               TStreamerBasicType         asjagged(asdtype('>f4'))\n",
      "Electron.Phi               TStreamerBasicType         asjagged(asdtype('>f4'))\n",
      "Electron.T                 TStreamerBasicType         asjagged(asdtype('>f4'))\n",
      "Electron.Charge            TStreamerBasicType         asjagged(asdtype('>i4'))\n",
      "Electron.EhadOverEem       TStreamerBasicType         asjagged(asdtype('>f4'))\n",
      "Electron.Particle          TStreamerInfo              asjagged(asobj(<uproot.rootio.TRef>))\n",
      "Electron.IsolationVar      TStreamerBasicType         asjagged(asdtype('>f4'))\n",
      "Electron.IsolationVarRhoCorr\n",
      "                           TStreamerBasicType         asjagged(asdtype('>f4'))\n",
      "Electron.SumPtCharged      TStreamerBasicType         asjagged(asdtype('>f4'))\n",
      "Electron.SumPtNeutral      TStreamerBasicType         asjagged(asdtype('>f4'))\n",
      "Electron.SumPtChargedPU    TStreamerBasicType         asjagged(asdtype('>f4'))\n",
      "Electron.SumPt             TStreamerBasicType         asjagged(asdtype('>f4'))\n",
      "Electron.D0                TStreamerBasicType         asjagged(asdtype('>f4'))\n",
      "Electron.DZ                TStreamerBasicType         asjagged(asdtype('>f4'))\n",
      "Electron.ErrorD0           TStreamerBasicType         asjagged(asdtype('>f4'))\n",
      "Electron.ErrorDZ           TStreamerBasicType         asjagged(asdtype('>f4'))\n",
      "\n",
      "Electron_size              (no streamer)              asdtype('>i4')\n",
      "Photon                     TStreamerInfo              asdtype('>i4')\n",
      "Photon.fUniqueID           TStreamerBasicType         asjagged(asdtype('>u4'))\n",
      "Photon.fBits               TStreamerBasicType         asjagged(asdtype('>u4'))\n",
      "Photon.PT                  TStreamerBasicType         asjagged(asdtype('>f4'))\n",
      "Photon.Eta                 TStreamerBasicType         asjagged(asdtype('>f4'))\n",
      "Photon.Phi                 TStreamerBasicType         asjagged(asdtype('>f4'))\n",
      "Photon.E                   TStreamerBasicType         asjagged(asdtype('>f4'))\n",
      "Photon.T                   TStreamerBasicType         asjagged(asdtype('>f4'))\n",
      "Photon.EhadOverEem         TStreamerBasicType         asjagged(asdtype('>f4'))\n",
      "Photon.Particles           TStreamerInfo              asgenobj(SimpleArray(TRefArray))\n",
      "Photon.IsolationVar        TStreamerBasicType         asjagged(asdtype('>f4'))\n",
      "Photon.IsolationVarRhoCorr TStreamerBasicType         asjagged(asdtype('>f4'))\n",
      "Photon.SumPtCharged        TStreamerBasicType         asjagged(asdtype('>f4'))\n",
      "Photon.SumPtNeutral        TStreamerBasicType         asjagged(asdtype('>f4'))\n",
      "Photon.SumPtChargedPU      TStreamerBasicType         asjagged(asdtype('>f4'))\n",
      "Photon.SumPt               TStreamerBasicType         asjagged(asdtype('>f4'))\n",
      "Photon.Status              TStreamerBasicType         asjagged(asdtype('>i4'))\n",
      "\n",
      "Photon_size                (no streamer)              asdtype('>i4')\n",
      "Muon                       TStreamerInfo              asdtype('>i4')\n",
      "Muon.fUniqueID             TStreamerBasicType         asjagged(asdtype('>u4'))\n",
      "Muon.fBits                 TStreamerBasicType         asjagged(asdtype('>u4'))\n",
      "Muon.PT                    TStreamerBasicType         asjagged(asdtype('>f4'))\n",
      "Muon.Eta                   TStreamerBasicType         asjagged(asdtype('>f4'))\n",
      "Muon.Phi                   TStreamerBasicType         asjagged(asdtype('>f4'))\n",
      "Muon.T                     TStreamerBasicType         asjagged(asdtype('>f4'))\n",
      "Muon.Charge                TStreamerBasicType         asjagged(asdtype('>i4'))\n",
      "Muon.Particle              TStreamerInfo              asjagged(asobj(<uproot.rootio.TRef>))\n",
      "Muon.IsolationVar          TStreamerBasicType         asjagged(asdtype('>f4'))\n",
      "Muon.IsolationVarRhoCorr   TStreamerBasicType         asjagged(asdtype('>f4'))\n",
      "Muon.SumPtCharged          TStreamerBasicType         asjagged(asdtype('>f4'))\n",
      "Muon.SumPtNeutral          TStreamerBasicType         asjagged(asdtype('>f4'))\n",
      "Muon.SumPtChargedPU        TStreamerBasicType         asjagged(asdtype('>f4'))\n",
      "Muon.SumPt                 TStreamerBasicType         asjagged(asdtype('>f4'))\n",
      "Muon.D0                    TStreamerBasicType         asjagged(asdtype('>f4'))\n",
      "Muon.DZ                    TStreamerBasicType         asjagged(asdtype('>f4'))\n",
      "Muon.ErrorD0               TStreamerBasicType         asjagged(asdtype('>f4'))\n",
      "Muon.ErrorDZ               TStreamerBasicType         asjagged(asdtype('>f4'))\n",
      "\n",
      "Muon_size                  (no streamer)              asdtype('>i4')\n",
      "MissingET                  TStreamerInfo              asdtype('>i4')\n",
      "MissingET.fUniqueID        TStreamerBasicType         asjagged(asdtype('>u4'))\n",
      "MissingET.fBits            TStreamerBasicType         asjagged(asdtype('>u4'))\n",
      "MissingET.MET              TStreamerBasicType         asjagged(asdtype('>f4'))\n",
      "MissingET.Eta              TStreamerBasicType         asjagged(asdtype('>f4'))\n",
      "MissingET.Phi              TStreamerBasicType         asjagged(asdtype('>f4'))\n",
      "\n",
      "MissingET_size             (no streamer)              asdtype('>i4')\n",
      "ScalarHT                   TStreamerInfo              asdtype('>i4')\n",
      "ScalarHT.fUniqueID         TStreamerBasicType         asjagged(asdtype('>u4'))\n",
      "ScalarHT.fBits             TStreamerBasicType         asjagged(asdtype('>u4'))\n",
      "ScalarHT.HT                TStreamerBasicType         asjagged(asdtype('>f4'))\n",
      "\n",
      "ScalarHT_size              (no streamer)              asdtype('>i4')\n"
     ]
    }
   ],
   "source": [
    "DATA_84.show()"
   ]
  },
  {
   "cell_type": "markdown",
   "metadata": {},
   "source": [
    "#### Conclusion: For the main89 .root, there are no branchs \"EventLHEF.Weight\" and \"WeightLHEF.Weight\"."
   ]
  },
  {
   "cell_type": "markdown",
   "metadata": {},
   "source": [
    "### 3-1. Look over the event weight in .root file"
   ]
  },
  {
   "cell_type": "code",
   "execution_count": 13,
   "metadata": {},
   "outputs": [
    {
     "name": "stdout",
     "output_type": "stream",
     "text": [
      "----------------------------------------------------------------------------------------------------\n",
      "----------------------------------------------------------------------------------------------------\n",
      "[[1.1548846e-13] [2.2193442e-13] [1.1548846e-13] ... [1.8988278e-13] [1.1548846e-13] [1.7454567e-13]]\n",
      "========================================================================================================================\n",
      "[[1.1548845] [1.1548845] [1.1548845] ... [1.1548845] [1.1548845] [1.1548845]]\n",
      "----------------------------------------------------------------------------------------------------\n",
      "[[1.2337008 1.2337018 1.2337011 ... 1.2213006 1.105263 1.1409763] [1.4284981 1.4126315 1.4126256 ... 1.2456698 1.0978965 1.1334784] [1.3214043 1.3962905 1.3962675 ... 1.1211915 1.1682717 1.1740068] ... [1.3215117 1.3653513 1.365339 ... 1.1652775 1.1459279 1.1719084] [1.2299582 1.3647645 1.3646941 ... 1.1213028 1.163326 1.1698431] [1.3151894 1.3454642 1.3454514 ... 1.1731826 1.1762279 1.196033]]\n"
     ]
    }
   ],
   "source": [
    "# print(DATA_4['EventLHEF.Weight'].array())\n",
    "print('-'*100)\n",
    "# print(DATA_4['WeightLHEF.Weight'].array())\n",
    "print('-'*100)\n",
    "print(DATA_4['Weight.Weight'].array())\n",
    "print('='*120)\n",
    "print(DATA_84['EventLHEF.Weight'].array())\n",
    "print('-'*100)\n",
    "print(DATA_84['WeightLHEF.Weight'].array())"
   ]
  },
  {
   "cell_type": "code",
   "execution_count": 14,
   "metadata": {},
   "outputs": [],
   "source": [
    "weight_weight = DATA_4['Weight.Weight'].array()\n",
    "weight_event_lhe = DATA_84['EventLHEF.Weight'].array()\n",
    "weight_weight_lhe = DATA_84['WeightLHEF.Weight'].array()"
   ]
  },
  {
   "cell_type": "code",
   "execution_count": 15,
   "metadata": {},
   "outputs": [
    {
     "name": "stdout",
     "output_type": "stream",
     "text": [
      "7322\n",
      "10000\n",
      "10000\n"
     ]
    }
   ],
   "source": [
    "print(len(weight_weight))\n",
    "print(len(weight_event_lhe))\n",
    "print(len(weight_weight_lhe))"
   ]
  },
  {
   "cell_type": "code",
   "execution_count": 16,
   "metadata": {},
   "outputs": [
    {
     "data": {
      "text/plain": [
       "array([1.1548846e-13], dtype=float32)"
      ]
     },
     "execution_count": 16,
     "metadata": {},
     "output_type": "execute_result"
    }
   ],
   "source": [
    "weight_weight[0]"
   ]
  },
  {
   "cell_type": "code",
   "execution_count": 17,
   "metadata": {},
   "outputs": [
    {
     "data": {
      "text/plain": [
       "array([1.1548845], dtype=float32)"
      ]
     },
     "execution_count": 17,
     "metadata": {},
     "output_type": "execute_result"
    }
   ],
   "source": [
    "weight_event_lhe[0]"
   ]
  },
  {
   "cell_type": "code",
   "execution_count": 18,
   "metadata": {},
   "outputs": [
    {
     "data": {
      "text/plain": [
       "array([1.2337008, 1.2337018, 1.2337011, 1.3213868, 1.2337008, 1.1548845,\n",
       "       1.1548854, 1.1548847, 1.2337011, 1.1548845, 1.0838449, 1.0838457,\n",
       "       1.0838451, 1.1548847, 1.0838449, 1.2337008, 1.2337018, 1.2337011,\n",
       "       1.3213868, 1.2337008, 1.1548854, 1.1548847, 1.2337011, 1.1548845,\n",
       "       1.0838449, 1.0838457, 1.0838451, 1.1548847, 1.0838449, 1.2337008,\n",
       "       1.2337018, 1.2337011, 1.3213868, 1.2337008, 1.1548845, 1.1548854,\n",
       "       1.1548847, 1.2337011, 1.1548845, 1.0838449, 1.0838457, 1.0838451,\n",
       "       1.1548847, 1.0838449, 1.1548845, 1.1548845, 1.1548845, 1.1685663,\n",
       "       1.1433241, 1.1714121, 1.1581272, 1.2325743, 1.1275935, 1.145006 ,\n",
       "       1.140386 , 1.1463557, 1.2493813, 1.2331076, 1.1106575, 1.1245427,\n",
       "       1.1597357, 1.1015325, 1.109006 , 1.0833071, 1.1624811, 1.1493827,\n",
       "       1.1629407, 1.156851 , 1.1642998, 1.1541831, 1.1935662, 1.2384398,\n",
       "       1.1096847, 1.1150798, 1.2724203, 1.072467 , 1.1747689, 1.1261953,\n",
       "       1.1164421, 1.1085628, 1.1546026, 1.1747414, 1.208682 , 1.1719995,\n",
       "       1.2006764, 1.1088952, 1.1647815, 1.1847483, 1.1605239, 1.1135767,\n",
       "       1.1397504, 1.2026155, 1.0784979, 1.0896713, 1.188339 , 1.1558825,\n",
       "       1.1373554, 1.150325 , 1.0968009, 1.1362816, 1.1402034, 1.0555121,\n",
       "       1.222368 , 1.1578543, 1.0744811, 1.2081939, 1.217634 , 1.2402065,\n",
       "       1.1758075, 1.176032 , 1.1476021, 1.0899312, 1.1377848, 1.1526598,\n",
       "       1.1792512, 1.0540683, 1.1410811, 1.1600327, 1.1429183, 1.1793226,\n",
       "       1.079758 , 1.1524605, 1.0683045, 1.1858377, 1.208138 , 1.2378602,\n",
       "       1.187499 , 1.1197256, 1.1795334, 1.0896581, 1.217107 , 1.063159 ,\n",
       "       1.1441929, 1.0957448, 1.148874 , 1.1536256, 1.2038699, 1.1678326,\n",
       "       1.1569763, 1.2076527, 1.2045826, 1.1494937, 1.2032213, 1.1874156,\n",
       "       1.2213006, 1.105263 , 1.1409763], dtype=float32)"
      ]
     },
     "execution_count": 18,
     "metadata": {},
     "output_type": "execute_result"
    }
   ],
   "source": [
    "weight_weight_lhe[0]"
   ]
  },
  {
   "cell_type": "code",
   "execution_count": 19,
   "metadata": {},
   "outputs": [
    {
     "name": "stdout",
     "output_type": "stream",
     "text": [
      "256 [-4.2142738e-13] [-0.00042143]\n",
      "640 [-5.7245625e-13] [-0.00057246]\n",
      "721 [-1.7297012e-13] [-0.00017297]\n",
      "908 [-1.1548846e-13] [-0.00011549]\n",
      "1541 [-1.6364887e-13] [-0.00016365]\n",
      "1598 [-1.1548846e-13] [-0.00011549]\n",
      "1729 [-1.7516731e-13] [-0.00017517]\n",
      "1752 [-1.1548846e-13] [-0.00011549]\n",
      "1932 [-1.5551548e-13] [-0.00015552]\n",
      "2224 [-1.13475676e-13] [-0.00011348]\n",
      "2238 [-1.1548846e-13] [-0.00011549]\n",
      "2421 [-1.1548846e-13] [-0.00011549]\n",
      "2442 [-1.4984495e-13] [-0.00014984]\n",
      "4005 [-1.1548846e-13] [-0.00011549]\n",
      "4072 [-2.1383928e-13] [-0.00021384]\n",
      "4642 [-1.1548846e-13] [-0.00011549]\n",
      "4943 [-1.1548846e-13] [-0.00011549]\n",
      "5081 [-2.3726577e-13] [-0.00023727]\n",
      "5132 [-2.4167045e-13] [-0.00024167]\n",
      "5284 [-1.1548846e-13] [-0.00011549]\n",
      "5366 [-1.243644e-13] [-0.00012436]\n",
      "5490 [-2.3546215e-13] [-0.00023546]\n",
      "6333 [-1.1548846e-13] [-0.00011549]\n",
      "6484 [-1.1548846e-13] [-0.00011549]\n"
     ]
    }
   ],
   "source": [
    "for i in range(len(weight_weight)):\n",
    "    if weight_weight[i][0] < 0:\n",
    "        print(i, weight_weight[i], weight_weight[i]*(10**9))"
   ]
  },
  {
   "cell_type": "code",
   "execution_count": 20,
   "metadata": {},
   "outputs": [
    {
     "name": "stdout",
     "output_type": "stream",
     "text": [
      "345 [-1.1548845]\n",
      "702 [-1.1548845]\n",
      "875 [-1.1548845]\n",
      "985 [-1.1548845]\n",
      "1245 [-1.1548845]\n",
      "1606 [-1.1548845]\n",
      "2095 [-1.1548845]\n",
      "2173 [-1.1548845]\n",
      "2352 [-1.1548845]\n",
      "2379 [-1.1548845]\n",
      "2625 [-1.1548845]\n",
      "3014 [-1.1548845]\n",
      "3031 [-1.1548845]\n",
      "3278 [-1.1548845]\n",
      "3305 [-1.1548845]\n",
      "3796 [-1.1548845]\n",
      "4390 [-1.1548845]\n",
      "5452 [-1.1548845]\n",
      "5538 [-1.1548845]\n",
      "5695 [-1.1548845]\n",
      "6303 [-1.1548845]\n",
      "6355 [-1.1548845]\n",
      "6720 [-1.1548845]\n",
      "6752 [-1.1548845]\n",
      "6915 [-1.1548845]\n",
      "6980 [-1.1548845]\n",
      "7129 [-1.1548845]\n",
      "7190 [-1.1548845]\n",
      "7298 [-1.1548845]\n",
      "7467 [-1.1548845]\n",
      "7891 [-1.1548845]\n",
      "8295 [-1.1548845]\n",
      "8641 [-1.1548845]\n",
      "8846 [-1.1548845]\n"
     ]
    }
   ],
   "source": [
    "for i in range(len(weight_event_lhe)):\n",
    "    if weight_event_lhe[i][0] < 0:\n",
    "        print(i, weight_event_lhe[i])"
   ]
  },
  {
   "cell_type": "code",
   "execution_count": 22,
   "metadata": {},
   "outputs": [
    {
     "name": "stdout",
     "output_type": "stream",
     "text": [
      "119 57 -3.3142748\n",
      "119 60 -3.590186\n",
      "119 70 -3.5079489\n",
      "119 73 -2.141301\n",
      "119 76 -2.101908\n",
      "119 81 -2.2995975\n",
      "119 88 -2.461551\n",
      "119 92 -4.6450577\n",
      "119 98 -0.5149907\n",
      "119 99 -1.1203136\n",
      "119 104 -6.3466315\n",
      "119 106 -0.0839467\n",
      "119 107 -2.9193685\n",
      "119 109 -2.6357763\n",
      "119 117 -5.3490477\n",
      "119 118 -3.4400294\n",
      "119 119 -1.3390076\n",
      "119 122 -1.2762511\n",
      "119 123 -3.088752\n",
      "119 125 -0.21951964\n",
      "119 126 -1.3182685\n",
      "119 131 -2.7741246\n",
      "119 132 -0.12411015\n",
      "119 134 -2.7332907\n",
      "119 136 -0.06756743\n",
      "119 140 -1.2933705\n",
      "119 143 -1.8171582\n",
      "119 146 -2.5207481\n",
      "196 50 -0.14258958\n",
      "196 85 -0.050837606\n",
      "196 100 -0.07700706\n",
      "345 0 -1.4690388\n",
      "345 1 -1.6423663\n",
      "345 2 -1.6423051\n",
      "345 3 -2.1378603\n",
      "345 4 -1.3747436\n",
      "345 5 -1.3286824\n",
      "345 6 -1.4823146\n",
      "345 7 -1.4822603\n",
      "345 8 -1.9203705\n",
      "345 9 -1.2449311\n",
      "345 10 -1.2069967\n",
      "345 11 -1.3440896\n",
      "345 12 -1.3440413\n",
      "345 13 -1.7332278\n",
      "345 14 -1.1321533\n",
      "345 15 -1.2768817\n",
      "345 16 -1.4209714\n",
      "345 17 -1.4209206\n",
      "345 18 -1.8283029\n",
      "345 19 -1.1981082\n",
      "345 20 -1.282495\n",
      "345 21 -1.28245\n",
      "345 22 -1.6423051\n",
      "345 23 -1.0849748\n",
      "345 24 -1.0491158\n",
      "345 25 -1.1629031\n",
      "345 26 -1.1628631\n",
      "345 27 -1.4822603\n",
      "345 28 -0.9866873\n",
      "345 29 -1.1203306\n",
      "345 30 -1.241777\n",
      "345 31 -1.2417343\n",
      "345 32 -1.5818456\n",
      "345 33 -1.0536561\n",
      "345 34 -1.0132908\n",
      "345 35 -1.1207633\n",
      "345 36 -1.1207256\n",
      "345 37 -1.4209206\n",
      "345 38 -0.95416284\n",
      "345 39 -0.9204898\n",
      "345 40 -1.0162529\n",
      "345 41 -1.0162193\n",
      "345 42 -1.28245\n",
      "345 43 -0.86772555\n",
      "345 44 -1.1548845\n",
      "345 45 -1.1548845\n",
      "345 46 -1.1548845\n",
      "345 47 -1.0646111\n",
      "345 48 -1.1576611\n",
      "345 49 -1.387731\n",
      "345 50 -1.0918132\n",
      "345 51 -2.1499753\n",
      "345 52 -1.6050143\n",
      "345 53 -1.4097116\n",
      "345 54 -0.8420242\n",
      "345 55 -0.92819774\n",
      "345 56 -1.1652551\n",
      "345 57 -1.0064629\n",
      "345 58 -1.3298731\n",
      "345 59 -1.444656\n",
      "345 60 -1.3238764\n",
      "345 61 -1.0552787\n",
      "345 62 -0.7939513\n",
      "345 63 -1.1338435\n",
      "345 64 -1.2881542\n",
      "345 65 -0.992073\n",
      "345 66 -1.1008933\n",
      "345 67 -1.331495\n",
      "345 68 -1.3173225\n",
      "345 69 -0.8835188\n",
      "345 70 -1.6534963\n",
      "345 71 -1.9458919\n",
      "345 72 -1.8066531\n",
      "345 73 -1.3808582\n",
      "345 74 -0.5913595\n",
      "345 75 -0.36433455\n",
      "345 76 -0.73948914\n",
      "345 77 -0.5870064\n",
      "345 78 -0.7828194\n",
      "345 79 -0.7947637\n",
      "345 80 -0.92812204\n",
      "345 81 -1.2151054\n",
      "345 82 -1.2296356\n",
      "345 83 -1.4872969\n",
      "345 84 -1.4588417\n",
      "345 85 -1.8414454\n",
      "345 86 -1.8610878\n",
      "345 87 -1.0432414\n",
      "345 88 -1.1980844\n",
      "345 89 -1.2994109\n",
      "345 90 -1.3538034\n",
      "345 91 -0.97453725\n",
      "345 92 -0.45613655\n",
      "345 93 -1.003677\n",
      "345 94 -1.5390798\n",
      "345 95 -1.6167196\n",
      "345 96 -1.5389574\n",
      "345 97 -0.9592344\n",
      "345 98 -1.480326\n",
      "345 99 -1.3508486\n",
      "345 100 -1.6423086\n",
      "345 101 -1.5345559\n",
      "345 102 -0.8176709\n",
      "345 103 -1.3838434\n",
      "345 104 -0.776263\n",
      "345 105 -1.1012007\n",
      "345 106 -0.8768552\n",
      "345 107 -1.3055022\n",
      "345 108 -1.2156752\n",
      "345 109 -0.023366774\n",
      "345 110 -0.88604826\n",
      "345 111 -1.2574362\n",
      "345 112 -1.4910958\n",
      "345 113 -1.1298358\n",
      "345 114 -0.2886129\n",
      "345 115 -1.2096603\n",
      "345 116 -1.237104\n",
      "345 117 -1.1497158\n",
      "345 118 -0.8933074\n",
      "345 119 -1.7646903\n",
      "345 120 -1.4974881\n",
      "345 121 -0.67748475\n",
      "345 122 -0.022847451\n",
      "345 123 -0.6583261\n",
      "345 124 -1.3406695\n",
      "345 125 -0.8788385\n",
      "345 126 -1.5172415\n",
      "345 127 -1.4153925\n",
      "345 128 -1.4542997\n",
      "345 129 -1.171541\n",
      "345 130 -1.7373939\n",
      "345 131 -1.2278211\n",
      "345 132 -0.44774908\n",
      "345 133 -1.5455979\n",
      "345 134 -1.1424054\n",
      "345 135 -1.3036942\n",
      "345 136 -0.9891156\n",
      "345 137 -1.3574499\n",
      "345 138 -0.9862811\n",
      "345 139 -0.91800475\n",
      "345 141 -1.5395304\n",
      "345 142 -1.2825677\n",
      "345 143 -1.0716289\n",
      "345 144 -1.0069609\n",
      "345 145 -1.1359948\n",
      "345 146 -0.9902994\n"
     ]
    }
   ],
   "source": [
    "for i in range(350):\n",
    "    for j in range(len(weight_weight_lhe[i])):\n",
    "        if weight_weight_lhe[i][j] < 0:\n",
    "            print(i, j, weight_weight_lhe[i][j])"
   ]
  },
  {
   "cell_type": "code",
   "execution_count": null,
   "metadata": {},
   "outputs": [],
   "source": []
  }
 ],
 "metadata": {
  "kernelspec": {
   "display_name": "Python 3",
   "language": "python",
   "name": "python3"
  },
  "language_info": {
   "codemirror_mode": {
    "name": "ipython",
    "version": 3
   },
   "file_extension": ".py",
   "mimetype": "text/x-python",
   "name": "python",
   "nbconvert_exporter": "python",
   "pygments_lexer": "ipython3",
   "version": "3.8.5"
  }
 },
 "nbformat": 4,
 "nbformat_minor": 4
}
