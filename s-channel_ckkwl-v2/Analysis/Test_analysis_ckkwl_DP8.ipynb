{
 "cells": [
  {
   "cell_type": "markdown",
   "metadata": {},
   "source": [
    "# Test the analysis of CKKW-L of DP8"
   ]
  },
  {
   "cell_type": "markdown",
   "metadata": {},
   "source": [
    "## 1. Import Packages"
   ]
  },
  {
   "cell_type": "code",
   "execution_count": 1,
   "metadata": {},
   "outputs": [],
   "source": [
    "# The Python Standard Library\n",
    "import os\n",
    "import sys\n",
    "import time\n",
    "import datetime\n",
    "import glob\n",
    "import multiprocessing as mp\n",
    "\n",
    "# The Third-Party Library\n",
    "import math\n",
    "import numpy as np\n",
    "import pandas as pd\n",
    "import matplotlib.pyplot as plt\n",
    "import tqdm\n",
    "import prettytable\n",
    "import uproot\n",
    "import pyjet\n",
    "import importlib\n",
    "\n",
    "# My Packages\n",
    "import myhep.particle_information_v2 as mypiv2\n",
    "import myhep.analytical_function_v2 as myafv2\n",
    "import myhep.particleinfo_v1 as mypiv1\n",
    "import myhep.particlefun_v1 as myafv1\n",
    "import myhep.parse_ckkwl_DP8 as myparDP8\n",
    "\n",
    "# increase figure showing resolution\n",
    "# %config InlineBackend.figure_format = 'retina'"
   ]
  },
  {
   "cell_type": "markdown",
   "metadata": {},
   "source": [
    "## 2. Import .root Files and Load the Data via class"
   ]
  },
  {
   "cell_type": "code",
   "execution_count": 2,
   "metadata": {},
   "outputs": [],
   "source": [
    "INPUT_FILE = '/youwei_home/SVJ_CKKWL/s-channel_ckkwl-v2/DP8/svj_ckkwl-4.root'\n",
    "\n",
    "DATA = uproot.open(INPUT_FILE)['Delphes;1']\n",
    "GP = mypiv2.classGenParticle(DATA)\n",
    "Jet = mypiv2.classJet(DATA)\n",
    "Event = mypiv2.classEvent(DATA)"
   ]
  },
  {
   "cell_type": "markdown",
   "metadata": {},
   "source": [
    "### 2-1. Check the number of event for each branch"
   ]
  },
  {
   "cell_type": "code",
   "execution_count": 3,
   "metadata": {},
   "outputs": [
    {
     "name": "stdout",
     "output_type": "stream",
     "text": [
      "There are 10000 events in the .root file.\n"
     ]
    }
   ],
   "source": [
    "if GP.length == Jet.length == Event.length:\n",
    "    print(\"There are {} events in the .root file.\".format(GP.length))\n",
    "else:\n",
    "    print(\"\"\"\\033[7;31m****** There is the problem for the number of event \\\n",
    "    in the .root file. ******\\033[0m\"\"\")\n",
    "#     print(\"\\033[7;31m****** There is the problem for the number of event \"\n",
    "#           \"in the .root file. ******\\033[0m\")\n",
    "    print(\"\\033[7;31m****** Please check your .root file. ******\\033[0m\")"
   ]
  },
  {
   "cell_type": "markdown",
   "metadata": {},
   "source": [
    "## 3. Analyze the dark quark pair"
   ]
  },
  {
   "cell_type": "code",
   "execution_count": 4,
   "metadata": {},
   "outputs": [
    {
     "ename": "IndexError",
     "evalue": "single positional indexer is out-of-bounds",
     "output_type": "error",
     "traceback": [
      "\u001b[0;31m---------------------------------------------------------------------------\u001b[0m",
      "\u001b[0;31mIndexError\u001b[0m                                Traceback (most recent call last)",
      "\u001b[0;32m<ipython-input-4-0b72b7288faa>\u001b[0m in \u001b[0;36m<module>\u001b[0;34m\u001b[0m\n\u001b[0;32m----> 1\u001b[0;31m \u001b[0mdf_xdxdx_23\u001b[0m \u001b[0;34m=\u001b[0m \u001b[0mmyafv2\u001b[0m\u001b[0;34m.\u001b[0m\u001b[0mparse_xdxdx_v2\u001b[0m\u001b[0;34m(\u001b[0m\u001b[0mGP\u001b[0m\u001b[0;34m,\u001b[0m \u001b[0mstatus\u001b[0m\u001b[0;34m=\u001b[0m\u001b[0;36m23\u001b[0m\u001b[0;34m)\u001b[0m\u001b[0;34m\u001b[0m\u001b[0;34m\u001b[0m\u001b[0m\n\u001b[0m",
      "\u001b[0;32m/youwei_home/SVJ_CKKWL/s-channel_ckkwl-v2/Analysis/myhep/analytical_function_v2.py\u001b[0m in \u001b[0;36mparse_xdxdx_v2\u001b[0;34m(GP, status)\u001b[0m\n\u001b[1;32m    486\u001b[0m         \u001b[0mdfGP\u001b[0m \u001b[0;34m=\u001b[0m \u001b[0mGP\u001b[0m\u001b[0;34m.\u001b[0m\u001b[0mdataframelize\u001b[0m\u001b[0;34m(\u001b[0m\u001b[0mi\u001b[0m\u001b[0;34m)\u001b[0m\u001b[0;34m\u001b[0m\u001b[0;34m\u001b[0m\u001b[0m\n\u001b[1;32m    487\u001b[0m         \u001b[0mdfGP_DQ_Status\u001b[0m \u001b[0;34m=\u001b[0m \u001b[0mdfGP\u001b[0m\u001b[0;34m[\u001b[0m\u001b[0;34m(\u001b[0m\u001b[0mabs\u001b[0m\u001b[0;34m(\u001b[0m\u001b[0mdfGP\u001b[0m\u001b[0;34m[\u001b[0m\u001b[0;34m'PID'\u001b[0m\u001b[0;34m]\u001b[0m\u001b[0;34m)\u001b[0m \u001b[0;34m==\u001b[0m \u001b[0;36m4900101\u001b[0m\u001b[0;34m)\u001b[0m \u001b[0;34m&\u001b[0m \u001b[0;34m(\u001b[0m\u001b[0mdfGP\u001b[0m\u001b[0;34m[\u001b[0m\u001b[0;34m'Status'\u001b[0m\u001b[0;34m]\u001b[0m \u001b[0;34m==\u001b[0m \u001b[0mstatus\u001b[0m\u001b[0;34m)\u001b[0m\u001b[0;34m]\u001b[0m\u001b[0;34m\u001b[0m\u001b[0;34m\u001b[0m\u001b[0m\n\u001b[0;32m--> 488\u001b[0;31m         \u001b[0mm1\u001b[0m \u001b[0;34m=\u001b[0m \u001b[0mdfGP_DQ_Status\u001b[0m\u001b[0;34m.\u001b[0m\u001b[0miloc\u001b[0m\u001b[0;34m[\u001b[0m\u001b[0;36m0\u001b[0m\u001b[0;34m,\u001b[0m\u001b[0;36m6\u001b[0m\u001b[0;34m]\u001b[0m\u001b[0;34m\u001b[0m\u001b[0;34m\u001b[0m\u001b[0m\n\u001b[0m\u001b[1;32m    489\u001b[0m         \u001b[0mpt1\u001b[0m \u001b[0;34m=\u001b[0m \u001b[0mdfGP_DQ_Status\u001b[0m\u001b[0;34m.\u001b[0m\u001b[0miloc\u001b[0m\u001b[0;34m[\u001b[0m\u001b[0;36m0\u001b[0m\u001b[0;34m,\u001b[0m\u001b[0;36m7\u001b[0m\u001b[0;34m]\u001b[0m\u001b[0;34m\u001b[0m\u001b[0;34m\u001b[0m\u001b[0m\n\u001b[1;32m    490\u001b[0m         \u001b[0meta1\u001b[0m \u001b[0;34m=\u001b[0m \u001b[0mdfGP_DQ_Status\u001b[0m\u001b[0;34m.\u001b[0m\u001b[0miloc\u001b[0m\u001b[0;34m[\u001b[0m\u001b[0;36m0\u001b[0m\u001b[0;34m,\u001b[0m\u001b[0;36m8\u001b[0m\u001b[0;34m]\u001b[0m\u001b[0;34m\u001b[0m\u001b[0;34m\u001b[0m\u001b[0m\n",
      "\u001b[0;32m/usr/local/lib/python3.8/dist-packages/pandas/core/indexing.py\u001b[0m in \u001b[0;36m__getitem__\u001b[0;34m(self, key)\u001b[0m\n\u001b[1;32m    871\u001b[0m                     \u001b[0;31m# AttributeError for IntervalTree get_value\u001b[0m\u001b[0;34m\u001b[0m\u001b[0;34m\u001b[0m\u001b[0;34m\u001b[0m\u001b[0m\n\u001b[1;32m    872\u001b[0m                     \u001b[0;32mpass\u001b[0m\u001b[0;34m\u001b[0m\u001b[0;34m\u001b[0m\u001b[0m\n\u001b[0;32m--> 873\u001b[0;31m             \u001b[0;32mreturn\u001b[0m \u001b[0mself\u001b[0m\u001b[0;34m.\u001b[0m\u001b[0m_getitem_tuple\u001b[0m\u001b[0;34m(\u001b[0m\u001b[0mkey\u001b[0m\u001b[0;34m)\u001b[0m\u001b[0;34m\u001b[0m\u001b[0;34m\u001b[0m\u001b[0m\n\u001b[0m\u001b[1;32m    874\u001b[0m         \u001b[0;32melse\u001b[0m\u001b[0;34m:\u001b[0m\u001b[0;34m\u001b[0m\u001b[0;34m\u001b[0m\u001b[0m\n\u001b[1;32m    875\u001b[0m             \u001b[0;31m# we by definition only have the 0th axis\u001b[0m\u001b[0;34m\u001b[0m\u001b[0;34m\u001b[0m\u001b[0;34m\u001b[0m\u001b[0m\n",
      "\u001b[0;32m/usr/local/lib/python3.8/dist-packages/pandas/core/indexing.py\u001b[0m in \u001b[0;36m_getitem_tuple\u001b[0;34m(self, tup)\u001b[0m\n\u001b[1;32m   1441\u001b[0m     \u001b[0;32mdef\u001b[0m \u001b[0m_getitem_tuple\u001b[0m\u001b[0;34m(\u001b[0m\u001b[0mself\u001b[0m\u001b[0;34m,\u001b[0m \u001b[0mtup\u001b[0m\u001b[0;34m:\u001b[0m \u001b[0mTuple\u001b[0m\u001b[0;34m)\u001b[0m\u001b[0;34m:\u001b[0m\u001b[0;34m\u001b[0m\u001b[0;34m\u001b[0m\u001b[0m\n\u001b[1;32m   1442\u001b[0m \u001b[0;34m\u001b[0m\u001b[0m\n\u001b[0;32m-> 1443\u001b[0;31m         \u001b[0mself\u001b[0m\u001b[0;34m.\u001b[0m\u001b[0m_has_valid_tuple\u001b[0m\u001b[0;34m(\u001b[0m\u001b[0mtup\u001b[0m\u001b[0;34m)\u001b[0m\u001b[0;34m\u001b[0m\u001b[0;34m\u001b[0m\u001b[0m\n\u001b[0m\u001b[1;32m   1444\u001b[0m         \u001b[0;32mtry\u001b[0m\u001b[0;34m:\u001b[0m\u001b[0;34m\u001b[0m\u001b[0;34m\u001b[0m\u001b[0m\n\u001b[1;32m   1445\u001b[0m             \u001b[0;32mreturn\u001b[0m \u001b[0mself\u001b[0m\u001b[0;34m.\u001b[0m\u001b[0m_getitem_lowerdim\u001b[0m\u001b[0;34m(\u001b[0m\u001b[0mtup\u001b[0m\u001b[0;34m)\u001b[0m\u001b[0;34m\u001b[0m\u001b[0;34m\u001b[0m\u001b[0m\n",
      "\u001b[0;32m/usr/local/lib/python3.8/dist-packages/pandas/core/indexing.py\u001b[0m in \u001b[0;36m_has_valid_tuple\u001b[0;34m(self, key)\u001b[0m\n\u001b[1;32m    700\u001b[0m                 \u001b[0;32mraise\u001b[0m \u001b[0mIndexingError\u001b[0m\u001b[0;34m(\u001b[0m\u001b[0;34m\"Too many indexers\"\u001b[0m\u001b[0;34m)\u001b[0m\u001b[0;34m\u001b[0m\u001b[0;34m\u001b[0m\u001b[0m\n\u001b[1;32m    701\u001b[0m             \u001b[0;32mtry\u001b[0m\u001b[0;34m:\u001b[0m\u001b[0;34m\u001b[0m\u001b[0;34m\u001b[0m\u001b[0m\n\u001b[0;32m--> 702\u001b[0;31m                 \u001b[0mself\u001b[0m\u001b[0;34m.\u001b[0m\u001b[0m_validate_key\u001b[0m\u001b[0;34m(\u001b[0m\u001b[0mk\u001b[0m\u001b[0;34m,\u001b[0m \u001b[0mi\u001b[0m\u001b[0;34m)\u001b[0m\u001b[0;34m\u001b[0m\u001b[0;34m\u001b[0m\u001b[0m\n\u001b[0m\u001b[1;32m    703\u001b[0m             \u001b[0;32mexcept\u001b[0m \u001b[0mValueError\u001b[0m \u001b[0;32mas\u001b[0m \u001b[0merr\u001b[0m\u001b[0;34m:\u001b[0m\u001b[0;34m\u001b[0m\u001b[0;34m\u001b[0m\u001b[0m\n\u001b[1;32m    704\u001b[0m                 raise ValueError(\n",
      "\u001b[0;32m/usr/local/lib/python3.8/dist-packages/pandas/core/indexing.py\u001b[0m in \u001b[0;36m_validate_key\u001b[0;34m(self, key, axis)\u001b[0m\n\u001b[1;32m   1350\u001b[0m             \u001b[0;32mreturn\u001b[0m\u001b[0;34m\u001b[0m\u001b[0;34m\u001b[0m\u001b[0m\n\u001b[1;32m   1351\u001b[0m         \u001b[0;32melif\u001b[0m \u001b[0mis_integer\u001b[0m\u001b[0;34m(\u001b[0m\u001b[0mkey\u001b[0m\u001b[0;34m)\u001b[0m\u001b[0;34m:\u001b[0m\u001b[0;34m\u001b[0m\u001b[0;34m\u001b[0m\u001b[0m\n\u001b[0;32m-> 1352\u001b[0;31m             \u001b[0mself\u001b[0m\u001b[0;34m.\u001b[0m\u001b[0m_validate_integer\u001b[0m\u001b[0;34m(\u001b[0m\u001b[0mkey\u001b[0m\u001b[0;34m,\u001b[0m \u001b[0maxis\u001b[0m\u001b[0;34m)\u001b[0m\u001b[0;34m\u001b[0m\u001b[0;34m\u001b[0m\u001b[0m\n\u001b[0m\u001b[1;32m   1353\u001b[0m         \u001b[0;32melif\u001b[0m \u001b[0misinstance\u001b[0m\u001b[0;34m(\u001b[0m\u001b[0mkey\u001b[0m\u001b[0;34m,\u001b[0m \u001b[0mtuple\u001b[0m\u001b[0;34m)\u001b[0m\u001b[0;34m:\u001b[0m\u001b[0;34m\u001b[0m\u001b[0;34m\u001b[0m\u001b[0m\n\u001b[1;32m   1354\u001b[0m             \u001b[0;31m# a tuple should already have been caught by this point\u001b[0m\u001b[0;34m\u001b[0m\u001b[0;34m\u001b[0m\u001b[0;34m\u001b[0m\u001b[0m\n",
      "\u001b[0;32m/usr/local/lib/python3.8/dist-packages/pandas/core/indexing.py\u001b[0m in \u001b[0;36m_validate_integer\u001b[0;34m(self, key, axis)\u001b[0m\n\u001b[1;32m   1435\u001b[0m         \u001b[0mlen_axis\u001b[0m \u001b[0;34m=\u001b[0m \u001b[0mlen\u001b[0m\u001b[0;34m(\u001b[0m\u001b[0mself\u001b[0m\u001b[0;34m.\u001b[0m\u001b[0mobj\u001b[0m\u001b[0;34m.\u001b[0m\u001b[0m_get_axis\u001b[0m\u001b[0;34m(\u001b[0m\u001b[0maxis\u001b[0m\u001b[0;34m)\u001b[0m\u001b[0;34m)\u001b[0m\u001b[0;34m\u001b[0m\u001b[0;34m\u001b[0m\u001b[0m\n\u001b[1;32m   1436\u001b[0m         \u001b[0;32mif\u001b[0m \u001b[0mkey\u001b[0m \u001b[0;34m>=\u001b[0m \u001b[0mlen_axis\u001b[0m \u001b[0;32mor\u001b[0m \u001b[0mkey\u001b[0m \u001b[0;34m<\u001b[0m \u001b[0;34m-\u001b[0m\u001b[0mlen_axis\u001b[0m\u001b[0;34m:\u001b[0m\u001b[0;34m\u001b[0m\u001b[0;34m\u001b[0m\u001b[0m\n\u001b[0;32m-> 1437\u001b[0;31m             \u001b[0;32mraise\u001b[0m \u001b[0mIndexError\u001b[0m\u001b[0;34m(\u001b[0m\u001b[0;34m\"single positional indexer is out-of-bounds\"\u001b[0m\u001b[0;34m)\u001b[0m\u001b[0;34m\u001b[0m\u001b[0;34m\u001b[0m\u001b[0m\n\u001b[0m\u001b[1;32m   1438\u001b[0m \u001b[0;34m\u001b[0m\u001b[0m\n\u001b[1;32m   1439\u001b[0m     \u001b[0;31m# -------------------------------------------------------------------\u001b[0m\u001b[0;34m\u001b[0m\u001b[0;34m\u001b[0m\u001b[0;34m\u001b[0m\u001b[0m\n",
      "\u001b[0;31mIndexError\u001b[0m: single positional indexer is out-of-bounds"
     ]
    }
   ],
   "source": [
    "df_xdxdx_23 = myafv2.parse_xdxdx_v2(GP, status=23)"
   ]
  },
  {
   "cell_type": "code",
   "execution_count": 5,
   "metadata": {},
   "outputs": [
    {
     "data": {
      "text/plain": [
       "<JaggedArray [[1.1548845] [0.0] [2.2193444] ... [1.8988278] [1.1548845] [1.7454567]] at 0x7fd5f938ebb0>"
      ]
     },
     "execution_count": 5,
     "metadata": {},
     "output_type": "execute_result"
    }
   ],
   "source": [
    "Event.Weight"
   ]
  },
  {
   "cell_type": "code",
   "execution_count": 6,
   "metadata": {},
   "outputs": [
    {
     "name": "stdout",
     "output_type": "stream",
     "text": [
      "[1, 13, 15, 17, 22, 23, 27, 32, 33, 46, 48, 50, 55, 58, 62, 68, 70, 72, 74, 75]\n",
      "2678\n",
      "7322\n"
     ]
    }
   ],
   "source": [
    "weight_0 = []\n",
    "\n",
    "for i in range(10000):\n",
    "    if Event.Weight[i] == 0:\n",
    "        weight_0.append(i)\n",
    "        \n",
    "print(weight_0[0:20])\n",
    "print(len(weight_0))\n",
    "print(10000 - len(weight_0))"
   ]
  },
  {
   "cell_type": "markdown",
   "metadata": {},
   "source": [
    "### 3-1. Test event with weight = 0"
   ]
  },
  {
   "cell_type": "code",
   "execution_count": 7,
   "metadata": {},
   "outputs": [],
   "source": [
    "status = 23"
   ]
  },
  {
   "cell_type": "code",
   "execution_count": 8,
   "metadata": {},
   "outputs": [
    {
     "data": {
      "text/plain": [
       "10.0"
      ]
     },
     "execution_count": 8,
     "metadata": {},
     "output_type": "execute_result"
    }
   ],
   "source": [
    "dfGP = GP.dataframelize(0)\n",
    "dfGP_DQ_Status = dfGP[(abs(dfGP['PID']) == 4900101) & (dfGP['Status'] == status)]\n",
    "m1 = dfGP_DQ_Status.iloc[0,6]\n",
    "m1"
   ]
  },
  {
   "cell_type": "code",
   "execution_count": 9,
   "metadata": {},
   "outputs": [
    {
     "ename": "IndexError",
     "evalue": "single positional indexer is out-of-bounds",
     "output_type": "error",
     "traceback": [
      "\u001b[0;31m---------------------------------------------------------------------------\u001b[0m",
      "\u001b[0;31mIndexError\u001b[0m                                Traceback (most recent call last)",
      "\u001b[0;32m<ipython-input-9-53fb6425052c>\u001b[0m in \u001b[0;36m<module>\u001b[0;34m\u001b[0m\n\u001b[1;32m      1\u001b[0m \u001b[0mdfGP\u001b[0m \u001b[0;34m=\u001b[0m \u001b[0mGP\u001b[0m\u001b[0;34m.\u001b[0m\u001b[0mdataframelize\u001b[0m\u001b[0;34m(\u001b[0m\u001b[0;36m1\u001b[0m\u001b[0;34m)\u001b[0m\u001b[0;34m\u001b[0m\u001b[0;34m\u001b[0m\u001b[0m\n\u001b[1;32m      2\u001b[0m \u001b[0mdfGP_DQ_Status\u001b[0m \u001b[0;34m=\u001b[0m \u001b[0mdfGP\u001b[0m\u001b[0;34m[\u001b[0m\u001b[0;34m(\u001b[0m\u001b[0mabs\u001b[0m\u001b[0;34m(\u001b[0m\u001b[0mdfGP\u001b[0m\u001b[0;34m[\u001b[0m\u001b[0;34m'PID'\u001b[0m\u001b[0;34m]\u001b[0m\u001b[0;34m)\u001b[0m \u001b[0;34m==\u001b[0m \u001b[0;36m4900101\u001b[0m\u001b[0;34m)\u001b[0m \u001b[0;34m&\u001b[0m \u001b[0;34m(\u001b[0m\u001b[0mdfGP\u001b[0m\u001b[0;34m[\u001b[0m\u001b[0;34m'Status'\u001b[0m\u001b[0;34m]\u001b[0m \u001b[0;34m==\u001b[0m \u001b[0mstatus\u001b[0m\u001b[0;34m)\u001b[0m\u001b[0;34m]\u001b[0m\u001b[0;34m\u001b[0m\u001b[0;34m\u001b[0m\u001b[0m\n\u001b[0;32m----> 3\u001b[0;31m \u001b[0mm1\u001b[0m \u001b[0;34m=\u001b[0m \u001b[0mdfGP_DQ_Status\u001b[0m\u001b[0;34m.\u001b[0m\u001b[0miloc\u001b[0m\u001b[0;34m[\u001b[0m\u001b[0;36m0\u001b[0m\u001b[0;34m,\u001b[0m\u001b[0;36m6\u001b[0m\u001b[0;34m]\u001b[0m\u001b[0;34m\u001b[0m\u001b[0;34m\u001b[0m\u001b[0m\n\u001b[0m\u001b[1;32m      4\u001b[0m \u001b[0mm1\u001b[0m\u001b[0;34m\u001b[0m\u001b[0;34m\u001b[0m\u001b[0m\n",
      "\u001b[0;32m/usr/local/lib/python3.8/dist-packages/pandas/core/indexing.py\u001b[0m in \u001b[0;36m__getitem__\u001b[0;34m(self, key)\u001b[0m\n\u001b[1;32m    871\u001b[0m                     \u001b[0;31m# AttributeError for IntervalTree get_value\u001b[0m\u001b[0;34m\u001b[0m\u001b[0;34m\u001b[0m\u001b[0;34m\u001b[0m\u001b[0m\n\u001b[1;32m    872\u001b[0m                     \u001b[0;32mpass\u001b[0m\u001b[0;34m\u001b[0m\u001b[0;34m\u001b[0m\u001b[0m\n\u001b[0;32m--> 873\u001b[0;31m             \u001b[0;32mreturn\u001b[0m \u001b[0mself\u001b[0m\u001b[0;34m.\u001b[0m\u001b[0m_getitem_tuple\u001b[0m\u001b[0;34m(\u001b[0m\u001b[0mkey\u001b[0m\u001b[0;34m)\u001b[0m\u001b[0;34m\u001b[0m\u001b[0;34m\u001b[0m\u001b[0m\n\u001b[0m\u001b[1;32m    874\u001b[0m         \u001b[0;32melse\u001b[0m\u001b[0;34m:\u001b[0m\u001b[0;34m\u001b[0m\u001b[0;34m\u001b[0m\u001b[0m\n\u001b[1;32m    875\u001b[0m             \u001b[0;31m# we by definition only have the 0th axis\u001b[0m\u001b[0;34m\u001b[0m\u001b[0;34m\u001b[0m\u001b[0;34m\u001b[0m\u001b[0m\n",
      "\u001b[0;32m/usr/local/lib/python3.8/dist-packages/pandas/core/indexing.py\u001b[0m in \u001b[0;36m_getitem_tuple\u001b[0;34m(self, tup)\u001b[0m\n\u001b[1;32m   1441\u001b[0m     \u001b[0;32mdef\u001b[0m \u001b[0m_getitem_tuple\u001b[0m\u001b[0;34m(\u001b[0m\u001b[0mself\u001b[0m\u001b[0;34m,\u001b[0m \u001b[0mtup\u001b[0m\u001b[0;34m:\u001b[0m \u001b[0mTuple\u001b[0m\u001b[0;34m)\u001b[0m\u001b[0;34m:\u001b[0m\u001b[0;34m\u001b[0m\u001b[0;34m\u001b[0m\u001b[0m\n\u001b[1;32m   1442\u001b[0m \u001b[0;34m\u001b[0m\u001b[0m\n\u001b[0;32m-> 1443\u001b[0;31m         \u001b[0mself\u001b[0m\u001b[0;34m.\u001b[0m\u001b[0m_has_valid_tuple\u001b[0m\u001b[0;34m(\u001b[0m\u001b[0mtup\u001b[0m\u001b[0;34m)\u001b[0m\u001b[0;34m\u001b[0m\u001b[0;34m\u001b[0m\u001b[0m\n\u001b[0m\u001b[1;32m   1444\u001b[0m         \u001b[0;32mtry\u001b[0m\u001b[0;34m:\u001b[0m\u001b[0;34m\u001b[0m\u001b[0;34m\u001b[0m\u001b[0m\n\u001b[1;32m   1445\u001b[0m             \u001b[0;32mreturn\u001b[0m \u001b[0mself\u001b[0m\u001b[0;34m.\u001b[0m\u001b[0m_getitem_lowerdim\u001b[0m\u001b[0;34m(\u001b[0m\u001b[0mtup\u001b[0m\u001b[0;34m)\u001b[0m\u001b[0;34m\u001b[0m\u001b[0;34m\u001b[0m\u001b[0m\n",
      "\u001b[0;32m/usr/local/lib/python3.8/dist-packages/pandas/core/indexing.py\u001b[0m in \u001b[0;36m_has_valid_tuple\u001b[0;34m(self, key)\u001b[0m\n\u001b[1;32m    700\u001b[0m                 \u001b[0;32mraise\u001b[0m \u001b[0mIndexingError\u001b[0m\u001b[0;34m(\u001b[0m\u001b[0;34m\"Too many indexers\"\u001b[0m\u001b[0;34m)\u001b[0m\u001b[0;34m\u001b[0m\u001b[0;34m\u001b[0m\u001b[0m\n\u001b[1;32m    701\u001b[0m             \u001b[0;32mtry\u001b[0m\u001b[0;34m:\u001b[0m\u001b[0;34m\u001b[0m\u001b[0;34m\u001b[0m\u001b[0m\n\u001b[0;32m--> 702\u001b[0;31m                 \u001b[0mself\u001b[0m\u001b[0;34m.\u001b[0m\u001b[0m_validate_key\u001b[0m\u001b[0;34m(\u001b[0m\u001b[0mk\u001b[0m\u001b[0;34m,\u001b[0m \u001b[0mi\u001b[0m\u001b[0;34m)\u001b[0m\u001b[0;34m\u001b[0m\u001b[0;34m\u001b[0m\u001b[0m\n\u001b[0m\u001b[1;32m    703\u001b[0m             \u001b[0;32mexcept\u001b[0m \u001b[0mValueError\u001b[0m \u001b[0;32mas\u001b[0m \u001b[0merr\u001b[0m\u001b[0;34m:\u001b[0m\u001b[0;34m\u001b[0m\u001b[0;34m\u001b[0m\u001b[0m\n\u001b[1;32m    704\u001b[0m                 raise ValueError(\n",
      "\u001b[0;32m/usr/local/lib/python3.8/dist-packages/pandas/core/indexing.py\u001b[0m in \u001b[0;36m_validate_key\u001b[0;34m(self, key, axis)\u001b[0m\n\u001b[1;32m   1350\u001b[0m             \u001b[0;32mreturn\u001b[0m\u001b[0;34m\u001b[0m\u001b[0;34m\u001b[0m\u001b[0m\n\u001b[1;32m   1351\u001b[0m         \u001b[0;32melif\u001b[0m \u001b[0mis_integer\u001b[0m\u001b[0;34m(\u001b[0m\u001b[0mkey\u001b[0m\u001b[0;34m)\u001b[0m\u001b[0;34m:\u001b[0m\u001b[0;34m\u001b[0m\u001b[0;34m\u001b[0m\u001b[0m\n\u001b[0;32m-> 1352\u001b[0;31m             \u001b[0mself\u001b[0m\u001b[0;34m.\u001b[0m\u001b[0m_validate_integer\u001b[0m\u001b[0;34m(\u001b[0m\u001b[0mkey\u001b[0m\u001b[0;34m,\u001b[0m \u001b[0maxis\u001b[0m\u001b[0;34m)\u001b[0m\u001b[0;34m\u001b[0m\u001b[0;34m\u001b[0m\u001b[0m\n\u001b[0m\u001b[1;32m   1353\u001b[0m         \u001b[0;32melif\u001b[0m \u001b[0misinstance\u001b[0m\u001b[0;34m(\u001b[0m\u001b[0mkey\u001b[0m\u001b[0;34m,\u001b[0m \u001b[0mtuple\u001b[0m\u001b[0;34m)\u001b[0m\u001b[0;34m:\u001b[0m\u001b[0;34m\u001b[0m\u001b[0;34m\u001b[0m\u001b[0m\n\u001b[1;32m   1354\u001b[0m             \u001b[0;31m# a tuple should already have been caught by this point\u001b[0m\u001b[0;34m\u001b[0m\u001b[0;34m\u001b[0m\u001b[0;34m\u001b[0m\u001b[0m\n",
      "\u001b[0;32m/usr/local/lib/python3.8/dist-packages/pandas/core/indexing.py\u001b[0m in \u001b[0;36m_validate_integer\u001b[0;34m(self, key, axis)\u001b[0m\n\u001b[1;32m   1435\u001b[0m         \u001b[0mlen_axis\u001b[0m \u001b[0;34m=\u001b[0m \u001b[0mlen\u001b[0m\u001b[0;34m(\u001b[0m\u001b[0mself\u001b[0m\u001b[0;34m.\u001b[0m\u001b[0mobj\u001b[0m\u001b[0;34m.\u001b[0m\u001b[0m_get_axis\u001b[0m\u001b[0;34m(\u001b[0m\u001b[0maxis\u001b[0m\u001b[0;34m)\u001b[0m\u001b[0;34m)\u001b[0m\u001b[0;34m\u001b[0m\u001b[0;34m\u001b[0m\u001b[0m\n\u001b[1;32m   1436\u001b[0m         \u001b[0;32mif\u001b[0m \u001b[0mkey\u001b[0m \u001b[0;34m>=\u001b[0m \u001b[0mlen_axis\u001b[0m \u001b[0;32mor\u001b[0m \u001b[0mkey\u001b[0m \u001b[0;34m<\u001b[0m \u001b[0;34m-\u001b[0m\u001b[0mlen_axis\u001b[0m\u001b[0;34m:\u001b[0m\u001b[0;34m\u001b[0m\u001b[0;34m\u001b[0m\u001b[0m\n\u001b[0;32m-> 1437\u001b[0;31m             \u001b[0;32mraise\u001b[0m \u001b[0mIndexError\u001b[0m\u001b[0;34m(\u001b[0m\u001b[0;34m\"single positional indexer is out-of-bounds\"\u001b[0m\u001b[0;34m)\u001b[0m\u001b[0;34m\u001b[0m\u001b[0;34m\u001b[0m\u001b[0m\n\u001b[0m\u001b[1;32m   1438\u001b[0m \u001b[0;34m\u001b[0m\u001b[0m\n\u001b[1;32m   1439\u001b[0m     \u001b[0;31m# -------------------------------------------------------------------\u001b[0m\u001b[0;34m\u001b[0m\u001b[0;34m\u001b[0m\u001b[0;34m\u001b[0m\u001b[0m\n",
      "\u001b[0;31mIndexError\u001b[0m: single positional indexer is out-of-bounds"
     ]
    }
   ],
   "source": [
    "dfGP = GP.dataframelize(1)\n",
    "dfGP_DQ_Status = dfGP[(abs(dfGP['PID']) == 4900101) & (dfGP['Status'] == status)]\n",
    "m1 = dfGP_DQ_Status.iloc[0,6]\n",
    "m1"
   ]
  },
  {
   "cell_type": "code",
   "execution_count": 10,
   "metadata": {},
   "outputs": [
    {
     "data": {
      "text/html": [
       "<div>\n",
       "<style scoped>\n",
       "    .dataframe tbody tr th:only-of-type {\n",
       "        vertical-align: middle;\n",
       "    }\n",
       "\n",
       "    .dataframe tbody tr th {\n",
       "        vertical-align: top;\n",
       "    }\n",
       "\n",
       "    .dataframe thead th {\n",
       "        text-align: right;\n",
       "    }\n",
       "</style>\n",
       "<table border=\"1\" class=\"dataframe\">\n",
       "  <thead>\n",
       "    <tr style=\"text-align: right;\">\n",
       "      <th></th>\n",
       "      <th>PID</th>\n",
       "      <th>Status</th>\n",
       "      <th>M1</th>\n",
       "      <th>M2</th>\n",
       "      <th>D1</th>\n",
       "      <th>D2</th>\n",
       "      <th>Mass</th>\n",
       "      <th>PT</th>\n",
       "      <th>Eta</th>\n",
       "      <th>Phi</th>\n",
       "    </tr>\n",
       "  </thead>\n",
       "  <tbody>\n",
       "  </tbody>\n",
       "</table>\n",
       "</div>"
      ],
      "text/plain": [
       "Empty DataFrame\n",
       "Columns: [PID, Status, M1, M2, D1, D2, Mass, PT, Eta, Phi]\n",
       "Index: []"
      ]
     },
     "execution_count": 10,
     "metadata": {},
     "output_type": "execute_result"
    }
   ],
   "source": [
    "dfGP = GP.dataframelize(1)\n",
    "dfGP_DQ_Status = dfGP[(abs(dfGP['PID']) == 4900101) & (dfGP['Status'] == status)]\n",
    "dfGP_DQ_Status"
   ]
  },
  {
   "cell_type": "code",
   "execution_count": 11,
   "metadata": {},
   "outputs": [
    {
     "data": {
      "text/html": [
       "<div>\n",
       "<style scoped>\n",
       "    .dataframe tbody tr th:only-of-type {\n",
       "        vertical-align: middle;\n",
       "    }\n",
       "\n",
       "    .dataframe tbody tr th {\n",
       "        vertical-align: top;\n",
       "    }\n",
       "\n",
       "    .dataframe thead th {\n",
       "        text-align: right;\n",
       "    }\n",
       "</style>\n",
       "<table border=\"1\" class=\"dataframe\">\n",
       "  <thead>\n",
       "    <tr style=\"text-align: right;\">\n",
       "      <th></th>\n",
       "      <th>PID</th>\n",
       "      <th>Status</th>\n",
       "      <th>M1</th>\n",
       "      <th>M2</th>\n",
       "      <th>D1</th>\n",
       "      <th>D2</th>\n",
       "      <th>Mass</th>\n",
       "      <th>PT</th>\n",
       "      <th>Eta</th>\n",
       "      <th>Phi</th>\n",
       "    </tr>\n",
       "  </thead>\n",
       "  <tbody>\n",
       "  </tbody>\n",
       "</table>\n",
       "</div>"
      ],
      "text/plain": [
       "Empty DataFrame\n",
       "Columns: [PID, Status, M1, M2, D1, D2, Mass, PT, Eta, Phi]\n",
       "Index: []"
      ]
     },
     "execution_count": 11,
     "metadata": {},
     "output_type": "execute_result"
    }
   ],
   "source": [
    "dfGP = GP.dataframelize(13)\n",
    "dfGP_DQ_Status = dfGP[(abs(dfGP['PID']) == 4900101) & (dfGP['Status'] == status)]\n",
    "dfGP_DQ_Status"
   ]
  },
  {
   "cell_type": "code",
   "execution_count": 12,
   "metadata": {},
   "outputs": [
    {
     "data": {
      "text/html": [
       "<div>\n",
       "<style scoped>\n",
       "    .dataframe tbody tr th:only-of-type {\n",
       "        vertical-align: middle;\n",
       "    }\n",
       "\n",
       "    .dataframe tbody tr th {\n",
       "        vertical-align: top;\n",
       "    }\n",
       "\n",
       "    .dataframe thead th {\n",
       "        text-align: right;\n",
       "    }\n",
       "</style>\n",
       "<table border=\"1\" class=\"dataframe\">\n",
       "  <thead>\n",
       "    <tr style=\"text-align: right;\">\n",
       "      <th></th>\n",
       "      <th>PID</th>\n",
       "      <th>Status</th>\n",
       "      <th>M1</th>\n",
       "      <th>M2</th>\n",
       "      <th>D1</th>\n",
       "      <th>D2</th>\n",
       "      <th>Mass</th>\n",
       "      <th>PT</th>\n",
       "      <th>Eta</th>\n",
       "      <th>Phi</th>\n",
       "    </tr>\n",
       "  </thead>\n",
       "  <tbody>\n",
       "    <tr>\n",
       "      <th>703</th>\n",
       "      <td>4900101</td>\n",
       "      <td>23</td>\n",
       "      <td>540</td>\n",
       "      <td>-1</td>\n",
       "      <td>705</td>\n",
       "      <td>706</td>\n",
       "      <td>10.0</td>\n",
       "      <td>118.455040</td>\n",
       "      <td>-2.883845</td>\n",
       "      <td>-1.932256</td>\n",
       "    </tr>\n",
       "    <tr>\n",
       "      <th>704</th>\n",
       "      <td>-4900101</td>\n",
       "      <td>23</td>\n",
       "      <td>540</td>\n",
       "      <td>-1</td>\n",
       "      <td>707</td>\n",
       "      <td>707</td>\n",
       "      <td>10.0</td>\n",
       "      <td>118.590218</td>\n",
       "      <td>2.165266</td>\n",
       "      <td>1.157263</td>\n",
       "    </tr>\n",
       "  </tbody>\n",
       "</table>\n",
       "</div>"
      ],
      "text/plain": [
       "         PID  Status   M1  M2   D1   D2  Mass          PT       Eta       Phi\n",
       "703  4900101      23  540  -1  705  706  10.0  118.455040 -2.883845 -1.932256\n",
       "704 -4900101      23  540  -1  707  707  10.0  118.590218  2.165266  1.157263"
      ]
     },
     "execution_count": 12,
     "metadata": {},
     "output_type": "execute_result"
    }
   ],
   "source": [
    "dfGP = GP.dataframelize(14)\n",
    "dfGP_DQ_Status = dfGP[(abs(dfGP['PID']) == 4900101) & (dfGP['Status'] == status)]\n",
    "dfGP_DQ_Status"
   ]
  },
  {
   "cell_type": "code",
   "execution_count": 13,
   "metadata": {},
   "outputs": [
    {
     "data": {
      "text/html": [
       "<div>\n",
       "<style scoped>\n",
       "    .dataframe tbody tr th:only-of-type {\n",
       "        vertical-align: middle;\n",
       "    }\n",
       "\n",
       "    .dataframe tbody tr th {\n",
       "        vertical-align: top;\n",
       "    }\n",
       "\n",
       "    .dataframe thead th {\n",
       "        text-align: right;\n",
       "    }\n",
       "</style>\n",
       "<table border=\"1\" class=\"dataframe\">\n",
       "  <thead>\n",
       "    <tr style=\"text-align: right;\">\n",
       "      <th></th>\n",
       "      <th>PID</th>\n",
       "      <th>Status</th>\n",
       "      <th>M1</th>\n",
       "      <th>M2</th>\n",
       "      <th>D1</th>\n",
       "      <th>D2</th>\n",
       "      <th>Mass</th>\n",
       "      <th>PT</th>\n",
       "      <th>Eta</th>\n",
       "      <th>Phi</th>\n",
       "    </tr>\n",
       "  </thead>\n",
       "  <tbody>\n",
       "  </tbody>\n",
       "</table>\n",
       "</div>"
      ],
      "text/plain": [
       "Empty DataFrame\n",
       "Columns: [PID, Status, M1, M2, D1, D2, Mass, PT, Eta, Phi]\n",
       "Index: []"
      ]
     },
     "execution_count": 13,
     "metadata": {},
     "output_type": "execute_result"
    }
   ],
   "source": [
    "dfGP = GP.dataframelize(15)\n",
    "dfGP_DQ_Status = dfGP[(abs(dfGP['PID']) == 4900101) & (dfGP['Status'] == status)]\n",
    "dfGP_DQ_Status"
   ]
  },
  {
   "cell_type": "code",
   "execution_count": 14,
   "metadata": {},
   "outputs": [
    {
     "data": {
      "text/html": [
       "<div>\n",
       "<style scoped>\n",
       "    .dataframe tbody tr th:only-of-type {\n",
       "        vertical-align: middle;\n",
       "    }\n",
       "\n",
       "    .dataframe tbody tr th {\n",
       "        vertical-align: top;\n",
       "    }\n",
       "\n",
       "    .dataframe thead th {\n",
       "        text-align: right;\n",
       "    }\n",
       "</style>\n",
       "<table border=\"1\" class=\"dataframe\">\n",
       "  <thead>\n",
       "    <tr style=\"text-align: right;\">\n",
       "      <th></th>\n",
       "      <th>PID</th>\n",
       "      <th>Status</th>\n",
       "      <th>M1</th>\n",
       "      <th>M2</th>\n",
       "      <th>D1</th>\n",
       "      <th>D2</th>\n",
       "      <th>Mass</th>\n",
       "      <th>PT</th>\n",
       "      <th>Eta</th>\n",
       "      <th>Phi</th>\n",
       "    </tr>\n",
       "  </thead>\n",
       "  <tbody>\n",
       "    <tr>\n",
       "      <th>0</th>\n",
       "      <td>2212</td>\n",
       "      <td>4</td>\n",
       "      <td>-1</td>\n",
       "      <td>-1</td>\n",
       "      <td>2</td>\n",
       "      <td>-1</td>\n",
       "      <td>0.938270</td>\n",
       "      <td>0.000000</td>\n",
       "      <td>999.900024</td>\n",
       "      <td>0.000000</td>\n",
       "    </tr>\n",
       "    <tr>\n",
       "      <th>1</th>\n",
       "      <td>2212</td>\n",
       "      <td>4</td>\n",
       "      <td>-1</td>\n",
       "      <td>-1</td>\n",
       "      <td>3</td>\n",
       "      <td>-1</td>\n",
       "      <td>0.938270</td>\n",
       "      <td>0.000000</td>\n",
       "      <td>-999.900024</td>\n",
       "      <td>0.000000</td>\n",
       "    </tr>\n",
       "    <tr>\n",
       "      <th>2</th>\n",
       "      <td>-1</td>\n",
       "      <td>21</td>\n",
       "      <td>0</td>\n",
       "      <td>-1</td>\n",
       "      <td>4</td>\n",
       "      <td>6</td>\n",
       "      <td>0.000000</td>\n",
       "      <td>0.000000</td>\n",
       "      <td>999.900024</td>\n",
       "      <td>0.000000</td>\n",
       "    </tr>\n",
       "    <tr>\n",
       "      <th>3</th>\n",
       "      <td>1</td>\n",
       "      <td>21</td>\n",
       "      <td>1</td>\n",
       "      <td>-1</td>\n",
       "      <td>4</td>\n",
       "      <td>6</td>\n",
       "      <td>0.000000</td>\n",
       "      <td>0.000000</td>\n",
       "      <td>-999.900024</td>\n",
       "      <td>0.000000</td>\n",
       "    </tr>\n",
       "    <tr>\n",
       "      <th>4</th>\n",
       "      <td>5000001</td>\n",
       "      <td>22</td>\n",
       "      <td>2</td>\n",
       "      <td>3</td>\n",
       "      <td>7</td>\n",
       "      <td>8</td>\n",
       "      <td>1501.464966</td>\n",
       "      <td>70.712898</td>\n",
       "      <td>2.837252</td>\n",
       "      <td>1.374616</td>\n",
       "    </tr>\n",
       "    <tr>\n",
       "      <th>5</th>\n",
       "      <td>21</td>\n",
       "      <td>1</td>\n",
       "      <td>2</td>\n",
       "      <td>3</td>\n",
       "      <td>-1</td>\n",
       "      <td>-1</td>\n",
       "      <td>0.000000</td>\n",
       "      <td>47.310688</td>\n",
       "      <td>-0.507734</td>\n",
       "      <td>-1.655615</td>\n",
       "    </tr>\n",
       "    <tr>\n",
       "      <th>6</th>\n",
       "      <td>21</td>\n",
       "      <td>1</td>\n",
       "      <td>2</td>\n",
       "      <td>3</td>\n",
       "      <td>-1</td>\n",
       "      <td>-1</td>\n",
       "      <td>0.000000</td>\n",
       "      <td>24.271572</td>\n",
       "      <td>-0.768909</td>\n",
       "      <td>-1.985327</td>\n",
       "    </tr>\n",
       "    <tr>\n",
       "      <th>7</th>\n",
       "      <td>4900101</td>\n",
       "      <td>1</td>\n",
       "      <td>4</td>\n",
       "      <td>-1</td>\n",
       "      <td>-1</td>\n",
       "      <td>-1</td>\n",
       "      <td>10.000000</td>\n",
       "      <td>765.395447</td>\n",
       "      <td>0.241501</td>\n",
       "      <td>2.214620</td>\n",
       "    </tr>\n",
       "    <tr>\n",
       "      <th>8</th>\n",
       "      <td>-4900101</td>\n",
       "      <td>1</td>\n",
       "      <td>4</td>\n",
       "      <td>-1</td>\n",
       "      <td>-1</td>\n",
       "      <td>-1</td>\n",
       "      <td>10.000000</td>\n",
       "      <td>720.125183</td>\n",
       "      <td>0.548116</td>\n",
       "      <td>-0.853787</td>\n",
       "    </tr>\n",
       "  </tbody>\n",
       "</table>\n",
       "</div>"
      ],
      "text/plain": [
       "       PID  Status  M1  M2  D1  D2         Mass          PT         Eta  \\\n",
       "0     2212       4  -1  -1   2  -1     0.938270    0.000000  999.900024   \n",
       "1     2212       4  -1  -1   3  -1     0.938270    0.000000 -999.900024   \n",
       "2       -1      21   0  -1   4   6     0.000000    0.000000  999.900024   \n",
       "3        1      21   1  -1   4   6     0.000000    0.000000 -999.900024   \n",
       "4  5000001      22   2   3   7   8  1501.464966   70.712898    2.837252   \n",
       "5       21       1   2   3  -1  -1     0.000000   47.310688   -0.507734   \n",
       "6       21       1   2   3  -1  -1     0.000000   24.271572   -0.768909   \n",
       "7  4900101       1   4  -1  -1  -1    10.000000  765.395447    0.241501   \n",
       "8 -4900101       1   4  -1  -1  -1    10.000000  720.125183    0.548116   \n",
       "\n",
       "        Phi  \n",
       "0  0.000000  \n",
       "1  0.000000  \n",
       "2  0.000000  \n",
       "3  0.000000  \n",
       "4  1.374616  \n",
       "5 -1.655615  \n",
       "6 -1.985327  \n",
       "7  2.214620  \n",
       "8 -0.853787  "
      ]
     },
     "execution_count": 14,
     "metadata": {},
     "output_type": "execute_result"
    }
   ],
   "source": [
    "dfGP = GP.dataframelize(1)\n",
    "dfGP"
   ]
  },
  {
   "cell_type": "code",
   "execution_count": 15,
   "metadata": {},
   "outputs": [
    {
     "data": {
      "text/html": [
       "<div>\n",
       "<style scoped>\n",
       "    .dataframe tbody tr th:only-of-type {\n",
       "        vertical-align: middle;\n",
       "    }\n",
       "\n",
       "    .dataframe tbody tr th {\n",
       "        vertical-align: top;\n",
       "    }\n",
       "\n",
       "    .dataframe thead th {\n",
       "        text-align: right;\n",
       "    }\n",
       "</style>\n",
       "<table border=\"1\" class=\"dataframe\">\n",
       "  <thead>\n",
       "    <tr style=\"text-align: right;\">\n",
       "      <th></th>\n",
       "      <th>PID</th>\n",
       "      <th>Status</th>\n",
       "      <th>M1</th>\n",
       "      <th>M2</th>\n",
       "      <th>D1</th>\n",
       "      <th>D2</th>\n",
       "      <th>Mass</th>\n",
       "      <th>PT</th>\n",
       "      <th>Eta</th>\n",
       "      <th>Phi</th>\n",
       "    </tr>\n",
       "  </thead>\n",
       "  <tbody>\n",
       "    <tr>\n",
       "      <th>0</th>\n",
       "      <td>2212</td>\n",
       "      <td>4</td>\n",
       "      <td>-1</td>\n",
       "      <td>-1</td>\n",
       "      <td>2</td>\n",
       "      <td>-1</td>\n",
       "      <td>0.938270</td>\n",
       "      <td>0.000000</td>\n",
       "      <td>999.900024</td>\n",
       "      <td>0.000000</td>\n",
       "    </tr>\n",
       "    <tr>\n",
       "      <th>1</th>\n",
       "      <td>2212</td>\n",
       "      <td>4</td>\n",
       "      <td>-1</td>\n",
       "      <td>-1</td>\n",
       "      <td>3</td>\n",
       "      <td>-1</td>\n",
       "      <td>0.938270</td>\n",
       "      <td>0.000000</td>\n",
       "      <td>-999.900024</td>\n",
       "      <td>0.000000</td>\n",
       "    </tr>\n",
       "    <tr>\n",
       "      <th>2</th>\n",
       "      <td>-1</td>\n",
       "      <td>21</td>\n",
       "      <td>0</td>\n",
       "      <td>-1</td>\n",
       "      <td>4</td>\n",
       "      <td>5</td>\n",
       "      <td>0.000000</td>\n",
       "      <td>0.000000</td>\n",
       "      <td>999.900024</td>\n",
       "      <td>0.000000</td>\n",
       "    </tr>\n",
       "    <tr>\n",
       "      <th>3</th>\n",
       "      <td>1</td>\n",
       "      <td>21</td>\n",
       "      <td>1</td>\n",
       "      <td>-1</td>\n",
       "      <td>4</td>\n",
       "      <td>5</td>\n",
       "      <td>0.000000</td>\n",
       "      <td>0.000000</td>\n",
       "      <td>-999.900024</td>\n",
       "      <td>0.000000</td>\n",
       "    </tr>\n",
       "    <tr>\n",
       "      <th>4</th>\n",
       "      <td>5000001</td>\n",
       "      <td>22</td>\n",
       "      <td>2</td>\n",
       "      <td>3</td>\n",
       "      <td>6</td>\n",
       "      <td>7</td>\n",
       "      <td>1484.444824</td>\n",
       "      <td>56.841114</td>\n",
       "      <td>-3.697461</td>\n",
       "      <td>2.466349</td>\n",
       "    </tr>\n",
       "    <tr>\n",
       "      <th>5</th>\n",
       "      <td>21</td>\n",
       "      <td>1</td>\n",
       "      <td>2</td>\n",
       "      <td>3</td>\n",
       "      <td>-1</td>\n",
       "      <td>-1</td>\n",
       "      <td>0.000000</td>\n",
       "      <td>56.841114</td>\n",
       "      <td>-2.132070</td>\n",
       "      <td>-0.675244</td>\n",
       "    </tr>\n",
       "    <tr>\n",
       "      <th>6</th>\n",
       "      <td>4900101</td>\n",
       "      <td>1</td>\n",
       "      <td>4</td>\n",
       "      <td>-1</td>\n",
       "      <td>-1</td>\n",
       "      <td>-1</td>\n",
       "      <td>10.000000</td>\n",
       "      <td>388.211212</td>\n",
       "      <td>0.568831</td>\n",
       "      <td>1.626104</td>\n",
       "    </tr>\n",
       "    <tr>\n",
       "      <th>7</th>\n",
       "      <td>-4900101</td>\n",
       "      <td>1</td>\n",
       "      <td>4</td>\n",
       "      <td>-1</td>\n",
       "      <td>-1</td>\n",
       "      <td>-1</td>\n",
       "      <td>10.000000</td>\n",
       "      <td>352.831329</td>\n",
       "      <td>-2.072141</td>\n",
       "      <td>-1.635767</td>\n",
       "    </tr>\n",
       "  </tbody>\n",
       "</table>\n",
       "</div>"
      ],
      "text/plain": [
       "       PID  Status  M1  M2  D1  D2         Mass          PT         Eta  \\\n",
       "0     2212       4  -1  -1   2  -1     0.938270    0.000000  999.900024   \n",
       "1     2212       4  -1  -1   3  -1     0.938270    0.000000 -999.900024   \n",
       "2       -1      21   0  -1   4   5     0.000000    0.000000  999.900024   \n",
       "3        1      21   1  -1   4   5     0.000000    0.000000 -999.900024   \n",
       "4  5000001      22   2   3   6   7  1484.444824   56.841114   -3.697461   \n",
       "5       21       1   2   3  -1  -1     0.000000   56.841114   -2.132070   \n",
       "6  4900101       1   4  -1  -1  -1    10.000000  388.211212    0.568831   \n",
       "7 -4900101       1   4  -1  -1  -1    10.000000  352.831329   -2.072141   \n",
       "\n",
       "        Phi  \n",
       "0  0.000000  \n",
       "1  0.000000  \n",
       "2  0.000000  \n",
       "3  0.000000  \n",
       "4  2.466349  \n",
       "5 -0.675244  \n",
       "6  1.626104  \n",
       "7 -1.635767  "
      ]
     },
     "execution_count": 15,
     "metadata": {},
     "output_type": "execute_result"
    }
   ],
   "source": [
    "dfGP = GP.dataframelize(13)\n",
    "dfGP"
   ]
  },
  {
   "cell_type": "code",
   "execution_count": 16,
   "metadata": {},
   "outputs": [
    {
     "data": {
      "text/html": [
       "<div>\n",
       "<style scoped>\n",
       "    .dataframe tbody tr th:only-of-type {\n",
       "        vertical-align: middle;\n",
       "    }\n",
       "\n",
       "    .dataframe tbody tr th {\n",
       "        vertical-align: top;\n",
       "    }\n",
       "\n",
       "    .dataframe thead th {\n",
       "        text-align: right;\n",
       "    }\n",
       "</style>\n",
       "<table border=\"1\" class=\"dataframe\">\n",
       "  <thead>\n",
       "    <tr style=\"text-align: right;\">\n",
       "      <th></th>\n",
       "      <th>PID</th>\n",
       "      <th>Status</th>\n",
       "      <th>M1</th>\n",
       "      <th>M2</th>\n",
       "      <th>D1</th>\n",
       "      <th>D2</th>\n",
       "      <th>Mass</th>\n",
       "      <th>PT</th>\n",
       "      <th>Eta</th>\n",
       "      <th>Phi</th>\n",
       "    </tr>\n",
       "  </thead>\n",
       "  <tbody>\n",
       "    <tr>\n",
       "      <th>0</th>\n",
       "      <td>2212</td>\n",
       "      <td>4</td>\n",
       "      <td>-1</td>\n",
       "      <td>-1</td>\n",
       "      <td>538</td>\n",
       "      <td>-1</td>\n",
       "      <td>0.938270</td>\n",
       "      <td>0.000000</td>\n",
       "      <td>999.900024</td>\n",
       "      <td>0.000000</td>\n",
       "    </tr>\n",
       "    <tr>\n",
       "      <th>1</th>\n",
       "      <td>2212</td>\n",
       "      <td>4</td>\n",
       "      <td>-1</td>\n",
       "      <td>-1</td>\n",
       "      <td>539</td>\n",
       "      <td>-1</td>\n",
       "      <td>0.938270</td>\n",
       "      <td>0.000000</td>\n",
       "      <td>-999.900024</td>\n",
       "      <td>0.000000</td>\n",
       "    </tr>\n",
       "    <tr>\n",
       "      <th>2</th>\n",
       "      <td>2</td>\n",
       "      <td>21</td>\n",
       "      <td>43</td>\n",
       "      <td>43</td>\n",
       "      <td>4</td>\n",
       "      <td>-1</td>\n",
       "      <td>0.000000</td>\n",
       "      <td>0.000000</td>\n",
       "      <td>999.900024</td>\n",
       "      <td>0.000000</td>\n",
       "    </tr>\n",
       "    <tr>\n",
       "      <th>3</th>\n",
       "      <td>-2</td>\n",
       "      <td>21</td>\n",
       "      <td>44</td>\n",
       "      <td>-1</td>\n",
       "      <td>4</td>\n",
       "      <td>-1</td>\n",
       "      <td>0.000000</td>\n",
       "      <td>0.000000</td>\n",
       "      <td>-999.900024</td>\n",
       "      <td>0.000000</td>\n",
       "    </tr>\n",
       "    <tr>\n",
       "      <th>4</th>\n",
       "      <td>5000001</td>\n",
       "      <td>22</td>\n",
       "      <td>2</td>\n",
       "      <td>3</td>\n",
       "      <td>45</td>\n",
       "      <td>45</td>\n",
       "      <td>1489.427246</td>\n",
       "      <td>0.000000</td>\n",
       "      <td>-999.900024</td>\n",
       "      <td>0.000000</td>\n",
       "    </tr>\n",
       "    <tr>\n",
       "      <th>...</th>\n",
       "      <td>...</td>\n",
       "      <td>...</td>\n",
       "      <td>...</td>\n",
       "      <td>...</td>\n",
       "      <td>...</td>\n",
       "      <td>...</td>\n",
       "      <td>...</td>\n",
       "      <td>...</td>\n",
       "      <td>...</td>\n",
       "      <td>...</td>\n",
       "    </tr>\n",
       "    <tr>\n",
       "      <th>2032</th>\n",
       "      <td>111</td>\n",
       "      <td>2</td>\n",
       "      <td>2024</td>\n",
       "      <td>-1</td>\n",
       "      <td>2035</td>\n",
       "      <td>2036</td>\n",
       "      <td>0.134980</td>\n",
       "      <td>0.456895</td>\n",
       "      <td>-1.653047</td>\n",
       "      <td>-1.432048</td>\n",
       "    </tr>\n",
       "    <tr>\n",
       "      <th>2033</th>\n",
       "      <td>22</td>\n",
       "      <td>1</td>\n",
       "      <td>2028</td>\n",
       "      <td>-1</td>\n",
       "      <td>-1</td>\n",
       "      <td>-1</td>\n",
       "      <td>0.000000</td>\n",
       "      <td>0.386439</td>\n",
       "      <td>-2.048207</td>\n",
       "      <td>2.934754</td>\n",
       "    </tr>\n",
       "    <tr>\n",
       "      <th>2034</th>\n",
       "      <td>22</td>\n",
       "      <td>1</td>\n",
       "      <td>2028</td>\n",
       "      <td>-1</td>\n",
       "      <td>-1</td>\n",
       "      <td>-1</td>\n",
       "      <td>0.000000</td>\n",
       "      <td>1.158487</td>\n",
       "      <td>-2.244369</td>\n",
       "      <td>2.980519</td>\n",
       "    </tr>\n",
       "    <tr>\n",
       "      <th>2035</th>\n",
       "      <td>22</td>\n",
       "      <td>1</td>\n",
       "      <td>2032</td>\n",
       "      <td>-1</td>\n",
       "      <td>-1</td>\n",
       "      <td>-1</td>\n",
       "      <td>0.000000</td>\n",
       "      <td>0.043480</td>\n",
       "      <td>-0.845828</td>\n",
       "      <td>-0.998522</td>\n",
       "    </tr>\n",
       "    <tr>\n",
       "      <th>2036</th>\n",
       "      <td>22</td>\n",
       "      <td>1</td>\n",
       "      <td>2032</td>\n",
       "      <td>-1</td>\n",
       "      <td>-1</td>\n",
       "      <td>-1</td>\n",
       "      <td>0.000000</td>\n",
       "      <td>0.417836</td>\n",
       "      <td>-1.702239</td>\n",
       "      <td>-1.475775</td>\n",
       "    </tr>\n",
       "  </tbody>\n",
       "</table>\n",
       "<p>2037 rows × 10 columns</p>\n",
       "</div>"
      ],
      "text/plain": [
       "          PID  Status    M1  M2    D1    D2         Mass        PT  \\\n",
       "0        2212       4    -1  -1   538    -1     0.938270  0.000000   \n",
       "1        2212       4    -1  -1   539    -1     0.938270  0.000000   \n",
       "2           2      21    43  43     4    -1     0.000000  0.000000   \n",
       "3          -2      21    44  -1     4    -1     0.000000  0.000000   \n",
       "4     5000001      22     2   3    45    45  1489.427246  0.000000   \n",
       "...       ...     ...   ...  ..   ...   ...          ...       ...   \n",
       "2032      111       2  2024  -1  2035  2036     0.134980  0.456895   \n",
       "2033       22       1  2028  -1    -1    -1     0.000000  0.386439   \n",
       "2034       22       1  2028  -1    -1    -1     0.000000  1.158487   \n",
       "2035       22       1  2032  -1    -1    -1     0.000000  0.043480   \n",
       "2036       22       1  2032  -1    -1    -1     0.000000  0.417836   \n",
       "\n",
       "             Eta       Phi  \n",
       "0     999.900024  0.000000  \n",
       "1    -999.900024  0.000000  \n",
       "2     999.900024  0.000000  \n",
       "3    -999.900024  0.000000  \n",
       "4    -999.900024  0.000000  \n",
       "...          ...       ...  \n",
       "2032   -1.653047 -1.432048  \n",
       "2033   -2.048207  2.934754  \n",
       "2034   -2.244369  2.980519  \n",
       "2035   -0.845828 -0.998522  \n",
       "2036   -1.702239 -1.475775  \n",
       "\n",
       "[2037 rows x 10 columns]"
      ]
     },
     "execution_count": 16,
     "metadata": {},
     "output_type": "execute_result"
    }
   ],
   "source": [
    "dfGP = GP.dataframelize(14)\n",
    "dfGP"
   ]
  },
  {
   "cell_type": "code",
   "execution_count": 17,
   "metadata": {},
   "outputs": [
    {
     "data": {
      "text/html": [
       "<div>\n",
       "<style scoped>\n",
       "    .dataframe tbody tr th:only-of-type {\n",
       "        vertical-align: middle;\n",
       "    }\n",
       "\n",
       "    .dataframe tbody tr th {\n",
       "        vertical-align: top;\n",
       "    }\n",
       "\n",
       "    .dataframe thead th {\n",
       "        text-align: right;\n",
       "    }\n",
       "</style>\n",
       "<table border=\"1\" class=\"dataframe\">\n",
       "  <thead>\n",
       "    <tr style=\"text-align: right;\">\n",
       "      <th></th>\n",
       "      <th>PID</th>\n",
       "      <th>Status</th>\n",
       "      <th>M1</th>\n",
       "      <th>M2</th>\n",
       "      <th>D1</th>\n",
       "      <th>D2</th>\n",
       "      <th>Mass</th>\n",
       "      <th>PT</th>\n",
       "      <th>Eta</th>\n",
       "      <th>Phi</th>\n",
       "    </tr>\n",
       "  </thead>\n",
       "  <tbody>\n",
       "    <tr>\n",
       "      <th>0</th>\n",
       "      <td>2212</td>\n",
       "      <td>4</td>\n",
       "      <td>-1</td>\n",
       "      <td>-1</td>\n",
       "      <td>2</td>\n",
       "      <td>-1</td>\n",
       "      <td>0.938270</td>\n",
       "      <td>0.000000</td>\n",
       "      <td>999.900024</td>\n",
       "      <td>0.000000</td>\n",
       "    </tr>\n",
       "    <tr>\n",
       "      <th>1</th>\n",
       "      <td>2212</td>\n",
       "      <td>4</td>\n",
       "      <td>-1</td>\n",
       "      <td>-1</td>\n",
       "      <td>3</td>\n",
       "      <td>-1</td>\n",
       "      <td>0.938270</td>\n",
       "      <td>0.000000</td>\n",
       "      <td>-999.900024</td>\n",
       "      <td>0.000000</td>\n",
       "    </tr>\n",
       "    <tr>\n",
       "      <th>2</th>\n",
       "      <td>-5</td>\n",
       "      <td>21</td>\n",
       "      <td>0</td>\n",
       "      <td>-1</td>\n",
       "      <td>4</td>\n",
       "      <td>5</td>\n",
       "      <td>0.000000</td>\n",
       "      <td>0.000000</td>\n",
       "      <td>999.900024</td>\n",
       "      <td>0.000000</td>\n",
       "    </tr>\n",
       "    <tr>\n",
       "      <th>3</th>\n",
       "      <td>21</td>\n",
       "      <td>21</td>\n",
       "      <td>1</td>\n",
       "      <td>-1</td>\n",
       "      <td>4</td>\n",
       "      <td>5</td>\n",
       "      <td>0.000000</td>\n",
       "      <td>0.000000</td>\n",
       "      <td>-999.900024</td>\n",
       "      <td>0.000000</td>\n",
       "    </tr>\n",
       "    <tr>\n",
       "      <th>4</th>\n",
       "      <td>5000001</td>\n",
       "      <td>22</td>\n",
       "      <td>2</td>\n",
       "      <td>3</td>\n",
       "      <td>6</td>\n",
       "      <td>7</td>\n",
       "      <td>1432.370361</td>\n",
       "      <td>23.177889</td>\n",
       "      <td>-1.526180</td>\n",
       "      <td>-2.679239</td>\n",
       "    </tr>\n",
       "    <tr>\n",
       "      <th>5</th>\n",
       "      <td>-5</td>\n",
       "      <td>1</td>\n",
       "      <td>2</td>\n",
       "      <td>3</td>\n",
       "      <td>-1</td>\n",
       "      <td>-1</td>\n",
       "      <td>4.800000</td>\n",
       "      <td>23.177889</td>\n",
       "      <td>-2.541455</td>\n",
       "      <td>0.462354</td>\n",
       "    </tr>\n",
       "    <tr>\n",
       "      <th>6</th>\n",
       "      <td>4900101</td>\n",
       "      <td>1</td>\n",
       "      <td>4</td>\n",
       "      <td>-1</td>\n",
       "      <td>-1</td>\n",
       "      <td>-1</td>\n",
       "      <td>10.000000</td>\n",
       "      <td>715.149048</td>\n",
       "      <td>0.026939</td>\n",
       "      <td>-1.153385</td>\n",
       "    </tr>\n",
       "    <tr>\n",
       "      <th>7</th>\n",
       "      <td>-4900101</td>\n",
       "      <td>1</td>\n",
       "      <td>4</td>\n",
       "      <td>-1</td>\n",
       "      <td>-1</td>\n",
       "      <td>-1</td>\n",
       "      <td>10.000000</td>\n",
       "      <td>714.482971</td>\n",
       "      <td>-0.097907</td>\n",
       "      <td>2.020620</td>\n",
       "    </tr>\n",
       "  </tbody>\n",
       "</table>\n",
       "</div>"
      ],
      "text/plain": [
       "       PID  Status  M1  M2  D1  D2         Mass          PT         Eta  \\\n",
       "0     2212       4  -1  -1   2  -1     0.938270    0.000000  999.900024   \n",
       "1     2212       4  -1  -1   3  -1     0.938270    0.000000 -999.900024   \n",
       "2       -5      21   0  -1   4   5     0.000000    0.000000  999.900024   \n",
       "3       21      21   1  -1   4   5     0.000000    0.000000 -999.900024   \n",
       "4  5000001      22   2   3   6   7  1432.370361   23.177889   -1.526180   \n",
       "5       -5       1   2   3  -1  -1     4.800000   23.177889   -2.541455   \n",
       "6  4900101       1   4  -1  -1  -1    10.000000  715.149048    0.026939   \n",
       "7 -4900101       1   4  -1  -1  -1    10.000000  714.482971   -0.097907   \n",
       "\n",
       "        Phi  \n",
       "0  0.000000  \n",
       "1  0.000000  \n",
       "2  0.000000  \n",
       "3  0.000000  \n",
       "4 -2.679239  \n",
       "5  0.462354  \n",
       "6 -1.153385  \n",
       "7  2.020620  "
      ]
     },
     "execution_count": 17,
     "metadata": {},
     "output_type": "execute_result"
    }
   ],
   "source": [
    "dfGP = GP.dataframelize(15)\n",
    "dfGP"
   ]
  },
  {
   "cell_type": "markdown",
   "metadata": {},
   "source": [
    "#### Concusion: Because there are 2678 events without Status=23 4900101 and no hadronization."
   ]
  },
  {
   "cell_type": "markdown",
   "metadata": {},
   "source": [
    "## 4. Test New Analysis for DP8"
   ]
  },
  {
   "cell_type": "code",
   "execution_count": 18,
   "metadata": {},
   "outputs": [
    {
     "name": "stdout",
     "output_type": "stream",
     "text": [
      "[0, 2, 3, 4, 5, 6, 7, 8, 9, 10, 11, 12, 14, 16, 18, 19, 20, 21, 24, 25]\n",
      "7322\n"
     ]
    }
   ],
   "source": [
    "event_weight_not0 = []\n",
    "\n",
    "for i in range(GP.length):\n",
    "    if Event.Weight[i] != 0:\n",
    "        event_weight_not0.append(i)\n",
    "        \n",
    "print(event_weight_not0[0:20])\n",
    "print(len(event_weight_not0))"
   ]
  },
  {
   "cell_type": "code",
   "execution_count": 19,
   "metadata": {},
   "outputs": [],
   "source": [
    "# 1. Invariant Mass and Transverse Mass\n",
    "def M(m1, pt1, eta1, phi1, m2, pt2, eta2, phi2):\n",
    "    px1, py1, pz1 = pt1*np.cos(phi1), pt1*np.sin(phi1), np.sqrt(m1**2+pt1**2)*np.sinh(eta1)\n",
    "    e1 = np.sqrt(m1**2 + px1**2 + py1**2 + pz1**2)\n",
    "    px2, py2, pz2 = pt2*np.cos(phi2), pt2*np.sin(phi2), np.sqrt(m2**2+pt2**2)*np.sinh(eta2)\n",
    "    e2 = np.sqrt(m2**2 + px2**2 + py2**2 + pz2**2)\n",
    "    return np.sqrt((e1+e2)**2 - (px1+px2)**2 - (py1+py2)**2 - (pz1+pz2)**2)\n",
    "\n",
    "def MT(m1, pt1, eta1, phi1, m2, pt2, eta2, phi2):\n",
    "    px1, py1, pz1 = pt1*np.cos(phi1), pt1*np.sin(phi1), np.sqrt(m1**2+pt1**2)*np.sinh(eta1)\n",
    "    e1 = np.sqrt(m1**2 + px1**2 + py1**2 + pz1**2)\n",
    "    px2, py2, pz2 = pt2*np.cos(phi2), pt2*np.sin(phi2), np.sqrt(m2**2+pt2**2)*np.sinh(eta2)\n",
    "    e2 = np.sqrt(m2**2 + px2**2 + py2**2 + pz2**2)\n",
    "    ET1, ET2 = np.sqrt(m1**2 + pt1**2), np.sqrt(m2**2 + pt2**2)\n",
    "    return np.sqrt((ET1+ET2)**2 - (px1+px2)**2 - (py1+py2)**2)\n",
    "\n",
    "# 9. Transverse Mass mT is invariant under Lorentz boost along the z direction.\n",
    "def mT12(m1, pt1, eta1, phi1, m2, pt2, eta2, phi2):\n",
    "    px1, py1, pz1 = pt1*np.cos(phi1), pt1*np.sin(phi1), np.sqrt(m1**2+pt1**2)*np.sinh(eta1)\n",
    "    e1 = np.sqrt(m1**2 + px1**2 + py1**2 + pz1**2)\n",
    "    px2, py2, pz2 = pt2*np.cos(phi2), pt2*np.sin(phi2), np.sqrt(m2**2+pt2**2)*np.sinh(eta2)\n",
    "    e2 = np.sqrt(m2**2 + px2**2 + py2**2 + pz2**2)\n",
    "    return np.sqrt((e1+e2)**2 - (pz1+pz2)**2)\n",
    "\n",
    "# 14. Transverse Energy ET\n",
    "def ET(m1, pt1, eta1, phi1, m2, pt2, eta2, phi2):\n",
    "    px1, py1, pz1 = pt1*np.cos(phi1), pt1*np.sin(phi1), np.sqrt(m1**2+pt1**2)*np.sinh(eta1)\n",
    "    e1 = np.sqrt(m1**2 + px1**2 + py1**2 + pz1**2)\n",
    "    px2, py2, pz2 = pt2*np.cos(phi2), pt2*np.sin(phi2), np.sqrt(m2**2+pt2**2)*np.sinh(eta2)\n",
    "    e2 = np.sqrt(m2**2 + px2**2 + py2**2 + pz2**2)\n",
    "    m12 = np.sqrt((e1+e2)**2 - (px1+px2)**2 - (py1+py2)**2 - (pz1+pz2)**2)\n",
    "    return np.sqrt(m12**2 + (px1+px2)**2 + (py1+py2)**2)"
   ]
  },
  {
   "cell_type": "code",
   "execution_count": 20,
   "metadata": {},
   "outputs": [],
   "source": [
    "# 15. Parse the Dark Quark Pair xd and xdx\n",
    "def parse_xdxdx_v2_ckkwl_DP8(GP, status=23):\n",
    "    \"\"\"\n",
    "    GP=GenParticle; i=i-th event; df=dataframe; Tem=temporary; acc=accumulate\n",
    "    \"\"\"\n",
    "    _list_M, _list_MT, _list_mT, _list_ET = [], [], [], []\n",
    "    _list_Dphi, _list_Deta = [], []\n",
    "    _error = []\n",
    "    acc = 0\n",
    "    for i in event_weight_not0:\n",
    "        dfGP = GP.dataframelize(i)\n",
    "        dfGP_DQ_Status = dfGP[(abs(dfGP['PID']) == 4900101) & (dfGP['Status'] == status)]\n",
    "        m1 = dfGP_DQ_Status.iloc[0,6]\n",
    "        pt1 = dfGP_DQ_Status.iloc[0,7]\n",
    "        eta1 = dfGP_DQ_Status.iloc[0,8]\n",
    "        phi1 = dfGP_DQ_Status.iloc[0,9]\n",
    "        m2 = dfGP_DQ_Status.iloc[1,6]\n",
    "        pt2 = dfGP_DQ_Status.iloc[1,7]\n",
    "        eta2 = dfGP_DQ_Status.iloc[1,8]\n",
    "        phi2 = dfGP_DQ_Status.iloc[1,9]\n",
    "        \n",
    "        _list_M.append(M(m1, pt1, eta1, phi1, m2, pt2, eta2, phi2))\n",
    "        _list_MT.append(MT(m1, pt1, eta1, phi1, m2, pt2, eta2, phi2))\n",
    "        _list_mT.append(mT12(m1, pt1, eta1, phi1, m2, pt2, eta2, phi2))\n",
    "        _list_ET.append(ET(m1, pt1, eta1, phi1, m2, pt2, eta2, phi2))\n",
    "        Dphi, Deta = abs(phi1 - phi2), abs(eta1 - eta2)\n",
    "        if Dphi > np.pi:\n",
    "            _list_Dphi.append(2*np.pi - Dphi)\n",
    "        else:\n",
    "            _list_Dphi.append(Dphi)\n",
    "        _list_Deta.append(Deta)\n",
    "        \n",
    "        \n",
    "        if dfGP_DQ_Status.shape[0] != 2:\n",
    "            acc += 1\n",
    "            _error.append(i)\n",
    "            \n",
    "    M_xdxdx, MT_xdxdx = np.array(_list_M), np.array(_list_MT)\n",
    "    mT_xdxdx, ET_xdxdx = np.array(_list_mT), np.array(_list_ET)\n",
    "    Dphi_xdxdx, Deta_xdxdx = np.array(_list_Dphi), np.array(_list_Deta)\n",
    "    data_xdxdx = {\"M_xdxdx\": M_xdxdx, \"MT_xdxdx\": MT_xdxdx,\n",
    "                  \"mT_xdxdx\": mT_xdxdx, \"ET_xdxdx\": ET_xdxdx,\n",
    "                  \"Dphi_xdxdx\": Dphi_xdxdx, \"Deta_xdxdx\": Deta_xdxdx}\n",
    "    df_xdxdx = pd.DataFrame(data_xdxdx)\n",
    "    if acc == 0:\n",
    "        print(\"All events only include 2 particles.\")\n",
    "    else:\n",
    "        print(\"There are {} events with over 2 particles.\".format(acc))\n",
    "        print(_error)\n",
    "    return df_xdxdx"
   ]
  },
  {
   "cell_type": "code",
   "execution_count": 21,
   "metadata": {},
   "outputs": [
    {
     "name": "stdout",
     "output_type": "stream",
     "text": [
      "All events only include 2 particles.\n"
     ]
    }
   ],
   "source": [
    "df_xdxdx_23_test = parse_xdxdx_v2_ckkwl_DP8(GP, status=23)"
   ]
  },
  {
   "cell_type": "code",
   "execution_count": 22,
   "metadata": {},
   "outputs": [
    {
     "data": {
      "text/html": [
       "<div>\n",
       "<style scoped>\n",
       "    .dataframe tbody tr th:only-of-type {\n",
       "        vertical-align: middle;\n",
       "    }\n",
       "\n",
       "    .dataframe tbody tr th {\n",
       "        vertical-align: top;\n",
       "    }\n",
       "\n",
       "    .dataframe thead th {\n",
       "        text-align: right;\n",
       "    }\n",
       "</style>\n",
       "<table border=\"1\" class=\"dataframe\">\n",
       "  <thead>\n",
       "    <tr style=\"text-align: right;\">\n",
       "      <th></th>\n",
       "      <th>M_xdxdx</th>\n",
       "      <th>MT_xdxdx</th>\n",
       "      <th>mT_xdxdx</th>\n",
       "      <th>ET_xdxdx</th>\n",
       "      <th>Dphi_xdxdx</th>\n",
       "      <th>Deta_xdxdx</th>\n",
       "    </tr>\n",
       "  </thead>\n",
       "  <tbody>\n",
       "    <tr>\n",
       "      <th>0</th>\n",
       "      <td>1507.636644</td>\n",
       "      <td>1507.462321</td>\n",
       "      <td>1512.711969</td>\n",
       "      <td>1512.711969</td>\n",
       "      <td>3.014711</td>\n",
       "      <td>0.030355</td>\n",
       "    </tr>\n",
       "    <tr>\n",
       "      <th>1</th>\n",
       "      <td>1468.239444</td>\n",
       "      <td>1081.752578</td>\n",
       "      <td>1468.647231</td>\n",
       "      <td>1468.647231</td>\n",
       "      <td>3.096193</td>\n",
       "      <td>1.643608</td>\n",
       "    </tr>\n",
       "    <tr>\n",
       "      <th>2</th>\n",
       "      <td>1504.344619</td>\n",
       "      <td>1498.178967</td>\n",
       "      <td>1504.621514</td>\n",
       "      <td>1504.621514</td>\n",
       "      <td>3.123330</td>\n",
       "      <td>0.181378</td>\n",
       "    </tr>\n",
       "    <tr>\n",
       "      <th>3</th>\n",
       "      <td>1506.168102</td>\n",
       "      <td>1089.146554</td>\n",
       "      <td>1506.204504</td>\n",
       "      <td>1506.204504</td>\n",
       "      <td>3.131495</td>\n",
       "      <td>1.698638</td>\n",
       "    </tr>\n",
       "    <tr>\n",
       "      <th>4</th>\n",
       "      <td>1533.388259</td>\n",
       "      <td>1201.108746</td>\n",
       "      <td>1539.448959</td>\n",
       "      <td>1539.448959</td>\n",
       "      <td>3.127897</td>\n",
       "      <td>1.455313</td>\n",
       "    </tr>\n",
       "    <tr>\n",
       "      <th>...</th>\n",
       "      <td>...</td>\n",
       "      <td>...</td>\n",
       "      <td>...</td>\n",
       "      <td>...</td>\n",
       "      <td>...</td>\n",
       "      <td>...</td>\n",
       "    </tr>\n",
       "    <tr>\n",
       "      <th>7317</th>\n",
       "      <td>1498.032041</td>\n",
       "      <td>475.409804</td>\n",
       "      <td>1552.484533</td>\n",
       "      <td>1552.484533</td>\n",
       "      <td>2.932542</td>\n",
       "      <td>3.617849</td>\n",
       "    </tr>\n",
       "    <tr>\n",
       "      <th>7318</th>\n",
       "      <td>1529.893599</td>\n",
       "      <td>808.049474</td>\n",
       "      <td>1670.261296</td>\n",
       "      <td>1670.261296</td>\n",
       "      <td>1.801678</td>\n",
       "      <td>2.108055</td>\n",
       "    </tr>\n",
       "    <tr>\n",
       "      <th>7319</th>\n",
       "      <td>1563.256152</td>\n",
       "      <td>1227.471671</td>\n",
       "      <td>1566.392100</td>\n",
       "      <td>1566.392100</td>\n",
       "      <td>2.998684</td>\n",
       "      <td>1.444381</td>\n",
       "    </tr>\n",
       "    <tr>\n",
       "      <th>7320</th>\n",
       "      <td>1530.403208</td>\n",
       "      <td>484.306907</td>\n",
       "      <td>1540.942646</td>\n",
       "      <td>1540.942646</td>\n",
       "      <td>2.429980</td>\n",
       "      <td>3.513257</td>\n",
       "    </tr>\n",
       "    <tr>\n",
       "      <th>7321</th>\n",
       "      <td>1463.710062</td>\n",
       "      <td>1147.137303</td>\n",
       "      <td>1471.155837</td>\n",
       "      <td>1471.155837</td>\n",
       "      <td>2.920415</td>\n",
       "      <td>1.446043</td>\n",
       "    </tr>\n",
       "  </tbody>\n",
       "</table>\n",
       "<p>7322 rows × 6 columns</p>\n",
       "</div>"
      ],
      "text/plain": [
       "          M_xdxdx     MT_xdxdx     mT_xdxdx     ET_xdxdx  Dphi_xdxdx  \\\n",
       "0     1507.636644  1507.462321  1512.711969  1512.711969    3.014711   \n",
       "1     1468.239444  1081.752578  1468.647231  1468.647231    3.096193   \n",
       "2     1504.344619  1498.178967  1504.621514  1504.621514    3.123330   \n",
       "3     1506.168102  1089.146554  1506.204504  1506.204504    3.131495   \n",
       "4     1533.388259  1201.108746  1539.448959  1539.448959    3.127897   \n",
       "...           ...          ...          ...          ...         ...   \n",
       "7317  1498.032041   475.409804  1552.484533  1552.484533    2.932542   \n",
       "7318  1529.893599   808.049474  1670.261296  1670.261296    1.801678   \n",
       "7319  1563.256152  1227.471671  1566.392100  1566.392100    2.998684   \n",
       "7320  1530.403208   484.306907  1540.942646  1540.942646    2.429980   \n",
       "7321  1463.710062  1147.137303  1471.155837  1471.155837    2.920415   \n",
       "\n",
       "      Deta_xdxdx  \n",
       "0       0.030355  \n",
       "1       1.643608  \n",
       "2       0.181378  \n",
       "3       1.698638  \n",
       "4       1.455313  \n",
       "...          ...  \n",
       "7317    3.617849  \n",
       "7318    2.108055  \n",
       "7319    1.444381  \n",
       "7320    3.513257  \n",
       "7321    1.446043  \n",
       "\n",
       "[7322 rows x 6 columns]"
      ]
     },
     "execution_count": 22,
     "metadata": {},
     "output_type": "execute_result"
    }
   ],
   "source": [
    "df_xdxdx_23_test"
   ]
  },
  {
   "cell_type": "markdown",
   "metadata": {},
   "source": [
    "#### Conclusion: Therefore, I need to additionally append the valid event list."
   ]
  },
  {
   "cell_type": "markdown",
   "metadata": {},
   "source": [
    "## 5. Test the New Analysis Script = analysis-1_ckkwl_DP8.py"
   ]
  },
  {
   "cell_type": "markdown",
   "metadata": {},
   "source": [
    "### 5-3. Analyze the Dark Quark Pair"
   ]
  },
  {
   "cell_type": "code",
   "execution_count": 23,
   "metadata": {},
   "outputs": [
    {
     "name": "stdout",
     "output_type": "stream",
     "text": [
      "All events only include 2 particles.\n",
      "All events only include 2 particles.\n"
     ]
    }
   ],
   "source": [
    "df_xdxdx_23 = myparDP8.parse_xdxdx_v2_ckkwl_DP8(GP, event_weight_not0, status=23)\n",
    "df_xdxdx_71 = myparDP8.parse_xdxdx_v2_ckkwl_DP8(GP, event_weight_not0, status=71)"
   ]
  },
  {
   "cell_type": "code",
   "execution_count": 24,
   "metadata": {},
   "outputs": [
    {
     "data": {
      "text/html": [
       "<div>\n",
       "<style scoped>\n",
       "    .dataframe tbody tr th:only-of-type {\n",
       "        vertical-align: middle;\n",
       "    }\n",
       "\n",
       "    .dataframe tbody tr th {\n",
       "        vertical-align: top;\n",
       "    }\n",
       "\n",
       "    .dataframe thead th {\n",
       "        text-align: right;\n",
       "    }\n",
       "</style>\n",
       "<table border=\"1\" class=\"dataframe\">\n",
       "  <thead>\n",
       "    <tr style=\"text-align: right;\">\n",
       "      <th></th>\n",
       "      <th>M_xdxdx</th>\n",
       "      <th>MT_xdxdx</th>\n",
       "      <th>mT_xdxdx</th>\n",
       "      <th>ET_xdxdx</th>\n",
       "      <th>Dphi_xdxdx</th>\n",
       "      <th>Deta_xdxdx</th>\n",
       "    </tr>\n",
       "  </thead>\n",
       "  <tbody>\n",
       "    <tr>\n",
       "      <th>0</th>\n",
       "      <td>1507.636644</td>\n",
       "      <td>1507.462321</td>\n",
       "      <td>1512.711969</td>\n",
       "      <td>1512.711969</td>\n",
       "      <td>3.014711</td>\n",
       "      <td>0.030355</td>\n",
       "    </tr>\n",
       "    <tr>\n",
       "      <th>1</th>\n",
       "      <td>1468.239444</td>\n",
       "      <td>1081.752578</td>\n",
       "      <td>1468.647231</td>\n",
       "      <td>1468.647231</td>\n",
       "      <td>3.096193</td>\n",
       "      <td>1.643608</td>\n",
       "    </tr>\n",
       "    <tr>\n",
       "      <th>2</th>\n",
       "      <td>1504.344619</td>\n",
       "      <td>1498.178967</td>\n",
       "      <td>1504.621514</td>\n",
       "      <td>1504.621514</td>\n",
       "      <td>3.123330</td>\n",
       "      <td>0.181378</td>\n",
       "    </tr>\n",
       "    <tr>\n",
       "      <th>3</th>\n",
       "      <td>1506.168102</td>\n",
       "      <td>1089.146554</td>\n",
       "      <td>1506.204504</td>\n",
       "      <td>1506.204504</td>\n",
       "      <td>3.131495</td>\n",
       "      <td>1.698638</td>\n",
       "    </tr>\n",
       "    <tr>\n",
       "      <th>4</th>\n",
       "      <td>1533.388259</td>\n",
       "      <td>1201.108746</td>\n",
       "      <td>1539.448959</td>\n",
       "      <td>1539.448959</td>\n",
       "      <td>3.127897</td>\n",
       "      <td>1.455313</td>\n",
       "    </tr>\n",
       "    <tr>\n",
       "      <th>...</th>\n",
       "      <td>...</td>\n",
       "      <td>...</td>\n",
       "      <td>...</td>\n",
       "      <td>...</td>\n",
       "      <td>...</td>\n",
       "      <td>...</td>\n",
       "    </tr>\n",
       "    <tr>\n",
       "      <th>7317</th>\n",
       "      <td>1498.032041</td>\n",
       "      <td>475.409804</td>\n",
       "      <td>1552.484533</td>\n",
       "      <td>1552.484533</td>\n",
       "      <td>2.932542</td>\n",
       "      <td>3.617849</td>\n",
       "    </tr>\n",
       "    <tr>\n",
       "      <th>7318</th>\n",
       "      <td>1529.893599</td>\n",
       "      <td>808.049474</td>\n",
       "      <td>1670.261296</td>\n",
       "      <td>1670.261296</td>\n",
       "      <td>1.801678</td>\n",
       "      <td>2.108055</td>\n",
       "    </tr>\n",
       "    <tr>\n",
       "      <th>7319</th>\n",
       "      <td>1563.256152</td>\n",
       "      <td>1227.471671</td>\n",
       "      <td>1566.392100</td>\n",
       "      <td>1566.392100</td>\n",
       "      <td>2.998684</td>\n",
       "      <td>1.444381</td>\n",
       "    </tr>\n",
       "    <tr>\n",
       "      <th>7320</th>\n",
       "      <td>1530.403208</td>\n",
       "      <td>484.306907</td>\n",
       "      <td>1540.942646</td>\n",
       "      <td>1540.942646</td>\n",
       "      <td>2.429980</td>\n",
       "      <td>3.513257</td>\n",
       "    </tr>\n",
       "    <tr>\n",
       "      <th>7321</th>\n",
       "      <td>1463.710062</td>\n",
       "      <td>1147.137303</td>\n",
       "      <td>1471.155837</td>\n",
       "      <td>1471.155837</td>\n",
       "      <td>2.920415</td>\n",
       "      <td>1.446043</td>\n",
       "    </tr>\n",
       "  </tbody>\n",
       "</table>\n",
       "<p>7322 rows × 6 columns</p>\n",
       "</div>"
      ],
      "text/plain": [
       "          M_xdxdx     MT_xdxdx     mT_xdxdx     ET_xdxdx  Dphi_xdxdx  \\\n",
       "0     1507.636644  1507.462321  1512.711969  1512.711969    3.014711   \n",
       "1     1468.239444  1081.752578  1468.647231  1468.647231    3.096193   \n",
       "2     1504.344619  1498.178967  1504.621514  1504.621514    3.123330   \n",
       "3     1506.168102  1089.146554  1506.204504  1506.204504    3.131495   \n",
       "4     1533.388259  1201.108746  1539.448959  1539.448959    3.127897   \n",
       "...           ...          ...          ...          ...         ...   \n",
       "7317  1498.032041   475.409804  1552.484533  1552.484533    2.932542   \n",
       "7318  1529.893599   808.049474  1670.261296  1670.261296    1.801678   \n",
       "7319  1563.256152  1227.471671  1566.392100  1566.392100    2.998684   \n",
       "7320  1530.403208   484.306907  1540.942646  1540.942646    2.429980   \n",
       "7321  1463.710062  1147.137303  1471.155837  1471.155837    2.920415   \n",
       "\n",
       "      Deta_xdxdx  \n",
       "0       0.030355  \n",
       "1       1.643608  \n",
       "2       0.181378  \n",
       "3       1.698638  \n",
       "4       1.455313  \n",
       "...          ...  \n",
       "7317    3.617849  \n",
       "7318    2.108055  \n",
       "7319    1.444381  \n",
       "7320    3.513257  \n",
       "7321    1.446043  \n",
       "\n",
       "[7322 rows x 6 columns]"
      ]
     },
     "execution_count": 24,
     "metadata": {},
     "output_type": "execute_result"
    }
   ],
   "source": [
    "df_xdxdx_23"
   ]
  },
  {
   "cell_type": "code",
   "execution_count": 25,
   "metadata": {},
   "outputs": [
    {
     "data": {
      "text/html": [
       "<div>\n",
       "<style scoped>\n",
       "    .dataframe tbody tr th:only-of-type {\n",
       "        vertical-align: middle;\n",
       "    }\n",
       "\n",
       "    .dataframe tbody tr th {\n",
       "        vertical-align: top;\n",
       "    }\n",
       "\n",
       "    .dataframe thead th {\n",
       "        text-align: right;\n",
       "    }\n",
       "</style>\n",
       "<table border=\"1\" class=\"dataframe\">\n",
       "  <thead>\n",
       "    <tr style=\"text-align: right;\">\n",
       "      <th></th>\n",
       "      <th>M_xdxdx</th>\n",
       "      <th>MT_xdxdx</th>\n",
       "      <th>mT_xdxdx</th>\n",
       "      <th>ET_xdxdx</th>\n",
       "      <th>Dphi_xdxdx</th>\n",
       "      <th>Deta_xdxdx</th>\n",
       "    </tr>\n",
       "  </thead>\n",
       "  <tbody>\n",
       "    <tr>\n",
       "      <th>0</th>\n",
       "      <td>1028.760900</td>\n",
       "      <td>1028.742243</td>\n",
       "      <td>1063.729147</td>\n",
       "      <td>1063.729147</td>\n",
       "      <td>3.090966</td>\n",
       "      <td>0.012050</td>\n",
       "    </tr>\n",
       "    <tr>\n",
       "      <th>1</th>\n",
       "      <td>627.788842</td>\n",
       "      <td>371.290808</td>\n",
       "      <td>663.741608</td>\n",
       "      <td>663.741608</td>\n",
       "      <td>2.121389</td>\n",
       "      <td>2.019419</td>\n",
       "    </tr>\n",
       "    <tr>\n",
       "      <th>2</th>\n",
       "      <td>872.789634</td>\n",
       "      <td>868.344030</td>\n",
       "      <td>889.244642</td>\n",
       "      <td>889.244642</td>\n",
       "      <td>3.090246</td>\n",
       "      <td>0.202224</td>\n",
       "    </tr>\n",
       "    <tr>\n",
       "      <th>3</th>\n",
       "      <td>335.110276</td>\n",
       "      <td>42.071662</td>\n",
       "      <td>383.155727</td>\n",
       "      <td>383.155727</td>\n",
       "      <td>0.479586</td>\n",
       "      <td>3.279907</td>\n",
       "    </tr>\n",
       "    <tr>\n",
       "      <th>4</th>\n",
       "      <td>1243.134252</td>\n",
       "      <td>985.810764</td>\n",
       "      <td>1259.966047</td>\n",
       "      <td>1259.966047</td>\n",
       "      <td>2.906756</td>\n",
       "      <td>1.406944</td>\n",
       "    </tr>\n",
       "    <tr>\n",
       "      <th>...</th>\n",
       "      <td>...</td>\n",
       "      <td>...</td>\n",
       "      <td>...</td>\n",
       "      <td>...</td>\n",
       "      <td>...</td>\n",
       "      <td>...</td>\n",
       "    </tr>\n",
       "    <tr>\n",
       "      <th>7317</th>\n",
       "      <td>769.703241</td>\n",
       "      <td>308.301038</td>\n",
       "      <td>850.113713</td>\n",
       "      <td>850.113713</td>\n",
       "      <td>3.125033</td>\n",
       "      <td>3.125296</td>\n",
       "    </tr>\n",
       "    <tr>\n",
       "      <th>7318</th>\n",
       "      <td>552.178556</td>\n",
       "      <td>43.091309</td>\n",
       "      <td>849.156910</td>\n",
       "      <td>849.156910</td>\n",
       "      <td>0.119417</td>\n",
       "      <td>1.563178</td>\n",
       "    </tr>\n",
       "    <tr>\n",
       "      <th>7319</th>\n",
       "      <td>1081.861620</td>\n",
       "      <td>865.829095</td>\n",
       "      <td>1091.241998</td>\n",
       "      <td>1091.241998</td>\n",
       "      <td>3.009926</td>\n",
       "      <td>1.382381</td>\n",
       "    </tr>\n",
       "    <tr>\n",
       "      <th>7320</th>\n",
       "      <td>1263.659323</td>\n",
       "      <td>404.778161</td>\n",
       "      <td>1271.958083</td>\n",
       "      <td>1271.958083</td>\n",
       "      <td>2.462261</td>\n",
       "      <td>3.498887</td>\n",
       "    </tr>\n",
       "    <tr>\n",
       "      <th>7321</th>\n",
       "      <td>917.067624</td>\n",
       "      <td>761.178800</td>\n",
       "      <td>922.493599</td>\n",
       "      <td>922.493599</td>\n",
       "      <td>2.947320</td>\n",
       "      <td>1.253840</td>\n",
       "    </tr>\n",
       "  </tbody>\n",
       "</table>\n",
       "<p>7322 rows × 6 columns</p>\n",
       "</div>"
      ],
      "text/plain": [
       "          M_xdxdx     MT_xdxdx     mT_xdxdx     ET_xdxdx  Dphi_xdxdx  \\\n",
       "0     1028.760900  1028.742243  1063.729147  1063.729147    3.090966   \n",
       "1      627.788842   371.290808   663.741608   663.741608    2.121389   \n",
       "2      872.789634   868.344030   889.244642   889.244642    3.090246   \n",
       "3      335.110276    42.071662   383.155727   383.155727    0.479586   \n",
       "4     1243.134252   985.810764  1259.966047  1259.966047    2.906756   \n",
       "...           ...          ...          ...          ...         ...   \n",
       "7317   769.703241   308.301038   850.113713   850.113713    3.125033   \n",
       "7318   552.178556    43.091309   849.156910   849.156910    0.119417   \n",
       "7319  1081.861620   865.829095  1091.241998  1091.241998    3.009926   \n",
       "7320  1263.659323   404.778161  1271.958083  1271.958083    2.462261   \n",
       "7321   917.067624   761.178800   922.493599   922.493599    2.947320   \n",
       "\n",
       "      Deta_xdxdx  \n",
       "0       0.012050  \n",
       "1       2.019419  \n",
       "2       0.202224  \n",
       "3       3.279907  \n",
       "4       1.406944  \n",
       "...          ...  \n",
       "7317    3.125296  \n",
       "7318    1.563178  \n",
       "7319    1.382381  \n",
       "7320    3.498887  \n",
       "7321    1.253840  \n",
       "\n",
       "[7322 rows x 6 columns]"
      ]
     },
     "execution_count": 25,
     "metadata": {},
     "output_type": "execute_result"
    }
   ],
   "source": [
    "df_xdxdx_71"
   ]
  },
  {
   "cell_type": "markdown",
   "metadata": {},
   "source": [
    "### 5-4. Select Stable Final State Particle and Filter out Dark Matter"
   ]
  },
  {
   "cell_type": "code",
   "execution_count": 26,
   "metadata": {},
   "outputs": [
    {
     "name": "stdout",
     "output_type": "stream",
     "text": [
      "The PID of dark matter are [51, -51, 53, -53].\n",
      "There are 7322 events with stable final state.\n",
      "There are 7322 events with stable final state and without DM.\n"
     ]
    }
   ],
   "source": [
    "list_SFSP, list_SFSP_filterDM = myparDP8.selectStableFinalStateParticle_filterDM(\n",
    "    GP, event_weight_not0, FILTER=[51, -51, 53, -53])"
   ]
  },
  {
   "cell_type": "code",
   "execution_count": 28,
   "metadata": {},
   "outputs": [
    {
     "data": {
      "text/plain": [
       "array([[ 1.85465679e-01,  7.25326896e-01,  3.27787817e-01, ...,\n",
       "         8.82298768e-01,  5.92146739e-02,  4.08539772e-02],\n",
       "       [-7.36003828e+00, -8.19876957e+00, -7.11297607e+00, ...,\n",
       "        -5.06325424e-01,  7.14360893e-01, -1.19961154e+00],\n",
       "       [-2.26445532e+00,  2.54555655e+00, -3.13126385e-01, ...,\n",
       "        -2.74682951e+00,  1.36656988e+00, -3.03906655e+00],\n",
       "       [ 1.39569998e-01,  1.39569998e-01,  1.39569998e-01, ...,\n",
       "         0.00000000e+00,  0.00000000e+00,  0.00000000e+00],\n",
       "       [ 2.11000000e+02, -2.11000000e+02,  2.11000000e+02, ...,\n",
       "         2.20000000e+01,  2.20000000e+01,  2.20000000e+01]])"
      ]
     },
     "execution_count": 28,
     "metadata": {},
     "output_type": "execute_result"
    }
   ],
   "source": [
    "list_SFSP[0]"
   ]
  },
  {
   "cell_type": "code",
   "execution_count": 29,
   "metadata": {},
   "outputs": [
    {
     "data": {
      "text/plain": [
       "array([[ 1.85465679e-01,  7.25326896e-01,  3.27787817e-01, ...,\n",
       "         8.82298768e-01,  5.92146739e-02,  4.08539772e-02],\n",
       "       [-7.36003828e+00, -8.19876957e+00, -7.11297607e+00, ...,\n",
       "        -5.06325424e-01,  7.14360893e-01, -1.19961154e+00],\n",
       "       [-2.26445532e+00,  2.54555655e+00, -3.13126385e-01, ...,\n",
       "        -2.74682951e+00,  1.36656988e+00, -3.03906655e+00],\n",
       "       [ 1.39569998e-01,  1.39569998e-01,  1.39569998e-01, ...,\n",
       "         0.00000000e+00,  0.00000000e+00,  0.00000000e+00],\n",
       "       [ 2.11000000e+02, -2.11000000e+02,  2.11000000e+02, ...,\n",
       "         2.20000000e+01,  2.20000000e+01,  2.20000000e+01]])"
      ]
     },
     "execution_count": 29,
     "metadata": {},
     "output_type": "execute_result"
    }
   ],
   "source": [
    "list_SFSP_filterDM[0]"
   ]
  },
  {
   "cell_type": "markdown",
   "metadata": {},
   "source": [
    "### 5-5. Let's Do the Jet Clustering!!"
   ]
  },
  {
   "cell_type": "code",
   "execution_count": 31,
   "metadata": {},
   "outputs": [],
   "source": [
    "R = 0.4\n",
    "jetClusteringAlgorithm = -1\n",
    "pTmin_pyjet = 0\n",
    "\n",
    "list_PseudoJet = myafv2.jetClustering(list_SFSP, R=R,\n",
    "                                      p=jetClusteringAlgorithm,\n",
    "                                      pTmin=pTmin_pyjet)\n",
    "list_PseudoJet_filterDM = myafv2.jetClustering(list_SFSP_filterDM, R=R,\n",
    "                                               p=jetClusteringAlgorithm,\n",
    "                                               pTmin=pTmin_pyjet)"
   ]
  },
  {
   "cell_type": "code",
   "execution_count": 40,
   "metadata": {},
   "outputs": [
    {
     "data": {
      "text/plain": [
       "[PseudoJet(pt=728.984, eta=-0.247, phi=-2.799, mass=97.999),\n",
       " PseudoJet(pt=708.831, eta=-0.262, phi=0.463, mass=60.708),\n",
       " PseudoJet(pt=80.476, eta=1.887, phi=-1.083, mass=9.673),\n",
       " PseudoJet(pt=57.552, eta=-1.910, phi=0.581, mass=10.780),\n",
       " PseudoJet(pt=34.003, eta=0.045, phi=3.089, mass=5.587)]"
      ]
     },
     "execution_count": 40,
     "metadata": {},
     "output_type": "execute_result"
    }
   ],
   "source": [
    "list_PseudoJet[0][0:5]"
   ]
  },
  {
   "cell_type": "code",
   "execution_count": 39,
   "metadata": {},
   "outputs": [
    {
     "data": {
      "text/plain": [
       "[PseudoJet(pt=570.051, eta=-0.252, phi=-2.796, mass=77.598),\n",
       " PseudoJet(pt=518.551, eta=-0.267, phi=0.455, mass=38.772),\n",
       " PseudoJet(pt=80.476, eta=1.887, phi=-1.083, mass=9.673),\n",
       " PseudoJet(pt=57.552, eta=-1.910, phi=0.581, mass=10.780),\n",
       " PseudoJet(pt=34.003, eta=0.045, phi=3.089, mass=5.587)]"
      ]
     },
     "execution_count": 39,
     "metadata": {},
     "output_type": "execute_result"
    }
   ],
   "source": [
    "list_PseudoJet_filterDM[0][0:5]"
   ]
  },
  {
   "cell_type": "markdown",
   "metadata": {},
   "source": [
    "### 5-6. Analyze the Jet in the Truth Level"
   ]
  },
  {
   "cell_type": "code",
   "execution_count": 41,
   "metadata": {},
   "outputs": [
    {
     "name": "stdout",
     "output_type": "stream",
     "text": [
      "The order of jets all are no error!!\n",
      "There are 7322 selected events.\n",
      "The order of jets all are no error!!\n",
      "There are 7322 selected events.\n"
     ]
    }
   ],
   "source": [
    "N_jet = 2\n",
    "\n",
    "list_truth_jet = myafv2.preselectTruthJet(list_PseudoJet, N_JET_MIN=N_jet)\n",
    "list_truth_jet_filterDM = myafv2.preselectTruthJet(list_PseudoJet_filterDM,\n",
    "                                                   N_JET_MIN=N_jet)"
   ]
  },
  {
   "cell_type": "code",
   "execution_count": 42,
   "metadata": {},
   "outputs": [
    {
     "data": {
      "text/plain": [
       "[array([1444.24949057,  800.25664476, 1448.981974  , ..., 1480.51192189,\n",
       "        1195.14268779, 1188.20297817]),\n",
       " array([1444.20809938,  694.60474261, 1443.61381775, ..., 1183.55370502,\n",
       "         389.23389739,  988.55260242]),\n",
       " array([1447.00879733,  838.41342761, 1450.18729489, ..., 1483.54801333,\n",
       "        1201.47308886, 1192.93575932]),\n",
       " array([   0,    1,    2, ..., 7319, 7320, 7321]),\n",
       " array([728.98362925, 426.79599686, 744.13915168, ..., 616.15879902,\n",
       "        203.50024788, 514.38461711]),\n",
       " array([708.83137275, 296.79717042, 685.68641073, ..., 564.95693271,\n",
       "        200.48208566, 462.13749999]),\n",
       " array([3.02046775, 2.5320362 , 3.12925191, ..., 3.0061348 , 2.52210752,\n",
       "        2.95177238])]"
      ]
     },
     "execution_count": 42,
     "metadata": {},
     "output_type": "execute_result"
    }
   ],
   "source": [
    "list_truth_jet"
   ]
  },
  {
   "cell_type": "code",
   "execution_count": 43,
   "metadata": {},
   "outputs": [
    {
     "data": {
      "text/plain": [
       "[array([1092.50535411,  716.95029638,  467.63684472, ..., 1032.06891657,\n",
       "        1195.14268779, 1141.57432267]),\n",
       " array([1092.47446063,  433.60423817,  466.56649554, ...,  826.29032984,\n",
       "         389.23389739,  949.23105039]),\n",
       " array([1095.33719147,  770.9670521 ,  586.11580163, ..., 1067.00654388,\n",
       "        1201.47308886, 1148.45095087]),\n",
       " array([   0,    1,    2, ..., 7319, 7320, 7321]),\n",
       " array([570.05066742, 335.59698341, 465.20504585, ..., 564.95693271,\n",
       "        203.50024788, 514.38461711]),\n",
       " array([518.55096828, 175.30181099, 112.16869985, ..., 299.03788128,\n",
       "        200.48208566, 431.63764265]),\n",
       " array([3.03205221, 2.13565298, 3.07771404, ..., 3.01689052, 2.52210752,\n",
       "        2.94103748])]"
      ]
     },
     "execution_count": 43,
     "metadata": {},
     "output_type": "execute_result"
    }
   ],
   "source": [
    "list_truth_jet_filterDM"
   ]
  },
  {
   "cell_type": "markdown",
   "metadata": {},
   "source": [
    "### 5-7. Analyze the MET in the Truth Level"
   ]
  },
  {
   "cell_type": "code",
   "execution_count": 44,
   "metadata": {},
   "outputs": [
    {
     "name": "stdout",
     "output_type": "stream",
     "text": [
      "There are 7322 invisible events.\n",
      "There are 7322 jet events.\n"
     ]
    }
   ],
   "source": [
    "list_truth_MET = myafv2.parseMETTruthJet(list_SFSP_filterDM,\n",
    "                                         list_PseudoJet_filterDM,\n",
    "                                         N_jet_min=N_jet)"
   ]
  },
  {
   "cell_type": "code",
   "execution_count": 45,
   "metadata": {},
   "outputs": [
    {
     "data": {
      "text/plain": [
       "[array([ 41.40285417,  75.87466047, 419.54760045, ..., 317.15452317,\n",
       "         38.45383419,  31.26549214]),\n",
       " array([1.12231463, 3.04668158, 4.89435522, ..., 3.8682515 , 4.72896339,\n",
       "        5.58274997]),\n",
       " array([1133.22551133,  820.31901803, 1003.46845797, ..., 1380.90647769,\n",
       "        1229.55313074, 1174.93911152]),\n",
       " array([2.3644486 , 2.36448407, 3.10803763, ..., 2.99599344, 1.56580607,\n",
       "        3.09812707]),\n",
       " array([   0,    1,    2, ..., 7319, 7320, 7321])]"
      ]
     },
     "execution_count": 45,
     "metadata": {},
     "output_type": "execute_result"
    }
   ],
   "source": [
    "list_truth_MET"
   ]
  },
  {
   "cell_type": "markdown",
   "metadata": {},
   "source": [
    "### 5-8. Analyze the Jet in the Detector Level"
   ]
  },
  {
   "cell_type": "code",
   "execution_count": 46,
   "metadata": {},
   "outputs": [
    {
     "name": "stdout",
     "output_type": "stream",
     "text": [
      "The order of jets all are no error!!\n",
      "There are 2819 selected events.\n"
     ]
    }
   ],
   "source": [
    "pT1_min = 440\n",
    "pT2_min = 60\n",
    "eta12_max = 1.2\n",
    "\n",
    "list_detector_jet = myparDP8.preselectDetectorJet(Jet,\n",
    "                                                  event_weight_not0,\n",
    "                                                  N_JET_MIN=N_jet,\n",
    "                                                  PT1_MIN=pT1_min,\n",
    "                                                  PT2_MIN=pT2_min,\n",
    "                                                  ETA_MAX=eta12_max)"
   ]
  },
  {
   "cell_type": "code",
   "execution_count": 47,
   "metadata": {},
   "outputs": [
    {
     "data": {
      "text/plain": [
       "[array([1301.57285351, 1064.6210029 ,  982.55653551, ..., 1083.73875808,\n",
       "        1089.9781871 , 1163.77880126]),\n",
       " array([1301.43493313, 1059.7557313 ,  975.30195833, ..., 1044.77612102,\n",
       "         960.36560203,  981.41101771]),\n",
       " array([1304.55753221, 1075.68102455,  993.43047459, ..., 1100.18890544,\n",
       "        1091.19315081, 1168.89974414]),\n",
       " array([   0,    3,    6, ..., 9991, 9992, 9999]),\n",
       " array([659.62823, 604.8492 , 552.1388 , ..., 609.7374 , 501.84848,\n",
       "        513.98175], dtype=float32),\n",
       " array([631.54236, 451.47757, 416.54233, ..., 426.89542, 450.40314,\n",
       "        456.24863], dtype=float32),\n",
       " array([3.01196987, 3.11823875, 3.02542186, ..., 3.04365396, 3.1377011 ,\n",
       "        2.9496575 ])]"
      ]
     },
     "execution_count": 47,
     "metadata": {},
     "output_type": "execute_result"
    }
   ],
   "source": [
    "list_detector_jet"
   ]
  },
  {
   "cell_type": "markdown",
   "metadata": {},
   "source": [
    "### 5-9. Define the Event Weight"
   ]
  },
  {
   "cell_type": "code",
   "execution_count": 49,
   "metadata": {},
   "outputs": [],
   "source": [
    "nevents = 10000\n",
    "\n",
    "event_weight = np.array(Event.Weight)/nevents"
   ]
  },
  {
   "cell_type": "code",
   "execution_count": 50,
   "metadata": {},
   "outputs": [
    {
     "data": {
      "text/plain": [
       "array([array([0.00011549], dtype=float32), array([0.], dtype=float32),\n",
       "       array([0.00022193], dtype=float32), ...,\n",
       "       array([0.00018988], dtype=float32),\n",
       "       array([0.00011549], dtype=float32),\n",
       "       array([0.00017455], dtype=float32)], dtype=object)"
      ]
     },
     "execution_count": 50,
     "metadata": {},
     "output_type": "execute_result"
    }
   ],
   "source": [
    "event_weight"
   ]
  },
  {
   "cell_type": "code",
   "execution_count": 54,
   "metadata": {},
   "outputs": [
    {
     "data": {
      "text/plain": [
       "1.1259748"
      ]
     },
     "execution_count": 54,
     "metadata": {},
     "output_type": "execute_result"
    }
   ],
   "source": [
    "np.sum(event_weight)[0]"
   ]
  },
  {
   "cell_type": "code",
   "execution_count": null,
   "metadata": {},
   "outputs": [],
   "source": []
  }
 ],
 "metadata": {
  "kernelspec": {
   "display_name": "Python 3",
   "language": "python",
   "name": "python3"
  },
  "language_info": {
   "codemirror_mode": {
    "name": "ipython",
    "version": 3
   },
   "file_extension": ".py",
   "mimetype": "text/x-python",
   "name": "python",
   "nbconvert_exporter": "python",
   "pygments_lexer": "ipython3",
   "version": "3.8.5"
  }
 },
 "nbformat": 4,
 "nbformat_minor": 4
}
